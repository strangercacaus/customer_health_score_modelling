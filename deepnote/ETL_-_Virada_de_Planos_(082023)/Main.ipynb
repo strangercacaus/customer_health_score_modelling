{
  "cells": [
    {
      "cell_type": "code",
      "source": "import pandas as pd\nimport requests\nimport json\nimport time\nimport random\nurl = \"https://change-plan-dot-astreav2.appspot.com/api/v2/dev/change-plan\"\nedition_type = \"COMPANY\"",
      "metadata": {
        "source_hash": null,
        "execution_start": 1692123476435,
        "execution_millis": 55,
        "deepnote_to_be_reexecuted": false,
        "cell_id": "c4504f94d6544fe097d4e0809fc0ff2d",
        "deepnote_cell_type": "code"
      },
      "outputs": [],
      "execution_count": null,
      "block_group": "8f09c5ea36994b759db78e08b133c766"
    },
    {
      "cell_type": "code",
      "source": "from schedule import *\nfrom backoff import on_exception, expo\nimport requests\nimport threading\nfrom datetime import date, datetime\nimport logging",
      "metadata": {
        "cell_id": "fe77ea145ae4488ab95a6cfc1b43ad2f",
        "deepnote_cell_type": "code"
      },
      "outputs": [],
      "execution_count": null,
      "block_group": "fe77ea145ae4488ab95a6cfc1b43ad2f"
    },
    {
      "cell_type": "code",
      "source": "class OroboroQueryApi:\n    \n    def __init__(self):\n        self.url = 'https://oroboro.aurum.com.br/integration/api/v1/query'\n\n    def get_payload(self, query):\n        return {\"query\": query}\n    \n    def make_request(self, headers, query):\n        payload = self.get_payload(query)\n        response = requests.post(self.url, headers=headers, data=payload)\n        return response",
      "metadata": {
        "source_hash": null,
        "execution_start": 1692127979983,
        "execution_millis": 9,
        "deepnote_to_be_reexecuted": false,
        "cell_id": "880da927aa604d6f88b370af0164dc7c",
        "deepnote_cell_type": "code"
      },
      "outputs": [],
      "execution_count": null,
      "block_group": "880da927aa604d6f88b370af0164dc7c"
    },
    {
      "cell_type": "code",
      "source": "query = \"\"\" select \n\t   c.id as contrato_id,\n\t   c.api_key,\n\t   sc.nome as status,\n\t   c.parcela_dt_proxima,\n\t   p2.nome as periodicidade,\n\t   (select sum(ci.qtde)\n\t   from contratos_items ci\n       where ci.contrato_id = c.id\n       and ci.ativo = true) AS qtde_usuarios,\n       (select sum(ci.qtde)\n\t   from contratos_items ci\n\t   where ci.contrato_id = c.id\n       and ci.item_contrato_id = 21\n       and ci.ativo = true) as qtde_creditos_andamentos,\n       (select sum(ci.qtde)\n       from contratos_items ci\n       join item_contratos ic \n        \ton ic.id = ci.item_contrato_id\n       where ci.contrato_id = c.id\n       and ic.nome like 'Public%'\n       and ci.ativo = true) AS qtde_publicacoes,\n       (select sum(ci.qtde)\n\t   from contratos_items ci\n\t   where ci.contrato_id = c.id\n       and ci.item_contrato_id = 11\n       and ci.ativo = true) as qtde_espaco_disco\nfrom contratos c \njoin status_contratos sc on c.status_id = sc.id\njoin planos p on p.id = c.plano_id \njoin periodicidades p2 on p2.id = c.periodicidade_id\nwhere c.status_id = 3\nand (p.nome like '%pro%' or p.nome like '%starter%')\n\"\"\"",
      "metadata": {
        "cell_id": "114d603681474734b5ab3e60cce332e3",
        "deepnote_cell_type": "code"
      },
      "outputs": [],
      "execution_count": null,
      "block_group": "114d603681474734b5ab3e60cce332e3"
    },
    {
      "cell_type": "code",
      "source": "oroboroapi = OroboroQueryApi()\nheaders = {'Authorization': os.environ[\"OROBORO_AUTH\"]}\nresponse = oroboroapi.make_request(headers = headers, query = query)\ndf = pd.DataFrame(response.json())",
      "metadata": {
        "source_hash": null,
        "execution_start": 1692128220677,
        "execution_millis": 622,
        "deepnote_to_be_reexecuted": false,
        "cell_id": "a9e9e9680c2849cfa4b2f4b8464f4d68",
        "deepnote_cell_type": "code"
      },
      "outputs": [],
      "execution_count": null,
      "block_group": "a9e9e9680c2849cfa4b2f4b8464f4d68"
    },
    {
      "cell_type": "code",
      "source": "pd.DataFrame(response.json())",
      "metadata": {
        "source_hash": null,
        "execution_start": 1692128248481,
        "execution_millis": 127,
        "deepnote_to_be_reexecuted": false,
        "cell_id": "acf1e4467e2942288690a6a9c482f676",
        "deepnote_cell_type": "code"
      },
      "outputs": [
        {
          "output_type": "execute_result",
          "execution_count": 37,
          "data": {
            "application/vnd.deepnote.dataframe.v3+json": {
              "column_count": 3,
              "row_count": 1000,
              "columns": [
                {
                  "name": "api_key",
                  "dtype": "object",
                  "stats": {
                    "unique_count": 998,
                    "nan_count": 2,
                    "categories": [
                      {
                        "name": "4887027430457344",
                        "count": 1
                      },
                      {
                        "name": "997 others",
                        "count": 997
                      },
                      {
                        "name": "Missing",
                        "count": 2
                      }
                    ]
                  }
                },
                {
                  "name": "id",
                  "dtype": "int64",
                  "stats": {
                    "unique_count": 1000,
                    "nan_count": 0,
                    "min": "21",
                    "max": "10616",
                    "histogram": [
                      {
                        "bin_start": 21,
                        "bin_end": 1080.5,
                        "count": 35
                      },
                      {
                        "bin_start": 1080.5,
                        "bin_end": 2140,
                        "count": 24
                      },
                      {
                        "bin_start": 2140,
                        "bin_end": 3199.5,
                        "count": 25
                      },
                      {
                        "bin_start": 3199.5,
                        "bin_end": 4259,
                        "count": 19
                      },
                      {
                        "bin_start": 4259,
                        "bin_end": 5318.5,
                        "count": 19
                      },
                      {
                        "bin_start": 5318.5,
                        "bin_end": 6378,
                        "count": 114
                      },
                      {
                        "bin_start": 6378,
                        "bin_end": 7437.5,
                        "count": 177
                      },
                      {
                        "bin_start": 7437.5,
                        "bin_end": 8497,
                        "count": 119
                      },
                      {
                        "bin_start": 8497,
                        "bin_end": 9556.5,
                        "count": 174
                      },
                      {
                        "bin_start": 9556.5,
                        "bin_end": 10616,
                        "count": 294
                      }
                    ]
                  }
                },
                {
                  "name": "parcela_dt_proxima",
                  "dtype": "object",
                  "stats": {
                    "unique_count": 119,
                    "nan_count": 0,
                    "categories": [
                      {
                        "name": "2023-09-20",
                        "count": 127
                      },
                      {
                        "name": "2023-10-02",
                        "count": 88
                      },
                      {
                        "name": "117 others",
                        "count": 785
                      }
                    ]
                  }
                },
                {
                  "name": "_deepnote_index_column",
                  "dtype": "int64"
                }
              ],
              "rows": [
                {
                  "api_key": "4887027430457344",
                  "id": 21,
                  "parcela_dt_proxima": "2023-09-20",
                  "_deepnote_index_column": 0
                },
                {
                  "api_key": "None",
                  "id": 61,
                  "parcela_dt_proxima": "2022-04-23",
                  "_deepnote_index_column": 1
                },
                {
                  "api_key": "5747687638958080",
                  "id": 91,
                  "parcela_dt_proxima": "2023-09-01",
                  "_deepnote_index_column": 2
                },
                {
                  "api_key": "5990241022246912",
                  "id": 141,
                  "parcela_dt_proxima": "2023-08-18",
                  "_deepnote_index_column": 3
                },
                {
                  "api_key": "5675856898818048",
                  "id": 151,
                  "parcela_dt_proxima": "2023-09-03",
                  "_deepnote_index_column": 4
                },
                {
                  "api_key": "5711442342838272",
                  "id": 181,
                  "parcela_dt_proxima": "2024-03-20",
                  "_deepnote_index_column": 5
                },
                {
                  "api_key": "5973276505407488",
                  "id": 191,
                  "parcela_dt_proxima": "2023-09-01",
                  "_deepnote_index_column": 6
                },
                {
                  "api_key": "5702914928541696",
                  "id": 231,
                  "parcela_dt_proxima": "2024-02-01",
                  "_deepnote_index_column": 7
                },
                {
                  "api_key": "5659686317588480",
                  "id": 251,
                  "parcela_dt_proxima": "2024-04-01",
                  "_deepnote_index_column": 8
                },
                {
                  "api_key": "5763986561695744",
                  "id": 301,
                  "parcela_dt_proxima": "2023-09-09",
                  "_deepnote_index_column": 9
                }
              ]
            },
            "text/plain": "              api_key     id parcela_dt_proxima\n0    4887027430457344     21         2023-09-20\n1                None     61         2022-04-23\n2    5747687638958080     91         2023-09-01\n3    5990241022246912    141         2023-08-18\n4    5675856898818048    151         2023-09-03\n..                ...    ...                ...\n995  6319709915447296  10601         2023-09-18\n996  5659704337891328  10608         2023-09-07\n997  6239266285289472  10609         2023-08-27\n998  5617142453501952  10613         2023-09-02\n999  5139319724965888  10616         2023-09-01\n\n[1000 rows x 3 columns]",
            "text/html": "<div>\n<style scoped>\n    .dataframe tbody tr th:only-of-type {\n        vertical-align: middle;\n    }\n\n    .dataframe tbody tr th {\n        vertical-align: top;\n    }\n\n    .dataframe thead th {\n        text-align: right;\n    }\n</style>\n<table border=\"1\" class=\"dataframe\">\n  <thead>\n    <tr style=\"text-align: right;\">\n      <th></th>\n      <th>api_key</th>\n      <th>id</th>\n      <th>parcela_dt_proxima</th>\n    </tr>\n  </thead>\n  <tbody>\n    <tr>\n      <th>0</th>\n      <td>4887027430457344</td>\n      <td>21</td>\n      <td>2023-09-20</td>\n    </tr>\n    <tr>\n      <th>1</th>\n      <td>None</td>\n      <td>61</td>\n      <td>2022-04-23</td>\n    </tr>\n    <tr>\n      <th>2</th>\n      <td>5747687638958080</td>\n      <td>91</td>\n      <td>2023-09-01</td>\n    </tr>\n    <tr>\n      <th>3</th>\n      <td>5990241022246912</td>\n      <td>141</td>\n      <td>2023-08-18</td>\n    </tr>\n    <tr>\n      <th>4</th>\n      <td>5675856898818048</td>\n      <td>151</td>\n      <td>2023-09-03</td>\n    </tr>\n    <tr>\n      <th>...</th>\n      <td>...</td>\n      <td>...</td>\n      <td>...</td>\n    </tr>\n    <tr>\n      <th>995</th>\n      <td>6319709915447296</td>\n      <td>10601</td>\n      <td>2023-09-18</td>\n    </tr>\n    <tr>\n      <th>996</th>\n      <td>5659704337891328</td>\n      <td>10608</td>\n      <td>2023-09-07</td>\n    </tr>\n    <tr>\n      <th>997</th>\n      <td>6239266285289472</td>\n      <td>10609</td>\n      <td>2023-08-27</td>\n    </tr>\n    <tr>\n      <th>998</th>\n      <td>5617142453501952</td>\n      <td>10613</td>\n      <td>2023-09-02</td>\n    </tr>\n    <tr>\n      <th>999</th>\n      <td>5139319724965888</td>\n      <td>10616</td>\n      <td>2023-09-01</td>\n    </tr>\n  </tbody>\n</table>\n<p>1000 rows × 3 columns</p>\n</div>"
          },
          "metadata": {}
        }
      ],
      "execution_count": null,
      "block_group": "acf1e4467e2942288690a6a9c482f676"
    },
    {
      "cell_type": "code",
      "source": "response",
      "metadata": {
        "cell_id": "c040408c73ce4ed585421cf652213e09",
        "deepnote_cell_type": "code"
      },
      "outputs": [],
      "execution_count": null,
      "block_group": "c040408c73ce4ed585421cf652213e09"
    },
    {
      "cell_type": "code",
      "source": "df_1 = _deepnote_execute_sql('SELECT *\\nFROM \\'/work/Migração company homologacao.csv\\' mch', 'SQL_DEEPNOTE_DATAFRAME_SQL', audit_sql_comment='', sql_cache_mode='cache_disabled')\ndf_1",
      "metadata": {
        "source_hash": null,
        "execution_start": 1692123477147,
        "execution_millis": 636,
        "sql_integration_id": "deepnote-dataframe-sql",
        "deepnote_variable_name": "df_1",
        "deepnote_to_be_reexecuted": false,
        "cell_id": "6e8e71ec4fac47d1bef1c159b7cb28c8",
        "deepnote_cell_type": "sql",
        "deepnote_sql_source": "SELECT *\nFROM '/work/Migração company homologacao.csv' mch"
      },
      "outputs": [
        {
          "data": {
            "application/vnd.deepnote.sql-output-metadata+json": {
              "status": "success_no_cache",
              "size_in_bytes": 3547884
            }
          },
          "metadata": {},
          "output_type": "display_data"
        },
        {
          "output_type": "execute_result",
          "execution_count": 4,
          "data": {
            "application/vnd.deepnote.dataframe.v3+json": {
              "column_count": 11,
              "row_count": 6861,
              "columns": [
                {
                  "name": "api_key",
                  "dtype": "object",
                  "stats": {
                    "unique_count": 6854,
                    "nan_count": 0,
                    "categories": [
                      {
                        "name": "5820814557446144",
                        "count": 2
                      },
                      {
                        "name": "6323934794350592",
                        "count": 2
                      },
                      {
                        "name": "6852 others",
                        "count": 6857
                      }
                    ]
                  }
                },
                {
                  "name": "inicio_data",
                  "dtype": "object",
                  "stats": {
                    "unique_count": 2807,
                    "nan_count": 0,
                    "categories": [
                      {
                        "name": "2022-06-27",
                        "count": 71
                      },
                      {
                        "name": "2022-08-26",
                        "count": 60
                      },
                      {
                        "name": "2805 others",
                        "count": 6730
                      }
                    ]
                  }
                },
                {
                  "name": "cancto_data",
                  "dtype": "object",
                  "stats": {
                    "unique_count": 913,
                    "nan_count": 5139,
                    "categories": [
                      {
                        "name": "2017-04-25",
                        "count": 40
                      },
                      {
                        "name": "912 others",
                        "count": 1682
                      },
                      {
                        "name": "Missing",
                        "count": 5139
                      }
                    ]
                  }
                },
                {
                  "name": "cancto_motivo",
                  "dtype": "object",
                  "stats": {
                    "unique_count": 939,
                    "nan_count": 5672,
                    "categories": [
                      {
                        "name": "INADIMPLENCIA",
                        "count": 40
                      },
                      {
                        "name": "938 others",
                        "count": 1149
                      },
                      {
                        "name": "Missing",
                        "count": 5672
                      }
                    ]
                  }
                },
                {
                  "name": "plano",
                  "dtype": "object",
                  "stats": {
                    "unique_count": 34,
                    "nan_count": 0,
                    "categories": [
                      {
                        "name": "Licenciamento",
                        "count": 1743
                      },
                      {
                        "name": "Astrea Starter Padrão 60 / 25",
                        "count": 826
                      },
                      {
                        "name": "32 others",
                        "count": 4292
                      }
                    ]
                  }
                },
                {
                  "name": "periodicidade",
                  "dtype": "object",
                  "stats": {
                    "unique_count": 5,
                    "nan_count": 0,
                    "categories": [
                      {
                        "name": "Mensal",
                        "count": 6237
                      },
                      {
                        "name": "Anual",
                        "count": 349
                      },
                      {
                        "name": "3 others",
                        "count": 275
                      }
                    ]
                  }
                },
                {
                  "name": "forma_pagamento",
                  "dtype": "object",
                  "stats": {
                    "unique_count": 4,
                    "nan_count": 0,
                    "categories": [
                      {
                        "name": "Boleto",
                        "count": 4874
                      },
                      {
                        "name": "Cartão",
                        "count": 1966
                      },
                      {
                        "name": "2 others",
                        "count": 21
                      }
                    ]
                  }
                },
                {
                  "name": "status",
                  "dtype": "object",
                  "stats": {
                    "unique_count": 6,
                    "nan_count": 0,
                    "categories": [
                      {
                        "name": "Ativo",
                        "count": 4398
                      },
                      {
                        "name": "Encerrado",
                        "count": 1654
                      },
                      {
                        "name": "4 others",
                        "count": 809
                      }
                    ]
                  }
                },
                {
                  "name": "vr_contrato_total_sem_cupons",
                  "dtype": "float64",
                  "stats": {
                    "unique_count": 2467,
                    "nan_count": 687,
                    "min": "0.0",
                    "max": "73562.4",
                    "histogram": [
                      {
                        "bin_start": 0,
                        "bin_end": 7356.24,
                        "count": 6115
                      },
                      {
                        "bin_start": 7356.24,
                        "bin_end": 14712.48,
                        "count": 44
                      },
                      {
                        "bin_start": 14712.48,
                        "bin_end": 22068.72,
                        "count": 6
                      },
                      {
                        "bin_start": 22068.72,
                        "bin_end": 29424.96,
                        "count": 1
                      },
                      {
                        "bin_start": 29424.96,
                        "bin_end": 36781.2,
                        "count": 1
                      },
                      {
                        "bin_start": 36781.2,
                        "bin_end": 44137.44,
                        "count": 1
                      },
                      {
                        "bin_start": 44137.44,
                        "bin_end": 51493.68,
                        "count": 1
                      },
                      {
                        "bin_start": 51493.68,
                        "bin_end": 58849.92,
                        "count": 0
                      },
                      {
                        "bin_start": 58849.92,
                        "bin_end": 66206.16,
                        "count": 3
                      },
                      {
                        "bin_start": 66206.16,
                        "bin_end": 73562.4,
                        "count": 2
                      }
                    ]
                  }
                },
                {
                  "name": "vr_cupons_ativos_total",
                  "dtype": "float64",
                  "stats": {
                    "unique_count": 50,
                    "nan_count": 0,
                    "min": "0.0",
                    "max": "3351.89",
                    "histogram": [
                      {
                        "bin_start": 0,
                        "bin_end": 335.18899999999996,
                        "count": 6853
                      },
                      {
                        "bin_start": 335.18899999999996,
                        "bin_end": 670.3779999999999,
                        "count": 3
                      },
                      {
                        "bin_start": 670.3779999999999,
                        "bin_end": 1005.5669999999999,
                        "count": 2
                      },
                      {
                        "bin_start": 1005.5669999999999,
                        "bin_end": 1340.7559999999999,
                        "count": 1
                      },
                      {
                        "bin_start": 1340.7559999999999,
                        "bin_end": 1675.9449999999997,
                        "count": 0
                      },
                      {
                        "bin_start": 1675.9449999999997,
                        "bin_end": 2011.1339999999998,
                        "count": 0
                      },
                      {
                        "bin_start": 2011.1339999999998,
                        "bin_end": 2346.323,
                        "count": 0
                      },
                      {
                        "bin_start": 2346.323,
                        "bin_end": 2681.5119999999997,
                        "count": 0
                      },
                      {
                        "bin_start": 2681.5119999999997,
                        "bin_end": 3016.7009999999996,
                        "count": 1
                      },
                      {
                        "bin_start": 3016.7009999999996,
                        "bin_end": 3351.89,
                        "count": 1
                      }
                    ]
                  }
                },
                {
                  "name": "vr_contrato_total_com_cupons",
                  "dtype": "float64",
                  "stats": {
                    "unique_count": 2486,
                    "nan_count": 687,
                    "min": "-100.0",
                    "max": "73562.4",
                    "histogram": [
                      {
                        "bin_start": -100,
                        "bin_end": 7266.24,
                        "count": 6115
                      },
                      {
                        "bin_start": 7266.24,
                        "bin_end": 14632.48,
                        "count": 44
                      },
                      {
                        "bin_start": 14632.48,
                        "bin_end": 21998.72,
                        "count": 6
                      },
                      {
                        "bin_start": 21998.72,
                        "bin_end": 29364.96,
                        "count": 1
                      },
                      {
                        "bin_start": 29364.96,
                        "bin_end": 36731.2,
                        "count": 1
                      },
                      {
                        "bin_start": 36731.2,
                        "bin_end": 44097.44,
                        "count": 1
                      },
                      {
                        "bin_start": 44097.44,
                        "bin_end": 51463.68,
                        "count": 1
                      },
                      {
                        "bin_start": 51463.68,
                        "bin_end": 58829.92,
                        "count": 0
                      },
                      {
                        "bin_start": 58829.92,
                        "bin_end": 66196.16,
                        "count": 3
                      },
                      {
                        "bin_start": 66196.16,
                        "bin_end": 73562.4,
                        "count": 2
                      }
                    ]
                  }
                },
                {
                  "name": "_deepnote_index_column",
                  "dtype": "int64"
                }
              ],
              "rows": [
                {
                  "api_key": "5094886499942400",
                  "inicio_data": "2014-02-14",
                  "cancto_data": "2018-10-11",
                  "cancto_motivo": "None",
                  "plano": "Astrea Starter Padrão 50 / 25",
                  "periodicidade": "Anual",
                  "forma_pagamento": "Fatura Paypal",
                  "status": "Encerrado",
                  "vr_contrato_total_sem_cupons": 1739.31,
                  "vr_cupons_ativos_total": 0,
                  "vr_contrato_total_com_cupons": 1739.31,
                  "_deepnote_index_column": 0
                },
                {
                  "api_key": "4887027430457344",
                  "inicio_data": "2014-07-02",
                  "cancto_data": "None",
                  "cancto_motivo": "None",
                  "plano": "Astrea Starter Padrão 50 / 25",
                  "periodicidade": "Mensal",
                  "forma_pagamento": "Boleto",
                  "status": "Ativo",
                  "vr_contrato_total_sem_cupons": 76.46,
                  "vr_cupons_ativos_total": 0,
                  "vr_contrato_total_com_cupons": 76.46,
                  "_deepnote_index_column": 1
                },
                {
                  "api_key": "5671589005754368",
                  "inicio_data": "2014-09-17",
                  "cancto_data": "None",
                  "cancto_motivo": "None",
                  "plano": "Astrea Starter Padrão 50 / 25",
                  "periodicidade": "Mensal",
                  "forma_pagamento": "Boleto",
                  "status": "Ativo",
                  "vr_contrato_total_sem_cupons": 72.67,
                  "vr_cupons_ativos_total": 0,
                  "vr_contrato_total_com_cupons": 72.67,
                  "_deepnote_index_column": 2
                },
                {
                  "api_key": "5747687638958080",
                  "inicio_data": "2013-11-11",
                  "cancto_data": "2022-07-19",
                  "cancto_motivo": "None",
                  "plano": "Astrea Starter Padrão 50 / 25",
                  "periodicidade": "Mensal",
                  "forma_pagamento": "Boleto",
                  "status": "Encerrado",
                  "vr_contrato_total_sem_cupons": 72.66,
                  "vr_cupons_ativos_total": 0,
                  "vr_contrato_total_com_cupons": 72.66,
                  "_deepnote_index_column": 3
                },
                {
                  "api_key": "5679369808773120",
                  "inicio_data": "2014-02-10",
                  "cancto_data": "2017-06-30",
                  "cancto_motivo": "TESTE",
                  "plano": "Astrea Starter Padrão 50 / 25",
                  "periodicidade": "Mensal",
                  "forma_pagamento": "Boleto",
                  "status": "Encerrado",
                  "vr_contrato_total_sem_cupons": 61.09,
                  "vr_cupons_ativos_total": 0,
                  "vr_contrato_total_com_cupons": 61.09,
                  "_deepnote_index_column": 4
                },
                {
                  "api_key": "5633196813189120",
                  "inicio_data": "2014-08-27",
                  "cancto_data": "None",
                  "cancto_motivo": "None",
                  "plano": "Astrea Starter Padrão 50 / 25",
                  "periodicidade": "Mensal",
                  "forma_pagamento": "Boleto",
                  "status": "Ativo",
                  "vr_contrato_total_sem_cupons": 70.74,
                  "vr_cupons_ativos_total": 0,
                  "vr_contrato_total_com_cupons": 70.74,
                  "_deepnote_index_column": 5
                },
                {
                  "api_key": "5744287786467328",
                  "inicio_data": "2014-07-28",
                  "cancto_data": "None",
                  "cancto_motivo": "None",
                  "plano": "Astrea Starter Padrão 50 / 25",
                  "periodicidade": "Mensal",
                  "forma_pagamento": "Boleto",
                  "status": "Ativo",
                  "vr_contrato_total_sem_cupons": 105.65,
                  "vr_cupons_ativos_total": 0,
                  "vr_contrato_total_com_cupons": 105.65,
                  "_deepnote_index_column": 6
                },
                {
                  "api_key": "5124630608084992",
                  "inicio_data": "2014-08-18",
                  "cancto_data": "None",
                  "cancto_motivo": "None",
                  "plano": "Astrea Starter Padrão 50 / 25",
                  "periodicidade": "Mensal",
                  "forma_pagamento": "Boleto",
                  "status": "Ativo",
                  "vr_contrato_total_sem_cupons": 155,
                  "vr_cupons_ativos_total": 0,
                  "vr_contrato_total_com_cupons": 155,
                  "_deepnote_index_column": 7
                },
                {
                  "api_key": "5990241022246912",
                  "inicio_data": "2014-12-16",
                  "cancto_data": "None",
                  "cancto_motivo": "None",
                  "plano": "Astrea Starter Padrão 60 / 25",
                  "periodicidade": "Mensal",
                  "forma_pagamento": "Boleto",
                  "status": "Ativo",
                  "vr_contrato_total_sem_cupons": 86.9,
                  "vr_cupons_ativos_total": 0,
                  "vr_contrato_total_com_cupons": 86.9,
                  "_deepnote_index_column": 8
                },
                {
                  "api_key": "5675856898818048",
                  "inicio_data": "2015-01-07",
                  "cancto_data": "None",
                  "cancto_motivo": "None",
                  "plano": "Astrea Starter Padrão 60 / 25",
                  "periodicidade": "Mensal",
                  "forma_pagamento": "Boleto",
                  "status": "Ativo",
                  "vr_contrato_total_sem_cupons": 377.47,
                  "vr_cupons_ativos_total": 0,
                  "vr_contrato_total_com_cupons": 377.47,
                  "_deepnote_index_column": 9
                }
              ]
            },
            "text/plain": "               api_key inicio_data cancto_data cancto_motivo  \\\n0     5094886499942400  2014-02-14  2018-10-11          None   \n1     4887027430457344  2014-07-02        None          None   \n2     5671589005754368  2014-09-17        None          None   \n3     5747687638958080  2013-11-11  2022-07-19          None   \n4     5679369808773120  2014-02-10  2017-06-30         TESTE   \n...                ...         ...         ...           ...   \n6856  4845217437450240  2023-08-09        None          None   \n6857  6257091030810624  2023-08-09        None          None   \n6858  4920083951910912  2023-08-09        None          None   \n6859  4888634724974592  2023-08-09        None          None   \n6860  6313746481283072  2023-08-09        None          None   \n\n                              plano periodicidade forma_pagamento  \\\n0     Astrea Starter Padrão 50 / 25         Anual   Fatura Paypal   \n1     Astrea Starter Padrão 50 / 25        Mensal          Boleto   \n2     Astrea Starter Padrão 50 / 25        Mensal          Boleto   \n3     Astrea Starter Padrão 50 / 25        Mensal          Boleto   \n4     Astrea Starter Padrão 50 / 25        Mensal          Boleto   \n...                             ...           ...             ...   \n6856                          Smart        Mensal          Boleto   \n6857                          Smart        Mensal          Boleto   \n6858                          Smart        Mensal          Boleto   \n6859                          Smart        Mensal          Boleto   \n6860                            VIP        Mensal          Boleto   \n\n           status  vr_contrato_total_sem_cupons  vr_cupons_ativos_total  \\\n0       Encerrado                       1739.31                    0.00   \n1           Ativo                         76.46                    0.00   \n2           Ativo                         72.67                    0.00   \n3       Encerrado                         72.66                    0.00   \n4       Encerrado                         61.09                    0.00   \n...           ...                           ...                     ...   \n6856  Em Ativação                        317.00                   23.71   \n6857  Em Ativação                        317.00                    0.00   \n6858  Em Ativação                        317.00                    0.00   \n6859  Em Ativação                        317.00                    0.00   \n6860  Em Ativação                        997.00                   35.23   \n\n      vr_contrato_total_com_cupons  \n0                          1739.31  \n1                            76.46  \n2                            72.67  \n3                            72.66  \n4                            61.09  \n...                            ...  \n6856                        293.29  \n6857                        317.00  \n6858                        317.00  \n6859                        317.00  \n6860                        961.77  \n\n[6861 rows x 11 columns]",
            "text/html": "<div>\n<style scoped>\n    .dataframe tbody tr th:only-of-type {\n        vertical-align: middle;\n    }\n\n    .dataframe tbody tr th {\n        vertical-align: top;\n    }\n\n    .dataframe thead th {\n        text-align: right;\n    }\n</style>\n<table border=\"1\" class=\"dataframe\">\n  <thead>\n    <tr style=\"text-align: right;\">\n      <th></th>\n      <th>api_key</th>\n      <th>inicio_data</th>\n      <th>cancto_data</th>\n      <th>cancto_motivo</th>\n      <th>plano</th>\n      <th>periodicidade</th>\n      <th>forma_pagamento</th>\n      <th>status</th>\n      <th>vr_contrato_total_sem_cupons</th>\n      <th>vr_cupons_ativos_total</th>\n      <th>vr_contrato_total_com_cupons</th>\n    </tr>\n  </thead>\n  <tbody>\n    <tr>\n      <th>0</th>\n      <td>5094886499942400</td>\n      <td>2014-02-14</td>\n      <td>2018-10-11</td>\n      <td>None</td>\n      <td>Astrea Starter Padrão 50 / 25</td>\n      <td>Anual</td>\n      <td>Fatura Paypal</td>\n      <td>Encerrado</td>\n      <td>1739.31</td>\n      <td>0.00</td>\n      <td>1739.31</td>\n    </tr>\n    <tr>\n      <th>1</th>\n      <td>4887027430457344</td>\n      <td>2014-07-02</td>\n      <td>None</td>\n      <td>None</td>\n      <td>Astrea Starter Padrão 50 / 25</td>\n      <td>Mensal</td>\n      <td>Boleto</td>\n      <td>Ativo</td>\n      <td>76.46</td>\n      <td>0.00</td>\n      <td>76.46</td>\n    </tr>\n    <tr>\n      <th>2</th>\n      <td>5671589005754368</td>\n      <td>2014-09-17</td>\n      <td>None</td>\n      <td>None</td>\n      <td>Astrea Starter Padrão 50 / 25</td>\n      <td>Mensal</td>\n      <td>Boleto</td>\n      <td>Ativo</td>\n      <td>72.67</td>\n      <td>0.00</td>\n      <td>72.67</td>\n    </tr>\n    <tr>\n      <th>3</th>\n      <td>5747687638958080</td>\n      <td>2013-11-11</td>\n      <td>2022-07-19</td>\n      <td>None</td>\n      <td>Astrea Starter Padrão 50 / 25</td>\n      <td>Mensal</td>\n      <td>Boleto</td>\n      <td>Encerrado</td>\n      <td>72.66</td>\n      <td>0.00</td>\n      <td>72.66</td>\n    </tr>\n    <tr>\n      <th>4</th>\n      <td>5679369808773120</td>\n      <td>2014-02-10</td>\n      <td>2017-06-30</td>\n      <td>TESTE</td>\n      <td>Astrea Starter Padrão 50 / 25</td>\n      <td>Mensal</td>\n      <td>Boleto</td>\n      <td>Encerrado</td>\n      <td>61.09</td>\n      <td>0.00</td>\n      <td>61.09</td>\n    </tr>\n    <tr>\n      <th>...</th>\n      <td>...</td>\n      <td>...</td>\n      <td>...</td>\n      <td>...</td>\n      <td>...</td>\n      <td>...</td>\n      <td>...</td>\n      <td>...</td>\n      <td>...</td>\n      <td>...</td>\n      <td>...</td>\n    </tr>\n    <tr>\n      <th>6856</th>\n      <td>4845217437450240</td>\n      <td>2023-08-09</td>\n      <td>None</td>\n      <td>None</td>\n      <td>Smart</td>\n      <td>Mensal</td>\n      <td>Boleto</td>\n      <td>Em Ativação</td>\n      <td>317.00</td>\n      <td>23.71</td>\n      <td>293.29</td>\n    </tr>\n    <tr>\n      <th>6857</th>\n      <td>6257091030810624</td>\n      <td>2023-08-09</td>\n      <td>None</td>\n      <td>None</td>\n      <td>Smart</td>\n      <td>Mensal</td>\n      <td>Boleto</td>\n      <td>Em Ativação</td>\n      <td>317.00</td>\n      <td>0.00</td>\n      <td>317.00</td>\n    </tr>\n    <tr>\n      <th>6858</th>\n      <td>4920083951910912</td>\n      <td>2023-08-09</td>\n      <td>None</td>\n      <td>None</td>\n      <td>Smart</td>\n      <td>Mensal</td>\n      <td>Boleto</td>\n      <td>Em Ativação</td>\n      <td>317.00</td>\n      <td>0.00</td>\n      <td>317.00</td>\n    </tr>\n    <tr>\n      <th>6859</th>\n      <td>4888634724974592</td>\n      <td>2023-08-09</td>\n      <td>None</td>\n      <td>None</td>\n      <td>Smart</td>\n      <td>Mensal</td>\n      <td>Boleto</td>\n      <td>Em Ativação</td>\n      <td>317.00</td>\n      <td>0.00</td>\n      <td>317.00</td>\n    </tr>\n    <tr>\n      <th>6860</th>\n      <td>6313746481283072</td>\n      <td>2023-08-09</td>\n      <td>None</td>\n      <td>None</td>\n      <td>VIP</td>\n      <td>Mensal</td>\n      <td>Boleto</td>\n      <td>Em Ativação</td>\n      <td>997.00</td>\n      <td>35.23</td>\n      <td>961.77</td>\n    </tr>\n  </tbody>\n</table>\n<p>6861 rows × 11 columns</p>\n</div>"
          },
          "metadata": {}
        }
      ],
      "execution_count": null,
      "block_group": "294f8d43e7864998b8f982d8782f6ba1"
    },
    {
      "cell_type": "code",
      "source": "df_2 = _deepnote_execute_sql('SELECT d1.*\\nFROM df_1 d1\\njoin df_3 d3 on d1.api_key = d3.api_key\\nlimit 15\\noffset 6', 'SQL_DEEPNOTE_DATAFRAME_SQL', audit_sql_comment='', sql_cache_mode='cache_disabled')\ndf_2",
      "metadata": {
        "source_hash": null,
        "execution_start": 1692123477346,
        "execution_millis": 192,
        "sql_integration_id": "deepnote-dataframe-sql",
        "deepnote_variable_name": "df_2",
        "deepnote_to_be_reexecuted": false,
        "cell_id": "8f5866f3aa8a4997beb3cf7773bd938b",
        "deepnote_cell_type": "sql",
        "deepnote_sql_source": "SELECT d1.*\nFROM df_1 d1\njoin df_3 d3 on d1.api_key = d3.api_key\nlimit 15\noffset 6"
      },
      "outputs": [
        {
          "data": {
            "application/vnd.deepnote.sql-output-metadata+json": {
              "status": "success_no_cache",
              "size_in_bytes": 7982
            }
          },
          "metadata": {},
          "output_type": "display_data"
        },
        {
          "output_type": "execute_result",
          "execution_count": 5,
          "data": {
            "application/vnd.deepnote.dataframe.v3+json": {
              "column_count": 11,
              "row_count": 15,
              "columns": [
                {
                  "name": "api_key",
                  "dtype": "object",
                  "stats": {
                    "unique_count": 15,
                    "nan_count": 0,
                    "categories": [
                      {
                        "name": "5633064340291584",
                        "count": 1
                      },
                      {
                        "name": "6208840676671488",
                        "count": 1
                      },
                      {
                        "name": "13 others",
                        "count": 13
                      }
                    ]
                  }
                },
                {
                  "name": "inicio_data",
                  "dtype": "object",
                  "stats": {
                    "unique_count": 7,
                    "nan_count": 0,
                    "categories": [
                      {
                        "name": "2017-04-20",
                        "count": 8
                      },
                      {
                        "name": "2017-04-06",
                        "count": 2
                      },
                      {
                        "name": "5 others",
                        "count": 5
                      }
                    ]
                  }
                },
                {
                  "name": "cancto_data",
                  "dtype": "object",
                  "stats": {
                    "unique_count": 1,
                    "nan_count": 14,
                    "categories": [
                      {
                        "name": "2017-04-17",
                        "count": 1
                      },
                      {
                        "name": "Missing",
                        "count": 14
                      }
                    ]
                  }
                },
                {
                  "name": "cancto_motivo",
                  "dtype": "object",
                  "stats": {
                    "unique_count": 0,
                    "nan_count": 15,
                    "categories": [
                      {
                        "name": "Missing",
                        "count": 15
                      }
                    ]
                  }
                },
                {
                  "name": "plano",
                  "dtype": "object",
                  "stats": {
                    "unique_count": 2,
                    "nan_count": 0,
                    "categories": [
                      {
                        "name": "Astrea Starter Padrão 67 / 30",
                        "count": 10
                      },
                      {
                        "name": "Astrea Pro 257 / 45",
                        "count": 5
                      }
                    ]
                  }
                },
                {
                  "name": "periodicidade",
                  "dtype": "object",
                  "stats": {
                    "unique_count": 3,
                    "nan_count": 0,
                    "categories": [
                      {
                        "name": "Mensal",
                        "count": 9
                      },
                      {
                        "name": "Semestral",
                        "count": 4
                      },
                      {
                        "name": "Anual",
                        "count": 2
                      }
                    ]
                  }
                },
                {
                  "name": "forma_pagamento",
                  "dtype": "object",
                  "stats": {
                    "unique_count": 2,
                    "nan_count": 0,
                    "categories": [
                      {
                        "name": "Cartão",
                        "count": 12
                      },
                      {
                        "name": "Boleto",
                        "count": 3
                      }
                    ]
                  }
                },
                {
                  "name": "status",
                  "dtype": "object",
                  "stats": {
                    "unique_count": 2,
                    "nan_count": 0,
                    "categories": [
                      {
                        "name": "Ativo",
                        "count": 13
                      },
                      {
                        "name": "Em Ativação",
                        "count": 2
                      }
                    ]
                  }
                },
                {
                  "name": "vr_contrato_total_sem_cupons",
                  "dtype": "float64",
                  "stats": {
                    "unique_count": 14,
                    "nan_count": 0,
                    "min": "67.0",
                    "max": "4641.0",
                    "histogram": [
                      {
                        "bin_start": 67,
                        "bin_end": 524.4,
                        "count": 9
                      },
                      {
                        "bin_start": 524.4,
                        "bin_end": 981.8,
                        "count": 1
                      },
                      {
                        "bin_start": 981.8,
                        "bin_end": 1439.1999999999998,
                        "count": 1
                      },
                      {
                        "bin_start": 1439.1999999999998,
                        "bin_end": 1896.6,
                        "count": 1
                      },
                      {
                        "bin_start": 1896.6,
                        "bin_end": 2354,
                        "count": 0
                      },
                      {
                        "bin_start": 2354,
                        "bin_end": 2811.3999999999996,
                        "count": 0
                      },
                      {
                        "bin_start": 2811.3999999999996,
                        "bin_end": 3268.7999999999997,
                        "count": 1
                      },
                      {
                        "bin_start": 3268.7999999999997,
                        "bin_end": 3726.2,
                        "count": 1
                      },
                      {
                        "bin_start": 3726.2,
                        "bin_end": 4183.599999999999,
                        "count": 0
                      },
                      {
                        "bin_start": 4183.599999999999,
                        "bin_end": 4641,
                        "count": 1
                      }
                    ]
                  }
                },
                {
                  "name": "vr_cupons_ativos_total",
                  "dtype": "float64",
                  "stats": {
                    "unique_count": 1,
                    "nan_count": 0,
                    "min": "0.0",
                    "max": "0.0",
                    "histogram": [
                      {
                        "bin_start": -0.5,
                        "bin_end": -0.4,
                        "count": 0
                      },
                      {
                        "bin_start": -0.4,
                        "bin_end": -0.3,
                        "count": 0
                      },
                      {
                        "bin_start": -0.3,
                        "bin_end": -0.19999999999999996,
                        "count": 0
                      },
                      {
                        "bin_start": -0.19999999999999996,
                        "bin_end": -0.09999999999999998,
                        "count": 0
                      },
                      {
                        "bin_start": -0.09999999999999998,
                        "bin_end": 0,
                        "count": 0
                      },
                      {
                        "bin_start": 0,
                        "bin_end": 0.10000000000000009,
                        "count": 15
                      },
                      {
                        "bin_start": 0.10000000000000009,
                        "bin_end": 0.20000000000000007,
                        "count": 0
                      },
                      {
                        "bin_start": 0.20000000000000007,
                        "bin_end": 0.30000000000000004,
                        "count": 0
                      },
                      {
                        "bin_start": 0.30000000000000004,
                        "bin_end": 0.4,
                        "count": 0
                      },
                      {
                        "bin_start": 0.4,
                        "bin_end": 0.5,
                        "count": 0
                      }
                    ]
                  }
                },
                {
                  "name": "vr_contrato_total_com_cupons",
                  "dtype": "float64",
                  "stats": {
                    "unique_count": 14,
                    "nan_count": 0,
                    "min": "67.0",
                    "max": "4641.0",
                    "histogram": [
                      {
                        "bin_start": 67,
                        "bin_end": 524.4,
                        "count": 9
                      },
                      {
                        "bin_start": 524.4,
                        "bin_end": 981.8,
                        "count": 1
                      },
                      {
                        "bin_start": 981.8,
                        "bin_end": 1439.1999999999998,
                        "count": 1
                      },
                      {
                        "bin_start": 1439.1999999999998,
                        "bin_end": 1896.6,
                        "count": 1
                      },
                      {
                        "bin_start": 1896.6,
                        "bin_end": 2354,
                        "count": 0
                      },
                      {
                        "bin_start": 2354,
                        "bin_end": 2811.3999999999996,
                        "count": 0
                      },
                      {
                        "bin_start": 2811.3999999999996,
                        "bin_end": 3268.7999999999997,
                        "count": 1
                      },
                      {
                        "bin_start": 3268.7999999999997,
                        "bin_end": 3726.2,
                        "count": 1
                      },
                      {
                        "bin_start": 3726.2,
                        "bin_end": 4183.599999999999,
                        "count": 0
                      },
                      {
                        "bin_start": 4183.599999999999,
                        "bin_end": 4641,
                        "count": 1
                      }
                    ]
                  }
                },
                {
                  "name": "_deepnote_index_column",
                  "dtype": "int64"
                }
              ],
              "rows": [
                {
                  "api_key": "5633064340291584",
                  "inicio_data": "2017-04-06",
                  "cancto_data": "None",
                  "cancto_motivo": "None",
                  "plano": "Astrea Starter Padrão 67 / 30",
                  "periodicidade": "Semestral",
                  "forma_pagamento": "Cartão",
                  "status": "Ativo",
                  "vr_contrato_total_sem_cupons": 1322.4,
                  "vr_cupons_ativos_total": 0,
                  "vr_contrato_total_com_cupons": 1322.4,
                  "_deepnote_index_column": 0
                },
                {
                  "api_key": "6208840676671488",
                  "inicio_data": "2017-04-06",
                  "cancto_data": "None",
                  "cancto_motivo": "None",
                  "plano": "Astrea Starter Padrão 67 / 30",
                  "periodicidade": "Mensal",
                  "forma_pagamento": "Cartão",
                  "status": "Ativo",
                  "vr_contrato_total_sem_cupons": 382,
                  "vr_cupons_ativos_total": 0,
                  "vr_contrato_total_com_cupons": 382,
                  "_deepnote_index_column": 1
                },
                {
                  "api_key": "6139391860801536",
                  "inicio_data": "2017-04-10",
                  "cancto_data": "None",
                  "cancto_motivo": "None",
                  "plano": "Astrea Starter Padrão 67 / 30",
                  "periodicidade": "Mensal",
                  "forma_pagamento": "Boleto",
                  "status": "Em Ativação",
                  "vr_contrato_total_sem_cupons": 381.9,
                  "vr_cupons_ativos_total": 0,
                  "vr_contrato_total_com_cupons": 381.9,
                  "_deepnote_index_column": 2
                },
                {
                  "api_key": "4862106167934976",
                  "inicio_data": "2017-04-11",
                  "cancto_data": "None",
                  "cancto_motivo": "None",
                  "plano": "Astrea Starter Padrão 67 / 30",
                  "periodicidade": "Semestral",
                  "forma_pagamento": "Cartão",
                  "status": "Ativo",
                  "vr_contrato_total_sem_cupons": 381.9,
                  "vr_cupons_ativos_total": 0,
                  "vr_contrato_total_com_cupons": 381.9,
                  "_deepnote_index_column": 3
                },
                {
                  "api_key": "5176017274535936",
                  "inicio_data": "2017-04-12",
                  "cancto_data": "None",
                  "cancto_motivo": "None",
                  "plano": "Astrea Starter Padrão 67 / 30",
                  "periodicidade": "Mensal",
                  "forma_pagamento": "Cartão",
                  "status": "Ativo",
                  "vr_contrato_total_sem_cupons": 67,
                  "vr_cupons_ativos_total": 0,
                  "vr_contrato_total_com_cupons": 67,
                  "_deepnote_index_column": 4
                },
                {
                  "api_key": "5672117672607744",
                  "inicio_data": "2017-04-20",
                  "cancto_data": "2017-04-17",
                  "cancto_motivo": "None",
                  "plano": "Astrea Starter Padrão 67 / 30",
                  "periodicidade": "Mensal",
                  "forma_pagamento": "Boleto",
                  "status": "Ativo",
                  "vr_contrato_total_sem_cupons": 283.01,
                  "vr_cupons_ativos_total": 0,
                  "vr_contrato_total_com_cupons": 283.01,
                  "_deepnote_index_column": 5
                },
                {
                  "api_key": "5107403318099968",
                  "inicio_data": "2017-04-13",
                  "cancto_data": "None",
                  "cancto_motivo": "None",
                  "plano": "Astrea Starter Padrão 67 / 30",
                  "periodicidade": "Mensal",
                  "forma_pagamento": "Cartão",
                  "status": "Ativo",
                  "vr_contrato_total_sem_cupons": 102,
                  "vr_cupons_ativos_total": 0,
                  "vr_contrato_total_com_cupons": 102,
                  "_deepnote_index_column": 6
                },
                {
                  "api_key": "6295800074207232",
                  "inicio_data": "2017-04-18",
                  "cancto_data": "None",
                  "cancto_motivo": "None",
                  "plano": "Astrea Starter Padrão 67 / 30",
                  "periodicidade": "Mensal",
                  "forma_pagamento": "Cartão",
                  "status": "Ativo",
                  "vr_contrato_total_sem_cupons": 122,
                  "vr_cupons_ativos_total": 0,
                  "vr_contrato_total_com_cupons": 122,
                  "_deepnote_index_column": 7
                },
                {
                  "api_key": "5633190504955904",
                  "inicio_data": "2017-04-20",
                  "cancto_data": "None",
                  "cancto_motivo": "None",
                  "plano": "Astrea Starter Padrão 67 / 30",
                  "periodicidade": "Mensal",
                  "forma_pagamento": "Cartão",
                  "status": "Ativo",
                  "vr_contrato_total_sem_cupons": 177,
                  "vr_cupons_ativos_total": 0,
                  "vr_contrato_total_com_cupons": 177,
                  "_deepnote_index_column": 8
                },
                {
                  "api_key": "4901912193269760",
                  "inicio_data": "2017-04-20",
                  "cancto_data": "None",
                  "cancto_motivo": "None",
                  "plano": "Astrea Pro 257 / 45",
                  "periodicidade": "Anual",
                  "forma_pagamento": "Cartão",
                  "status": "Ativo",
                  "vr_contrato_total_sem_cupons": 4641,
                  "vr_cupons_ativos_total": 0,
                  "vr_contrato_total_com_cupons": 4641,
                  "_deepnote_index_column": 9
                }
              ]
            },
            "text/plain": "             api_key inicio_data cancto_data cancto_motivo  \\\n0   5633064340291584  2017-04-06        None          None   \n1   6208840676671488  2017-04-06        None          None   \n2   6139391860801536  2017-04-10        None          None   \n3   4862106167934976  2017-04-11        None          None   \n4   5176017274535936  2017-04-12        None          None   \n5   5672117672607744  2017-04-20  2017-04-17          None   \n6   5107403318099968  2017-04-13        None          None   \n7   6295800074207232  2017-04-18        None          None   \n8   5633190504955904  2017-04-20        None          None   \n9   4901912193269760  2017-04-20        None          None   \n10  5637191535427584  2017-04-20        None          None   \n11  5665952515489792  2017-04-20        None          None   \n12  6305054118117376  2017-04-20        None          None   \n13  5636420857233408  2017-04-20        None          None   \n14  6323934794350592  2017-04-20        None          None   \n\n                            plano periodicidade forma_pagamento       status  \\\n0   Astrea Starter Padrão 67 / 30     Semestral          Cartão        Ativo   \n1   Astrea Starter Padrão 67 / 30        Mensal          Cartão        Ativo   \n2   Astrea Starter Padrão 67 / 30        Mensal          Boleto  Em Ativação   \n3   Astrea Starter Padrão 67 / 30     Semestral          Cartão        Ativo   \n4   Astrea Starter Padrão 67 / 30        Mensal          Cartão        Ativo   \n5   Astrea Starter Padrão 67 / 30        Mensal          Boleto        Ativo   \n6   Astrea Starter Padrão 67 / 30        Mensal          Cartão        Ativo   \n7   Astrea Starter Padrão 67 / 30        Mensal          Cartão        Ativo   \n8   Astrea Starter Padrão 67 / 30        Mensal          Cartão        Ativo   \n9             Astrea Pro 257 / 45         Anual          Cartão        Ativo   \n10  Astrea Starter Padrão 67 / 30     Semestral          Cartão        Ativo   \n11            Astrea Pro 257 / 45     Semestral          Cartão        Ativo   \n12            Astrea Pro 257 / 45         Anual          Cartão        Ativo   \n13            Astrea Pro 257 / 45        Mensal          Boleto        Ativo   \n14            Astrea Pro 257 / 45        Mensal          Cartão  Em Ativação   \n\n    vr_contrato_total_sem_cupons  vr_cupons_ativos_total  \\\n0                        1322.40                     0.0   \n1                         382.00                     0.0   \n2                         381.90                     0.0   \n3                         381.90                     0.0   \n4                          67.00                     0.0   \n5                         283.01                     0.0   \n6                         102.00                     0.0   \n7                         122.00                     0.0   \n8                         177.00                     0.0   \n9                        4641.00                     0.0   \n10                       1711.80                     0.0   \n11                       2953.80                     0.0   \n12                       3590.40                     0.0   \n13                        861.87                     0.0   \n14                        297.00                     0.0   \n\n    vr_contrato_total_com_cupons  \n0                        1322.40  \n1                         382.00  \n2                         381.90  \n3                         381.90  \n4                          67.00  \n5                         283.01  \n6                         102.00  \n7                         122.00  \n8                         177.00  \n9                        4641.00  \n10                       1711.80  \n11                       2953.80  \n12                       3590.40  \n13                        861.87  \n14                        297.00  ",
            "text/html": "<div>\n<style scoped>\n    .dataframe tbody tr th:only-of-type {\n        vertical-align: middle;\n    }\n\n    .dataframe tbody tr th {\n        vertical-align: top;\n    }\n\n    .dataframe thead th {\n        text-align: right;\n    }\n</style>\n<table border=\"1\" class=\"dataframe\">\n  <thead>\n    <tr style=\"text-align: right;\">\n      <th></th>\n      <th>api_key</th>\n      <th>inicio_data</th>\n      <th>cancto_data</th>\n      <th>cancto_motivo</th>\n      <th>plano</th>\n      <th>periodicidade</th>\n      <th>forma_pagamento</th>\n      <th>status</th>\n      <th>vr_contrato_total_sem_cupons</th>\n      <th>vr_cupons_ativos_total</th>\n      <th>vr_contrato_total_com_cupons</th>\n    </tr>\n  </thead>\n  <tbody>\n    <tr>\n      <th>0</th>\n      <td>5633064340291584</td>\n      <td>2017-04-06</td>\n      <td>None</td>\n      <td>None</td>\n      <td>Astrea Starter Padrão 67 / 30</td>\n      <td>Semestral</td>\n      <td>Cartão</td>\n      <td>Ativo</td>\n      <td>1322.40</td>\n      <td>0.0</td>\n      <td>1322.40</td>\n    </tr>\n    <tr>\n      <th>1</th>\n      <td>6208840676671488</td>\n      <td>2017-04-06</td>\n      <td>None</td>\n      <td>None</td>\n      <td>Astrea Starter Padrão 67 / 30</td>\n      <td>Mensal</td>\n      <td>Cartão</td>\n      <td>Ativo</td>\n      <td>382.00</td>\n      <td>0.0</td>\n      <td>382.00</td>\n    </tr>\n    <tr>\n      <th>2</th>\n      <td>6139391860801536</td>\n      <td>2017-04-10</td>\n      <td>None</td>\n      <td>None</td>\n      <td>Astrea Starter Padrão 67 / 30</td>\n      <td>Mensal</td>\n      <td>Boleto</td>\n      <td>Em Ativação</td>\n      <td>381.90</td>\n      <td>0.0</td>\n      <td>381.90</td>\n    </tr>\n    <tr>\n      <th>3</th>\n      <td>4862106167934976</td>\n      <td>2017-04-11</td>\n      <td>None</td>\n      <td>None</td>\n      <td>Astrea Starter Padrão 67 / 30</td>\n      <td>Semestral</td>\n      <td>Cartão</td>\n      <td>Ativo</td>\n      <td>381.90</td>\n      <td>0.0</td>\n      <td>381.90</td>\n    </tr>\n    <tr>\n      <th>4</th>\n      <td>5176017274535936</td>\n      <td>2017-04-12</td>\n      <td>None</td>\n      <td>None</td>\n      <td>Astrea Starter Padrão 67 / 30</td>\n      <td>Mensal</td>\n      <td>Cartão</td>\n      <td>Ativo</td>\n      <td>67.00</td>\n      <td>0.0</td>\n      <td>67.00</td>\n    </tr>\n    <tr>\n      <th>5</th>\n      <td>5672117672607744</td>\n      <td>2017-04-20</td>\n      <td>2017-04-17</td>\n      <td>None</td>\n      <td>Astrea Starter Padrão 67 / 30</td>\n      <td>Mensal</td>\n      <td>Boleto</td>\n      <td>Ativo</td>\n      <td>283.01</td>\n      <td>0.0</td>\n      <td>283.01</td>\n    </tr>\n    <tr>\n      <th>6</th>\n      <td>5107403318099968</td>\n      <td>2017-04-13</td>\n      <td>None</td>\n      <td>None</td>\n      <td>Astrea Starter Padrão 67 / 30</td>\n      <td>Mensal</td>\n      <td>Cartão</td>\n      <td>Ativo</td>\n      <td>102.00</td>\n      <td>0.0</td>\n      <td>102.00</td>\n    </tr>\n    <tr>\n      <th>7</th>\n      <td>6295800074207232</td>\n      <td>2017-04-18</td>\n      <td>None</td>\n      <td>None</td>\n      <td>Astrea Starter Padrão 67 / 30</td>\n      <td>Mensal</td>\n      <td>Cartão</td>\n      <td>Ativo</td>\n      <td>122.00</td>\n      <td>0.0</td>\n      <td>122.00</td>\n    </tr>\n    <tr>\n      <th>8</th>\n      <td>5633190504955904</td>\n      <td>2017-04-20</td>\n      <td>None</td>\n      <td>None</td>\n      <td>Astrea Starter Padrão 67 / 30</td>\n      <td>Mensal</td>\n      <td>Cartão</td>\n      <td>Ativo</td>\n      <td>177.00</td>\n      <td>0.0</td>\n      <td>177.00</td>\n    </tr>\n    <tr>\n      <th>9</th>\n      <td>4901912193269760</td>\n      <td>2017-04-20</td>\n      <td>None</td>\n      <td>None</td>\n      <td>Astrea Pro 257 / 45</td>\n      <td>Anual</td>\n      <td>Cartão</td>\n      <td>Ativo</td>\n      <td>4641.00</td>\n      <td>0.0</td>\n      <td>4641.00</td>\n    </tr>\n    <tr>\n      <th>10</th>\n      <td>5637191535427584</td>\n      <td>2017-04-20</td>\n      <td>None</td>\n      <td>None</td>\n      <td>Astrea Starter Padrão 67 / 30</td>\n      <td>Semestral</td>\n      <td>Cartão</td>\n      <td>Ativo</td>\n      <td>1711.80</td>\n      <td>0.0</td>\n      <td>1711.80</td>\n    </tr>\n    <tr>\n      <th>11</th>\n      <td>5665952515489792</td>\n      <td>2017-04-20</td>\n      <td>None</td>\n      <td>None</td>\n      <td>Astrea Pro 257 / 45</td>\n      <td>Semestral</td>\n      <td>Cartão</td>\n      <td>Ativo</td>\n      <td>2953.80</td>\n      <td>0.0</td>\n      <td>2953.80</td>\n    </tr>\n    <tr>\n      <th>12</th>\n      <td>6305054118117376</td>\n      <td>2017-04-20</td>\n      <td>None</td>\n      <td>None</td>\n      <td>Astrea Pro 257 / 45</td>\n      <td>Anual</td>\n      <td>Cartão</td>\n      <td>Ativo</td>\n      <td>3590.40</td>\n      <td>0.0</td>\n      <td>3590.40</td>\n    </tr>\n    <tr>\n      <th>13</th>\n      <td>5636420857233408</td>\n      <td>2017-04-20</td>\n      <td>None</td>\n      <td>None</td>\n      <td>Astrea Pro 257 / 45</td>\n      <td>Mensal</td>\n      <td>Boleto</td>\n      <td>Ativo</td>\n      <td>861.87</td>\n      <td>0.0</td>\n      <td>861.87</td>\n    </tr>\n    <tr>\n      <th>14</th>\n      <td>6323934794350592</td>\n      <td>2017-04-20</td>\n      <td>None</td>\n      <td>None</td>\n      <td>Astrea Pro 257 / 45</td>\n      <td>Mensal</td>\n      <td>Cartão</td>\n      <td>Em Ativação</td>\n      <td>297.00</td>\n      <td>0.0</td>\n      <td>297.00</td>\n    </tr>\n  </tbody>\n</table>\n</div>"
          },
          "metadata": {}
        }
      ],
      "execution_count": null,
      "block_group": "72466b37907742d48ce85997ba2af9dd"
    },
    {
      "cell_type": "code",
      "source": "df = pd.read_csv('result_set.csv', index_col=0)\n\nfor index, row in df_2.iterrows():\n\n    # Obter tenant do registro:\n    tenant = str(int(row[0]))\n\n    # Simular valores base e de desconto do plano com o módulo random\n\n    coupon = round(random.uniform(0, 100), 3)\n\n    if row[5] == \"Mensal\":\n        baseValue = 175\n        discount = coupon\n    elif row[5] == \"Semestral\":\n        baseValue = 175 * 6\n        discount = coupon * 6\n    else:\n        baseValue = 175 * 12\n        discount = coupon * 12\n\n    # Configurar payload para a requisição POST\n\n    payload = json.dumps(\n        {\n            \"tenantId\": tenant,\n            \"editionType\": \"COMPANY\",\n            \"baseValue\": baseValue,\n            \"discount\": discount,\n        }\n    )\n\n    # Configurar Headers\n\n    headers = {\"Authorization\": auth, \"Content-Type\": \"application/json\"}\n\n    # Realizar requisição HTTP\n\n    response = requests.request(\"POST\", url, headers=headers, data=payload)\n\n    # Estruturar informações do teste\n\n    test = [\n        f\"{tenant}\",\n        f\"{row[4]}\",\n        f\"{row[5]}\",\n        f\"{row[6]}\",\n        f\"{row[7]}\",\n        f\"{row[8]}\",\n        f\"{row[9]}\",\n        f\"{row[10]}\",\n        tenant,\n        edition_type,\n        baseValue,\n        discount,\n        response.elapsed.total_seconds(),\n        response.status_code,\n        response.text\n    ]\n    df.loc[len(df)] = test",
      "metadata": {
        "source_hash": null,
        "execution_start": 1692123477525,
        "execution_millis": 5572,
        "is_output_hidden": false,
        "deepnote_to_be_reexecuted": false,
        "deepnote_app_is_output_hidden": true,
        "cell_id": "7f1b94f35dc04545b8862a44bf333563",
        "deepnote_cell_type": "code"
      },
      "outputs": [
        {
          "output_type": "error",
          "ename": "KeyboardInterrupt",
          "evalue": "",
          "traceback": [
            "\u001b[0;31m---------------------------------------------------------------------------\u001b[0m",
            "\u001b[0;31mKeyboardInterrupt\u001b[0m                         Traceback (most recent call last)",
            "Cell \u001b[0;32mIn [6], line 39\u001b[0m\n\u001b[1;32m     35\u001b[0m headers \u001b[38;5;241m=\u001b[39m {\u001b[38;5;124m\"\u001b[39m\u001b[38;5;124mAuthorization\u001b[39m\u001b[38;5;124m\"\u001b[39m: auth, \u001b[38;5;124m\"\u001b[39m\u001b[38;5;124mContent-Type\u001b[39m\u001b[38;5;124m\"\u001b[39m: \u001b[38;5;124m\"\u001b[39m\u001b[38;5;124mapplication/json\u001b[39m\u001b[38;5;124m\"\u001b[39m}\n\u001b[1;32m     37\u001b[0m \u001b[38;5;66;03m# Realizar requisição HTTP\u001b[39;00m\n\u001b[0;32m---> 39\u001b[0m response \u001b[38;5;241m=\u001b[39m \u001b[43mrequests\u001b[49m\u001b[38;5;241;43m.\u001b[39;49m\u001b[43mrequest\u001b[49m\u001b[43m(\u001b[49m\u001b[38;5;124;43m\"\u001b[39;49m\u001b[38;5;124;43mPOST\u001b[39;49m\u001b[38;5;124;43m\"\u001b[39;49m\u001b[43m,\u001b[49m\u001b[43m \u001b[49m\u001b[43murl\u001b[49m\u001b[43m,\u001b[49m\u001b[43m \u001b[49m\u001b[43mheaders\u001b[49m\u001b[38;5;241;43m=\u001b[39;49m\u001b[43mheaders\u001b[49m\u001b[43m,\u001b[49m\u001b[43m \u001b[49m\u001b[43mdata\u001b[49m\u001b[38;5;241;43m=\u001b[39;49m\u001b[43mpayload\u001b[49m\u001b[43m)\u001b[49m\n\u001b[1;32m     41\u001b[0m \u001b[38;5;66;03m# Estruturar informações do teste\u001b[39;00m\n\u001b[1;32m     43\u001b[0m test \u001b[38;5;241m=\u001b[39m [\n\u001b[1;32m     44\u001b[0m     \u001b[38;5;124mf\u001b[39m\u001b[38;5;124m\"\u001b[39m\u001b[38;5;132;01m{\u001b[39;00mtenant\u001b[38;5;132;01m}\u001b[39;00m\u001b[38;5;124m\"\u001b[39m,\n\u001b[1;32m     45\u001b[0m     \u001b[38;5;124mf\u001b[39m\u001b[38;5;124m\"\u001b[39m\u001b[38;5;132;01m{\u001b[39;00mrow[\u001b[38;5;241m4\u001b[39m]\u001b[38;5;132;01m}\u001b[39;00m\u001b[38;5;124m\"\u001b[39m,\n\u001b[0;32m   (...)\u001b[0m\n\u001b[1;32m     58\u001b[0m     response\u001b[38;5;241m.\u001b[39mtext\n\u001b[1;32m     59\u001b[0m ]\n",
            "File \u001b[0;32m/shared-libs/python3.9/py/lib/python3.9/site-packages/requests/api.py:59\u001b[0m, in \u001b[0;36mrequest\u001b[0;34m(method, url, **kwargs)\u001b[0m\n\u001b[1;32m     55\u001b[0m \u001b[38;5;66;03m# By using the 'with' statement we are sure the session is closed, thus we\u001b[39;00m\n\u001b[1;32m     56\u001b[0m \u001b[38;5;66;03m# avoid leaving sockets open which can trigger a ResourceWarning in some\u001b[39;00m\n\u001b[1;32m     57\u001b[0m \u001b[38;5;66;03m# cases, and look like a memory leak in others.\u001b[39;00m\n\u001b[1;32m     58\u001b[0m \u001b[38;5;28;01mwith\u001b[39;00m sessions\u001b[38;5;241m.\u001b[39mSession() \u001b[38;5;28;01mas\u001b[39;00m session:\n\u001b[0;32m---> 59\u001b[0m     \u001b[38;5;28;01mreturn\u001b[39;00m \u001b[43msession\u001b[49m\u001b[38;5;241;43m.\u001b[39;49m\u001b[43mrequest\u001b[49m\u001b[43m(\u001b[49m\u001b[43mmethod\u001b[49m\u001b[38;5;241;43m=\u001b[39;49m\u001b[43mmethod\u001b[49m\u001b[43m,\u001b[49m\u001b[43m \u001b[49m\u001b[43murl\u001b[49m\u001b[38;5;241;43m=\u001b[39;49m\u001b[43murl\u001b[49m\u001b[43m,\u001b[49m\u001b[43m \u001b[49m\u001b[38;5;241;43m*\u001b[39;49m\u001b[38;5;241;43m*\u001b[39;49m\u001b[43mkwargs\u001b[49m\u001b[43m)\u001b[49m\n",
            "File \u001b[0;32m/shared-libs/python3.9/py/lib/python3.9/site-packages/requests/sessions.py:587\u001b[0m, in \u001b[0;36mSession.request\u001b[0;34m(self, method, url, params, data, headers, cookies, files, auth, timeout, allow_redirects, proxies, hooks, stream, verify, cert, json)\u001b[0m\n\u001b[1;32m    582\u001b[0m send_kwargs \u001b[38;5;241m=\u001b[39m {\n\u001b[1;32m    583\u001b[0m     \u001b[38;5;124m\"\u001b[39m\u001b[38;5;124mtimeout\u001b[39m\u001b[38;5;124m\"\u001b[39m: timeout,\n\u001b[1;32m    584\u001b[0m     \u001b[38;5;124m\"\u001b[39m\u001b[38;5;124mallow_redirects\u001b[39m\u001b[38;5;124m\"\u001b[39m: allow_redirects,\n\u001b[1;32m    585\u001b[0m }\n\u001b[1;32m    586\u001b[0m send_kwargs\u001b[38;5;241m.\u001b[39mupdate(settings)\n\u001b[0;32m--> 587\u001b[0m resp \u001b[38;5;241m=\u001b[39m \u001b[38;5;28;43mself\u001b[39;49m\u001b[38;5;241;43m.\u001b[39;49m\u001b[43msend\u001b[49m\u001b[43m(\u001b[49m\u001b[43mprep\u001b[49m\u001b[43m,\u001b[49m\u001b[43m \u001b[49m\u001b[38;5;241;43m*\u001b[39;49m\u001b[38;5;241;43m*\u001b[39;49m\u001b[43msend_kwargs\u001b[49m\u001b[43m)\u001b[49m\n\u001b[1;32m    589\u001b[0m \u001b[38;5;28;01mreturn\u001b[39;00m resp\n",
            "File \u001b[0;32m/shared-libs/python3.9/py/lib/python3.9/site-packages/requests/sessions.py:701\u001b[0m, in \u001b[0;36mSession.send\u001b[0;34m(self, request, **kwargs)\u001b[0m\n\u001b[1;32m    698\u001b[0m start \u001b[38;5;241m=\u001b[39m preferred_clock()\n\u001b[1;32m    700\u001b[0m \u001b[38;5;66;03m# Send the request\u001b[39;00m\n\u001b[0;32m--> 701\u001b[0m r \u001b[38;5;241m=\u001b[39m \u001b[43madapter\u001b[49m\u001b[38;5;241;43m.\u001b[39;49m\u001b[43msend\u001b[49m\u001b[43m(\u001b[49m\u001b[43mrequest\u001b[49m\u001b[43m,\u001b[49m\u001b[43m \u001b[49m\u001b[38;5;241;43m*\u001b[39;49m\u001b[38;5;241;43m*\u001b[39;49m\u001b[43mkwargs\u001b[49m\u001b[43m)\u001b[49m\n\u001b[1;32m    703\u001b[0m \u001b[38;5;66;03m# Total elapsed time of the request (approximately)\u001b[39;00m\n\u001b[1;32m    704\u001b[0m elapsed \u001b[38;5;241m=\u001b[39m preferred_clock() \u001b[38;5;241m-\u001b[39m start\n",
            "File \u001b[0;32m/shared-libs/python3.9/py/lib/python3.9/site-packages/requests/adapters.py:489\u001b[0m, in \u001b[0;36mHTTPAdapter.send\u001b[0;34m(self, request, stream, timeout, verify, cert, proxies)\u001b[0m\n\u001b[1;32m    487\u001b[0m \u001b[38;5;28;01mtry\u001b[39;00m:\n\u001b[1;32m    488\u001b[0m     \u001b[38;5;28;01mif\u001b[39;00m \u001b[38;5;129;01mnot\u001b[39;00m chunked:\n\u001b[0;32m--> 489\u001b[0m         resp \u001b[38;5;241m=\u001b[39m \u001b[43mconn\u001b[49m\u001b[38;5;241;43m.\u001b[39;49m\u001b[43murlopen\u001b[49m\u001b[43m(\u001b[49m\n\u001b[1;32m    490\u001b[0m \u001b[43m            \u001b[49m\u001b[43mmethod\u001b[49m\u001b[38;5;241;43m=\u001b[39;49m\u001b[43mrequest\u001b[49m\u001b[38;5;241;43m.\u001b[39;49m\u001b[43mmethod\u001b[49m\u001b[43m,\u001b[49m\n\u001b[1;32m    491\u001b[0m \u001b[43m            \u001b[49m\u001b[43murl\u001b[49m\u001b[38;5;241;43m=\u001b[39;49m\u001b[43murl\u001b[49m\u001b[43m,\u001b[49m\n\u001b[1;32m    492\u001b[0m \u001b[43m            \u001b[49m\u001b[43mbody\u001b[49m\u001b[38;5;241;43m=\u001b[39;49m\u001b[43mrequest\u001b[49m\u001b[38;5;241;43m.\u001b[39;49m\u001b[43mbody\u001b[49m\u001b[43m,\u001b[49m\n\u001b[1;32m    493\u001b[0m \u001b[43m            \u001b[49m\u001b[43mheaders\u001b[49m\u001b[38;5;241;43m=\u001b[39;49m\u001b[43mrequest\u001b[49m\u001b[38;5;241;43m.\u001b[39;49m\u001b[43mheaders\u001b[49m\u001b[43m,\u001b[49m\n\u001b[1;32m    494\u001b[0m \u001b[43m            \u001b[49m\u001b[43mredirect\u001b[49m\u001b[38;5;241;43m=\u001b[39;49m\u001b[38;5;28;43;01mFalse\u001b[39;49;00m\u001b[43m,\u001b[49m\n\u001b[1;32m    495\u001b[0m \u001b[43m            \u001b[49m\u001b[43massert_same_host\u001b[49m\u001b[38;5;241;43m=\u001b[39;49m\u001b[38;5;28;43;01mFalse\u001b[39;49;00m\u001b[43m,\u001b[49m\n\u001b[1;32m    496\u001b[0m \u001b[43m            \u001b[49m\u001b[43mpreload_content\u001b[49m\u001b[38;5;241;43m=\u001b[39;49m\u001b[38;5;28;43;01mFalse\u001b[39;49;00m\u001b[43m,\u001b[49m\n\u001b[1;32m    497\u001b[0m \u001b[43m            \u001b[49m\u001b[43mdecode_content\u001b[49m\u001b[38;5;241;43m=\u001b[39;49m\u001b[38;5;28;43;01mFalse\u001b[39;49;00m\u001b[43m,\u001b[49m\n\u001b[1;32m    498\u001b[0m \u001b[43m            \u001b[49m\u001b[43mretries\u001b[49m\u001b[38;5;241;43m=\u001b[39;49m\u001b[38;5;28;43mself\u001b[39;49m\u001b[38;5;241;43m.\u001b[39;49m\u001b[43mmax_retries\u001b[49m\u001b[43m,\u001b[49m\n\u001b[1;32m    499\u001b[0m \u001b[43m            \u001b[49m\u001b[43mtimeout\u001b[49m\u001b[38;5;241;43m=\u001b[39;49m\u001b[43mtimeout\u001b[49m\u001b[43m,\u001b[49m\n\u001b[1;32m    500\u001b[0m \u001b[43m        \u001b[49m\u001b[43m)\u001b[49m\n\u001b[1;32m    502\u001b[0m     \u001b[38;5;66;03m# Send the request.\u001b[39;00m\n\u001b[1;32m    503\u001b[0m     \u001b[38;5;28;01melse\u001b[39;00m:\n\u001b[1;32m    504\u001b[0m         \u001b[38;5;28;01mif\u001b[39;00m \u001b[38;5;28mhasattr\u001b[39m(conn, \u001b[38;5;124m\"\u001b[39m\u001b[38;5;124mproxy_pool\u001b[39m\u001b[38;5;124m\"\u001b[39m):\n",
            "File \u001b[0;32m/shared-libs/python3.9/py/lib/python3.9/site-packages/urllib3/connectionpool.py:703\u001b[0m, in \u001b[0;36mHTTPConnectionPool.urlopen\u001b[0;34m(self, method, url, body, headers, retries, redirect, assert_same_host, timeout, pool_timeout, release_conn, chunked, body_pos, **response_kw)\u001b[0m\n\u001b[1;32m    700\u001b[0m     \u001b[38;5;28mself\u001b[39m\u001b[38;5;241m.\u001b[39m_prepare_proxy(conn)\n\u001b[1;32m    702\u001b[0m \u001b[38;5;66;03m# Make the request on the httplib connection object.\u001b[39;00m\n\u001b[0;32m--> 703\u001b[0m httplib_response \u001b[38;5;241m=\u001b[39m \u001b[38;5;28;43mself\u001b[39;49m\u001b[38;5;241;43m.\u001b[39;49m\u001b[43m_make_request\u001b[49m\u001b[43m(\u001b[49m\n\u001b[1;32m    704\u001b[0m \u001b[43m    \u001b[49m\u001b[43mconn\u001b[49m\u001b[43m,\u001b[49m\n\u001b[1;32m    705\u001b[0m \u001b[43m    \u001b[49m\u001b[43mmethod\u001b[49m\u001b[43m,\u001b[49m\n\u001b[1;32m    706\u001b[0m \u001b[43m    \u001b[49m\u001b[43murl\u001b[49m\u001b[43m,\u001b[49m\n\u001b[1;32m    707\u001b[0m \u001b[43m    \u001b[49m\u001b[43mtimeout\u001b[49m\u001b[38;5;241;43m=\u001b[39;49m\u001b[43mtimeout_obj\u001b[49m\u001b[43m,\u001b[49m\n\u001b[1;32m    708\u001b[0m \u001b[43m    \u001b[49m\u001b[43mbody\u001b[49m\u001b[38;5;241;43m=\u001b[39;49m\u001b[43mbody\u001b[49m\u001b[43m,\u001b[49m\n\u001b[1;32m    709\u001b[0m \u001b[43m    \u001b[49m\u001b[43mheaders\u001b[49m\u001b[38;5;241;43m=\u001b[39;49m\u001b[43mheaders\u001b[49m\u001b[43m,\u001b[49m\n\u001b[1;32m    710\u001b[0m \u001b[43m    \u001b[49m\u001b[43mchunked\u001b[49m\u001b[38;5;241;43m=\u001b[39;49m\u001b[43mchunked\u001b[49m\u001b[43m,\u001b[49m\n\u001b[1;32m    711\u001b[0m \u001b[43m\u001b[49m\u001b[43m)\u001b[49m\n\u001b[1;32m    713\u001b[0m \u001b[38;5;66;03m# If we're going to release the connection in ``finally:``, then\u001b[39;00m\n\u001b[1;32m    714\u001b[0m \u001b[38;5;66;03m# the response doesn't need to know about the connection. Otherwise\u001b[39;00m\n\u001b[1;32m    715\u001b[0m \u001b[38;5;66;03m# it will also try to release it and we'll have a double-release\u001b[39;00m\n\u001b[1;32m    716\u001b[0m \u001b[38;5;66;03m# mess.\u001b[39;00m\n\u001b[1;32m    717\u001b[0m response_conn \u001b[38;5;241m=\u001b[39m conn \u001b[38;5;28;01mif\u001b[39;00m \u001b[38;5;129;01mnot\u001b[39;00m release_conn \u001b[38;5;28;01melse\u001b[39;00m \u001b[38;5;28;01mNone\u001b[39;00m\n",
            "File \u001b[0;32m/shared-libs/python3.9/py/lib/python3.9/site-packages/urllib3/connectionpool.py:449\u001b[0m, in \u001b[0;36mHTTPConnectionPool._make_request\u001b[0;34m(self, conn, method, url, timeout, chunked, **httplib_request_kw)\u001b[0m\n\u001b[1;32m    444\u001b[0m             httplib_response \u001b[38;5;241m=\u001b[39m conn\u001b[38;5;241m.\u001b[39mgetresponse()\n\u001b[1;32m    445\u001b[0m         \u001b[38;5;28;01mexcept\u001b[39;00m \u001b[38;5;167;01mBaseException\u001b[39;00m \u001b[38;5;28;01mas\u001b[39;00m e:\n\u001b[1;32m    446\u001b[0m             \u001b[38;5;66;03m# Remove the TypeError from the exception chain in\u001b[39;00m\n\u001b[1;32m    447\u001b[0m             \u001b[38;5;66;03m# Python 3 (including for exceptions like SystemExit).\u001b[39;00m\n\u001b[1;32m    448\u001b[0m             \u001b[38;5;66;03m# Otherwise it looks like a bug in the code.\u001b[39;00m\n\u001b[0;32m--> 449\u001b[0m             \u001b[43msix\u001b[49m\u001b[38;5;241;43m.\u001b[39;49m\u001b[43mraise_from\u001b[49m\u001b[43m(\u001b[49m\u001b[43me\u001b[49m\u001b[43m,\u001b[49m\u001b[43m \u001b[49m\u001b[38;5;28;43;01mNone\u001b[39;49;00m\u001b[43m)\u001b[49m\n\u001b[1;32m    450\u001b[0m \u001b[38;5;28;01mexcept\u001b[39;00m (SocketTimeout, BaseSSLError, SocketError) \u001b[38;5;28;01mas\u001b[39;00m e:\n\u001b[1;32m    451\u001b[0m     \u001b[38;5;28mself\u001b[39m\u001b[38;5;241m.\u001b[39m_raise_timeout(err\u001b[38;5;241m=\u001b[39me, url\u001b[38;5;241m=\u001b[39murl, timeout_value\u001b[38;5;241m=\u001b[39mread_timeout)\n",
            "File \u001b[0;32m<string>:3\u001b[0m, in \u001b[0;36mraise_from\u001b[0;34m(value, from_value)\u001b[0m\n",
            "File \u001b[0;32m/shared-libs/python3.9/py/lib/python3.9/site-packages/urllib3/connectionpool.py:444\u001b[0m, in \u001b[0;36mHTTPConnectionPool._make_request\u001b[0;34m(self, conn, method, url, timeout, chunked, **httplib_request_kw)\u001b[0m\n\u001b[1;32m    441\u001b[0m \u001b[38;5;28;01mexcept\u001b[39;00m \u001b[38;5;167;01mTypeError\u001b[39;00m:\n\u001b[1;32m    442\u001b[0m     \u001b[38;5;66;03m# Python 3\u001b[39;00m\n\u001b[1;32m    443\u001b[0m     \u001b[38;5;28;01mtry\u001b[39;00m:\n\u001b[0;32m--> 444\u001b[0m         httplib_response \u001b[38;5;241m=\u001b[39m \u001b[43mconn\u001b[49m\u001b[38;5;241;43m.\u001b[39;49m\u001b[43mgetresponse\u001b[49m\u001b[43m(\u001b[49m\u001b[43m)\u001b[49m\n\u001b[1;32m    445\u001b[0m     \u001b[38;5;28;01mexcept\u001b[39;00m \u001b[38;5;167;01mBaseException\u001b[39;00m \u001b[38;5;28;01mas\u001b[39;00m e:\n\u001b[1;32m    446\u001b[0m         \u001b[38;5;66;03m# Remove the TypeError from the exception chain in\u001b[39;00m\n\u001b[1;32m    447\u001b[0m         \u001b[38;5;66;03m# Python 3 (including for exceptions like SystemExit).\u001b[39;00m\n\u001b[1;32m    448\u001b[0m         \u001b[38;5;66;03m# Otherwise it looks like a bug in the code.\u001b[39;00m\n\u001b[1;32m    449\u001b[0m         six\u001b[38;5;241m.\u001b[39mraise_from(e, \u001b[38;5;28;01mNone\u001b[39;00m)\n",
            "File \u001b[0;32m/usr/local/lib/python3.9/http/client.py:1377\u001b[0m, in \u001b[0;36mHTTPConnection.getresponse\u001b[0;34m(self)\u001b[0m\n\u001b[1;32m   1375\u001b[0m \u001b[38;5;28;01mtry\u001b[39;00m:\n\u001b[1;32m   1376\u001b[0m     \u001b[38;5;28;01mtry\u001b[39;00m:\n\u001b[0;32m-> 1377\u001b[0m         \u001b[43mresponse\u001b[49m\u001b[38;5;241;43m.\u001b[39;49m\u001b[43mbegin\u001b[49m\u001b[43m(\u001b[49m\u001b[43m)\u001b[49m\n\u001b[1;32m   1378\u001b[0m     \u001b[38;5;28;01mexcept\u001b[39;00m \u001b[38;5;167;01mConnectionError\u001b[39;00m:\n\u001b[1;32m   1379\u001b[0m         \u001b[38;5;28mself\u001b[39m\u001b[38;5;241m.\u001b[39mclose()\n",
            "File \u001b[0;32m/usr/local/lib/python3.9/http/client.py:320\u001b[0m, in \u001b[0;36mHTTPResponse.begin\u001b[0;34m(self)\u001b[0m\n\u001b[1;32m    318\u001b[0m \u001b[38;5;66;03m# read until we get a non-100 response\u001b[39;00m\n\u001b[1;32m    319\u001b[0m \u001b[38;5;28;01mwhile\u001b[39;00m \u001b[38;5;28;01mTrue\u001b[39;00m:\n\u001b[0;32m--> 320\u001b[0m     version, status, reason \u001b[38;5;241m=\u001b[39m \u001b[38;5;28;43mself\u001b[39;49m\u001b[38;5;241;43m.\u001b[39;49m\u001b[43m_read_status\u001b[49m\u001b[43m(\u001b[49m\u001b[43m)\u001b[49m\n\u001b[1;32m    321\u001b[0m     \u001b[38;5;28;01mif\u001b[39;00m status \u001b[38;5;241m!=\u001b[39m CONTINUE:\n\u001b[1;32m    322\u001b[0m         \u001b[38;5;28;01mbreak\u001b[39;00m\n",
            "File \u001b[0;32m/usr/local/lib/python3.9/http/client.py:281\u001b[0m, in \u001b[0;36mHTTPResponse._read_status\u001b[0;34m(self)\u001b[0m\n\u001b[1;32m    280\u001b[0m \u001b[38;5;28;01mdef\u001b[39;00m \u001b[38;5;21m_read_status\u001b[39m(\u001b[38;5;28mself\u001b[39m):\n\u001b[0;32m--> 281\u001b[0m     line \u001b[38;5;241m=\u001b[39m \u001b[38;5;28mstr\u001b[39m(\u001b[38;5;28;43mself\u001b[39;49m\u001b[38;5;241;43m.\u001b[39;49m\u001b[43mfp\u001b[49m\u001b[38;5;241;43m.\u001b[39;49m\u001b[43mreadline\u001b[49m\u001b[43m(\u001b[49m\u001b[43m_MAXLINE\u001b[49m\u001b[43m \u001b[49m\u001b[38;5;241;43m+\u001b[39;49m\u001b[43m \u001b[49m\u001b[38;5;241;43m1\u001b[39;49m\u001b[43m)\u001b[49m, \u001b[38;5;124m\"\u001b[39m\u001b[38;5;124miso-8859-1\u001b[39m\u001b[38;5;124m\"\u001b[39m)\n\u001b[1;32m    282\u001b[0m     \u001b[38;5;28;01mif\u001b[39;00m \u001b[38;5;28mlen\u001b[39m(line) \u001b[38;5;241m>\u001b[39m _MAXLINE:\n\u001b[1;32m    283\u001b[0m         \u001b[38;5;28;01mraise\u001b[39;00m LineTooLong(\u001b[38;5;124m\"\u001b[39m\u001b[38;5;124mstatus line\u001b[39m\u001b[38;5;124m\"\u001b[39m)\n",
            "File \u001b[0;32m/usr/local/lib/python3.9/socket.py:704\u001b[0m, in \u001b[0;36mSocketIO.readinto\u001b[0;34m(self, b)\u001b[0m\n\u001b[1;32m    702\u001b[0m \u001b[38;5;28;01mwhile\u001b[39;00m \u001b[38;5;28;01mTrue\u001b[39;00m:\n\u001b[1;32m    703\u001b[0m     \u001b[38;5;28;01mtry\u001b[39;00m:\n\u001b[0;32m--> 704\u001b[0m         \u001b[38;5;28;01mreturn\u001b[39;00m \u001b[38;5;28;43mself\u001b[39;49m\u001b[38;5;241;43m.\u001b[39;49m\u001b[43m_sock\u001b[49m\u001b[38;5;241;43m.\u001b[39;49m\u001b[43mrecv_into\u001b[49m\u001b[43m(\u001b[49m\u001b[43mb\u001b[49m\u001b[43m)\u001b[49m\n\u001b[1;32m    705\u001b[0m     \u001b[38;5;28;01mexcept\u001b[39;00m timeout:\n\u001b[1;32m    706\u001b[0m         \u001b[38;5;28mself\u001b[39m\u001b[38;5;241m.\u001b[39m_timeout_occurred \u001b[38;5;241m=\u001b[39m \u001b[38;5;28;01mTrue\u001b[39;00m\n",
            "File \u001b[0;32m/usr/local/lib/python3.9/ssl.py:1242\u001b[0m, in \u001b[0;36mSSLSocket.recv_into\u001b[0;34m(self, buffer, nbytes, flags)\u001b[0m\n\u001b[1;32m   1238\u001b[0m     \u001b[38;5;28;01mif\u001b[39;00m flags \u001b[38;5;241m!=\u001b[39m \u001b[38;5;241m0\u001b[39m:\n\u001b[1;32m   1239\u001b[0m         \u001b[38;5;28;01mraise\u001b[39;00m \u001b[38;5;167;01mValueError\u001b[39;00m(\n\u001b[1;32m   1240\u001b[0m           \u001b[38;5;124m\"\u001b[39m\u001b[38;5;124mnon-zero flags not allowed in calls to recv_into() on \u001b[39m\u001b[38;5;132;01m%s\u001b[39;00m\u001b[38;5;124m\"\u001b[39m \u001b[38;5;241m%\u001b[39m\n\u001b[1;32m   1241\u001b[0m           \u001b[38;5;28mself\u001b[39m\u001b[38;5;241m.\u001b[39m\u001b[38;5;18m__class__\u001b[39m)\n\u001b[0;32m-> 1242\u001b[0m     \u001b[38;5;28;01mreturn\u001b[39;00m \u001b[38;5;28;43mself\u001b[39;49m\u001b[38;5;241;43m.\u001b[39;49m\u001b[43mread\u001b[49m\u001b[43m(\u001b[49m\u001b[43mnbytes\u001b[49m\u001b[43m,\u001b[49m\u001b[43m \u001b[49m\u001b[43mbuffer\u001b[49m\u001b[43m)\u001b[49m\n\u001b[1;32m   1243\u001b[0m \u001b[38;5;28;01melse\u001b[39;00m:\n\u001b[1;32m   1244\u001b[0m     \u001b[38;5;28;01mreturn\u001b[39;00m \u001b[38;5;28msuper\u001b[39m()\u001b[38;5;241m.\u001b[39mrecv_into(buffer, nbytes, flags)\n",
            "File \u001b[0;32m/usr/local/lib/python3.9/ssl.py:1100\u001b[0m, in \u001b[0;36mSSLSocket.read\u001b[0;34m(self, len, buffer)\u001b[0m\n\u001b[1;32m   1098\u001b[0m \u001b[38;5;28;01mtry\u001b[39;00m:\n\u001b[1;32m   1099\u001b[0m     \u001b[38;5;28;01mif\u001b[39;00m buffer \u001b[38;5;129;01mis\u001b[39;00m \u001b[38;5;129;01mnot\u001b[39;00m \u001b[38;5;28;01mNone\u001b[39;00m:\n\u001b[0;32m-> 1100\u001b[0m         \u001b[38;5;28;01mreturn\u001b[39;00m \u001b[38;5;28;43mself\u001b[39;49m\u001b[38;5;241;43m.\u001b[39;49m\u001b[43m_sslobj\u001b[49m\u001b[38;5;241;43m.\u001b[39;49m\u001b[43mread\u001b[49m\u001b[43m(\u001b[49m\u001b[38;5;28;43mlen\u001b[39;49m\u001b[43m,\u001b[49m\u001b[43m \u001b[49m\u001b[43mbuffer\u001b[49m\u001b[43m)\u001b[49m\n\u001b[1;32m   1101\u001b[0m     \u001b[38;5;28;01melse\u001b[39;00m:\n\u001b[1;32m   1102\u001b[0m         \u001b[38;5;28;01mreturn\u001b[39;00m \u001b[38;5;28mself\u001b[39m\u001b[38;5;241m.\u001b[39m_sslobj\u001b[38;5;241m.\u001b[39mread(\u001b[38;5;28mlen\u001b[39m)\n",
            "\u001b[0;31mKeyboardInterrupt\u001b[0m: "
          ]
        }
      ],
      "execution_count": null,
      "block_group": "bf238c7a862840de86510858d577bac6"
    },
    {
      "cell_type": "code",
      "source": "df.to_csv('result_set.csv')",
      "metadata": {
        "source_hash": null,
        "execution_start": 1691596854945,
        "execution_millis": 13,
        "deepnote_to_be_reexecuted": true,
        "cell_id": "4c2cb7db3482421cb89c79604cc1f9a7",
        "deepnote_cell_type": "code"
      },
      "outputs": [],
      "execution_count": null,
      "block_group": "36fd727ff42c4678b8286212bb431fad"
    },
    {
      "cell_type": "markdown",
      "source": "<a style='text-decoration:none;line-height:16px;display:flex;color:#5B5B62;padding:10px;justify-content:end;' href='https://deepnote.com?utm_source=created-in-deepnote-cell&projectId=a6aa03ff-9a9e-4b1a-a1ec-ff555e98a018' target=\"_blank\">\n<img alt='Created in deepnote.com' style='display:inline;max-height:16px;margin:0px;margin-right:7.5px;' src='data:image/svg+xml;base64,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' > </img>\nCreated in <span style='font-weight:600;margin-left:4px;'>Deepnote</span></a>",
      "metadata": {
        "created_in_deepnote_cell": true,
        "deepnote_cell_type": "markdown"
      }
    }
  ],
  "nbformat": 4,
  "nbformat_minor": 0,
  "metadata": {
    "deepnote": {},
    "orig_nbformat": 2,
    "deepnote_notebook_id": "14da9ad8736e452ca369e2f67a79d49d",
    "deepnote_execution_queue": []
  }
}