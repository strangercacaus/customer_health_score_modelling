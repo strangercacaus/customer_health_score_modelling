{
  "cells": [
    {
      "cell_type": "markdown",
      "source": "### Importação de Módulos",
      "metadata": {
        "formattedRanges": [],
        "cell_id": "8c21a30620f44f348fb3805d2b5c0080",
        "deepnote_cell_type": "text-cell-h3"
      },
      "block_group": "8c21a30620f44f348fb3805d2b5c0080"
    },
    {
      "cell_type": "code",
      "source": "# Builtins\nimport logging\nimport os\nimport random\nimport threading\nfrom datetime import date, datetime\n\n# Third party\nimport pandas as pd\nimport requests\nimport json\nimport time\nimport psycopg2",
      "metadata": {
        "source_hash": "3cf532f9",
        "execution_start": 1692678355656,
        "execution_millis": 23,
        "deepnote_to_be_reexecuted": false,
        "cell_id": "c4504f94d6544fe097d4e0809fc0ff2d",
        "deepnote_cell_type": "code"
      },
      "outputs": [],
      "execution_count": 1,
      "block_group": "8f09c5ea36994b759db78e08b133c766"
    },
    {
      "cell_type": "code",
      "source": "version = 'HOMOLOG'\nkeyversion = 'HOM'",
      "metadata": {
        "source_hash": "5d3ce67d",
        "execution_start": 1692678355657,
        "execution_millis": 9,
        "deepnote_to_be_reexecuted": false,
        "cell_id": "472033a848b64386b73b5bfe08e48940",
        "deepnote_cell_type": "code"
      },
      "outputs": [],
      "execution_count": 2,
      "block_group": "472033a848b64386b73b5bfe08e48940"
    },
    {
      "cell_type": "markdown",
      "source": "### Configuração de Logs",
      "metadata": {
        "formattedRanges": [],
        "cell_id": "737c165ac9174b1ea6db4150a05e69ab",
        "deepnote_cell_type": "text-cell-h3"
      },
      "block_group": "737c165ac9174b1ea6db4150a05e69ab"
    },
    {
      "cell_type": "code",
      "source": "logger = logging.getLogger(f\"{version}\")\ntoday = str(date.today()) + '-' + str(int(time.time()))\nlogging.basicConfig(filename=f'/work/execution_logs/{today}.txt', encoding='utf-8', level=logging.INFO)",
      "metadata": {
        "source_hash": "8a64457c",
        "execution_start": 1692678355658,
        "execution_millis": 44,
        "deepnote_to_be_reexecuted": false,
        "cell_id": "9478f394b2764c6687f64244c1e6060c",
        "deepnote_cell_type": "code"
      },
      "outputs": [],
      "execution_count": 3,
      "block_group": "9478f394b2764c6687f64244c1e6060c"
    },
    {
      "cell_type": "markdown",
      "source": "## Classes",
      "metadata": {
        "formattedRanges": [],
        "cell_id": "6af92dcb47494d35800fd6535bb7c402",
        "deepnote_cell_type": "text-cell-h2"
      },
      "block_group": "6af92dcb47494d35800fd6535bb7c402"
    },
    {
      "cell_type": "markdown",
      "source": "### Conexão do Astrea_Data",
      "metadata": {
        "formattedRanges": [],
        "cell_id": "5185b1200f4348e9bbf56c94501c5e5a",
        "deepnote_cell_type": "text-cell-h3"
      },
      "block_group": "5185b1200f4348e9bbf56c94501c5e5a"
    },
    {
      "cell_type": "code",
      "source": "class PostgresqlDB:\n    def __init__(self, host, port, database, user, password):\n        self.host = host\n        self.port = port\n        self.database = database\n        self.user = user\n        self.password = password\n        self.connection = self.create_connection()\n        logger.info(f\"{__class__.__name__}: Conexão com o Astrea_Data iniciada\")\n\n\n\n    def create_connection(self):\n        try:\n            connection = psycopg2.connect(\n                host=self.host,\n                port=self.port,\n                database=self.database,\n                user=self.user,\n                password=self.password\n            )\n            return connection\n        except (Exception, psycopg2.Error) as error:\n            print(f\"Error while connecting to PostgreSQL: {error}\")\n\n    def insert_row(self, table, values):\n        try:\n            cursor = self.connection.cursor()\n            columns = ', '.join(values.keys())\n            placeholders = ', '.join(['%s'] * len(values))\n            insert_query = f\"INSERT INTO {table} ({columns}) VALUES ({placeholders})\"\n            cursor.execute(insert_query, list(values.values()))\n            self.connection.commit()\n            logger.info(f\"{__class__.__name__}: registro inserido com sucesso na tabela {table}\")\n        except (Exception, psycopg2.Error) as error:\n            print(f\"Error while inserting row in PostgreSQL: {error}\")\n            self.connection.rollback() # Added code to rollback the transaction if an error is raised\n        finally:\n            if cursor:\n                cursor.close()",
      "metadata": {
        "source_hash": "9e38300f",
        "execution_start": 1692678355669,
        "execution_millis": 42,
        "deepnote_to_be_reexecuted": false,
        "cell_id": "e3fd0f533480412c9c9963f75eb25b70",
        "deepnote_cell_type": "code"
      },
      "outputs": [],
      "execution_count": 4,
      "block_group": "e3fd0f533480412c9c9963f75eb25b70"
    },
    {
      "cell_type": "markdown",
      "source": "### API do Astrea",
      "metadata": {
        "formattedRanges": [],
        "cell_id": "1e22d3b29dda412db44bda27f12ebf94",
        "deepnote_cell_type": "text-cell-h3"
      },
      "block_group": "1e22d3b29dda412db44bda27f12ebf94"
    },
    {
      "cell_type": "code",
      "source": "class AstreaPlanApi:\n\n    def __init__(self, auth):\n        \"\"\"\n        Inicializa a API de mudança de planos.\n        \"\"\"\n        self.headers = {\n            'Authorization': auth,\n            'Content-Type': 'application/json'\n            }\n        if version == 'HOMOLOG':\n            self.url = 'https://change-plan-dot-astreav2.appspot.com/api/v2/dev/change-plan'\n        elif version == 'PRODUCAO':\n            self.url = 'https://app.astrea.net.br/api/v2/dev/change-plan'\n        else:\n            raise Exception(f'Versão de API inválida: {version}')\n            \n        self.url = 'https://change-plan-dot-astreav2.appspot.com/api/v2/dev/change-plan'\n        self.semaphore = threading.Semaphore(3) # Limit the number of concurrent requests\n        self.request_queue = [] # Queue for requests that exceed the concurrent limit\n        self.successful_requests = 0 # Track number of successful requests\n        self.error_count = 0 # Track number of errors\n        logger.info(f\"{__class__.__name__}: API de mudança de planos inicializada\")\n\n    def get_payload(self, customer):\n        \"\"\"\n        Cria o payload para a requisição de mudança de plano\n\n        Params:\n        - Customer: Dicionário contendo a informação do cliente a ser integrado\n\n        Retorna:\n        - Dicionário com o payload formatado para a api do Astrea.\n        \"\"\"\n        payload = json.dumps({\n            \"tenantId\": customer['api_key'],\n            \"editionType\": customer['plano_destino'],\n            \"baseValue\": customer['vr_bruto_destino'],\n            \"discount\": customer['desconto_destino']\n        })\n        logger.info(f'{__class__.__name__}: Payload obtido para o customer: {customer[\"namespace\"]} :' + str(payload))\n        return payload\n\n    def make_change_plan_request(self, customer):\n        \"\"\"\n        Realiza uma requisição POST para a API de mudança de planos.\n\n        Params:\n        - Customer: Dicionário contendo a informação do cliente a ser integrado\n\n        Retorna:\n        - O objeto Response da requisição.\n        \"\"\"\n        payload = self.get_payload(customer)\n        \n        response = requests.post(self.url, headers= self.headers, data=payload)\n            \n        if response.status_code in (200, 201):\n            logger.info(f'{__class__.__name__}: Resposta para customer: {customer[\"namespace\"]}: ' + str(response.status_code) + ' - ' + str(response.content) + f' ({response.elapsed.total_seconds()}s)')\n            self.successful_requests += 1\n        else:\n            self.error_count += 1\n            logger.info(f'{__class__.__name__}: Resposta para customer: {customer[\"namespace\"]}: ' + str(response.status_code) + ' - ' + str(response.content) + f' ({response.elapsed.total_seconds()}s)')\n            \n        return response ",
      "metadata": {
        "source_hash": "46bffe0d",
        "execution_start": 1692678355669,
        "execution_millis": 28,
        "deepnote_to_be_reexecuted": false,
        "cell_id": "d3bb173a0b6a4d9a9a507b4d5edf00e3",
        "deepnote_cell_type": "code"
      },
      "outputs": [],
      "execution_count": 5,
      "block_group": "9887380a48b042708a3cf67c43b34e5c"
    },
    {
      "cell_type": "markdown",
      "source": "### Api do Intercom",
      "metadata": {
        "formattedRanges": [],
        "cell_id": "d3c9001bfc9e475a9b8c46ece08494ca",
        "deepnote_cell_type": "text-cell-h3"
      },
      "block_group": "d3c9001bfc9e475a9b8c46ece08494ca"
    },
    {
      "cell_type": "code",
      "source": "class IntercomAPI:\n    def __init__(self, auth):\n        self.headers = {\n            \"accept\": \"application/json\",\n            \"content-type\": \"application/json\",\n            \"authorization\": auth\n        }\n        logger.info(f\"{__class__.__name__}: API do Intercom Inicializada\")\n\n\n    def get_company_by_name(self, company_name):\n        url = f\"https://api.intercom.io/companies?name={company_name}\"\n        response = requests.get(url, headers=self.headers)\n        if response.ok:\n            logger.info(f\"{__class__.__name__}: Company {company_name} encontrada.\")\n        else:\n            logger.info(f\"{__class__.__name__}: Company {company_name} não encontrada.\")\n        return response.json()\n    \n    def get_contacts_by_company_id(self, company_id):\n        url = f\"https://api.intercom.io/companies/{company_id}/contacts\"\n        response = requests.get(url, headers=self.headers)\n        if response.ok:\n                logger.info(f\"{__class__.__name__}: {len(response.json()['data'])} contatos encontrados para a company {company_id}.\")\n        else:\n            logger.info(f\"{__class__.__name__}: A busca de contatos falhou para a company {company_id}.\")\n        return response.json()[\"data\"]\n    \n    def send_event(self, company_id, user, event_name, timestamp):\n        url = \"https://api.intercom.io/events\"\n        payload = {\n            \"user_id\": user['email'],\n            \"created_at\": timestamp,\n            \"event_name\": f\"{event_name}\",\n            \"id\": user['id']\n        }\n        response = requests.post(url, json=payload, headers=self.headers)\n        if response.ok:\n            logger.info(f\"{__class__.__name__}: Evento {event_name} enviado para o usuário {user['email']}.\")\n        else:\n            logger.info(f\"{__class__.__name__}: Evento {event_name} não enviado para o usuário {user['email']}. Código de erro: {response.status_code}\")\n        return response\n\n    def notify_company_users(self, company_name, event_name, timestamp):\n        company = self.get_company_by_name(company_name)\n        users = self.get_contacts_by_company_id(company['id'])\n        errors = 0\n        success = 0\n        for user in users:\n            response = self.send_event(company['id'], user, event_name, timestamp)\n            if response.ok:\n                success += 1\n            else:\n                errors += 1\n        logger.info(f\"{__class__.__name__}: {len(users)} usuários na company {company_name} foram notificados com {errors} erros.\")\n        return {\"errors\": errors, \"success\": success}",
      "metadata": {
        "source_hash": "814269e8",
        "execution_start": 1692678355685,
        "execution_millis": 14,
        "deepnote_to_be_reexecuted": false,
        "cell_id": "cca03475e74242758638d6c23861041d",
        "deepnote_cell_type": "code"
      },
      "outputs": [],
      "execution_count": 6,
      "block_group": "cca03475e74242758638d6c23861041d"
    },
    {
      "cell_type": "markdown",
      "source": "## Funções Personalizadas",
      "metadata": {
        "formattedRanges": [],
        "cell_id": "4ea9494192e54304b2084e86b3f04c2d",
        "deepnote_cell_type": "text-cell-h2"
      },
      "block_group": "4ea9494192e54304b2084e86b3f04c2d"
    },
    {
      "cell_type": "markdown",
      "source": "### Notificações de Execução",
      "metadata": {
        "formattedRanges": [],
        "cell_id": "a79cddc4ad204aba9f74f64c14b232ed",
        "deepnote_cell_type": "text-cell-h3"
      },
      "block_group": "a79cddc4ad204aba9f74f64c14b232ed"
    },
    {
      "cell_type": "code",
      "source": "# Slack Notify: Envia um webhook para um zap que realiza a integração de mensagens para o slack\ndef slack_notify(service,status,message):\n    url = f'https://hooks.zapier.com/hooks/catch/52679/3d690x6/?service={service}&status={status}&message={message}'\n    response = requests.request(\"GET\", url)\n    logger.info(f\"{__name__}: {service}'s {status} message sent to zapier: {message}\")\n    return True",
      "metadata": {
        "source_hash": "570c1b3",
        "execution_start": 1692678355686,
        "execution_millis": 60,
        "deepnote_to_be_reexecuted": false,
        "cell_id": "e6e5d1f48c0a4743a31c49dbf7969231",
        "deepnote_cell_type": "code"
      },
      "outputs": [],
      "execution_count": 7,
      "block_group": "e6e5d1f48c0a4743a31c49dbf7969231"
    },
    {
      "cell_type": "markdown",
      "source": "## Extrações de Dados",
      "metadata": {
        "formattedRanges": [],
        "cell_id": "e9608fbbbf5745879114745074c6d342",
        "deepnote_cell_type": "text-cell-h2"
      },
      "block_group": "e9608fbbbf5745879114745074c6d342"
    },
    {
      "cell_type": "code",
      "source": "slack_notify(f'Virada de Planos - {version}','Start','Iniciando Extração de dados para Virada de Planos')",
      "metadata": {
        "source_hash": "c12340be",
        "execution_start": 1692678355731,
        "execution_millis": 6,
        "deepnote_to_be_reexecuted": false,
        "cell_id": "02cc5888c5294dbaa9bfdee5539ed6f4",
        "deepnote_cell_type": "code"
      },
      "outputs": [
        {
          "output_type": "execute_result",
          "execution_count": 8,
          "data": {
            "text/plain": "True"
          },
          "metadata": {}
        }
      ],
      "execution_count": 8,
      "block_group": "02cc5888c5294dbaa9bfdee5539ed6f4"
    },
    {
      "cell_type": "markdown",
      "source": "### Consulta de clientes no astrea_data",
      "metadata": {
        "formattedRanges": [],
        "cell_id": "c772ccc79d8744fe8940c336accd7b9c",
        "deepnote_cell_type": "text-cell-h3"
      },
      "block_group": "c772ccc79d8744fe8940c336accd7b9c"
    },
    {
      "cell_type": "code",
      "source": "df_clientes = _deepnote_execute_sql('select vsn.api_key,\\n       vcc.namespace,\\n       vsn.periodicidade_atual as periodicidade_origem,\\n       vcc.plano as plano_origem,\\n\\n       case\\n        when vsn.minimo_plano_aumento < 0 then \\'VIP\\'\\n        when vsn.minimo_plano_aumento >= 0 then \\'COMPANY\\'\\n        else Null\\n       end as plano_destino,\\n\\n       vcc.vr_contrato_total_com_cupons as vr_liquido_origem,\\n\\n       vcc.vr_contrato_total_sem_cupons as vr_bruto_origem,\\n\\n       case\\n        when vsn.minimo_plano_aumento < 0 then vsn.prox_plano_contrato_sem_cupons\\n        when vsn.minimo_plano_aumento >= 0 then np.vr_contrato_total_sem_cupons\\n        else Null\\n       end as vr_bruto_destino,\\n\\n       vcc.vr_cupons_ativos_total as desconto_origem,\\n\\n       case\\n        when vsn.minimo_plano_aumento < 0 then vsn.prox_plano_contrato_sem_cupons - vcc.vr_contrato_total_com_cupons\\n        when vsn.minimo_plano_aumento >= 0 then 0\\n        else Null\\n       end as desconto_destino,\\n\\n       vcc.parcela_dt_proxima,\\n\\n       vcc.parcela_dt_proxima::date - current_date as dias_ate_renovacao\\n\\nfrom cx_data.v_simulacao_novos_planos vsn\\njoin cx_data.novos_planos np on np.id = vsn.minimo_plano_id\\njoin oroboro2.v_contratos_consolidado vcc on vcc.api_key = vsn.api_key\\nleft join oroboro2.contratos_custom cc on vcc.id = cc.contrato_id\\nwhere vsn.minimo_plano_destino = \\'Company\\'', 'SQL_EB56FC30_B625_4AA0_83D2_B8F22F562A50', audit_sql_comment='', sql_cache_mode='cache_disabled')\ndf_clientes",
      "metadata": {
        "source_hash": "f52571a5",
        "execution_start": 1692678355732,
        "execution_millis": 2567,
        "sql_integration_id": "eb56fc30-b625-4aa0-83d2-b8f22f562a50",
        "deepnote_table_state": {
          "sortBy": [],
          "filters": [],
          "pageSize": 10,
          "pageIndex": 90
        },
        "deepnote_table_loading": false,
        "deepnote_variable_name": "df_clientes",
        "deepnote_to_be_reexecuted": false,
        "cell_id": "1b41b07e5fe342a5a21d1a6a100b6c39",
        "deepnote_cell_type": "sql",
        "deepnote_sql_source": "select vsn.api_key,\n       vcc.namespace,\n       vsn.periodicidade_atual as periodicidade_origem,\n       vcc.plano as plano_origem,\n\n       case\n        when vsn.minimo_plano_aumento < 0 then 'VIP'\n        when vsn.minimo_plano_aumento >= 0 then 'COMPANY'\n        else Null\n       end as plano_destino,\n\n       vcc.vr_contrato_total_com_cupons as vr_liquido_origem,\n\n       vcc.vr_contrato_total_sem_cupons as vr_bruto_origem,\n\n       case\n        when vsn.minimo_plano_aumento < 0 then vsn.prox_plano_contrato_sem_cupons\n        when vsn.minimo_plano_aumento >= 0 then np.vr_contrato_total_sem_cupons\n        else Null\n       end as vr_bruto_destino,\n\n       vcc.vr_cupons_ativos_total as desconto_origem,\n\n       case\n        when vsn.minimo_plano_aumento < 0 then vsn.prox_plano_contrato_sem_cupons - vcc.vr_contrato_total_com_cupons\n        when vsn.minimo_plano_aumento >= 0 then 0\n        else Null\n       end as desconto_destino,\n\n       vcc.parcela_dt_proxima,\n\n       vcc.parcela_dt_proxima::date - current_date as dias_ate_renovacao\n\nfrom cx_data.v_simulacao_novos_planos vsn\njoin cx_data.novos_planos np on np.id = vsn.minimo_plano_id\njoin oroboro2.v_contratos_consolidado vcc on vcc.api_key = vsn.api_key\nleft join oroboro2.contratos_custom cc on vcc.id = cc.contrato_id\nwhere vsn.minimo_plano_destino = 'Company'"
      },
      "outputs": [
        {
          "data": {
            "application/vnd.deepnote.sql-output-metadata+json": {
              "status": "success_no_cache",
              "size_in_bytes": 1025326
            }
          },
          "metadata": {},
          "output_type": "display_data"
        },
        {
          "output_type": "execute_result",
          "execution_count": 9,
          "data": {
            "application/vnd.deepnote.dataframe.v3+json": {
              "column_count": 12,
              "row_count": 2507,
              "columns": [
                {
                  "name": "api_key",
                  "dtype": "object",
                  "stats": {
                    "unique_count": 2507,
                    "nan_count": 0,
                    "categories": [
                      {
                        "name": "5633421678215168",
                        "count": 1
                      },
                      {
                        "name": "5721310499962880",
                        "count": 1
                      },
                      {
                        "name": "2505 others",
                        "count": 2505
                      }
                    ]
                  }
                },
                {
                  "name": "namespace",
                  "dtype": "object",
                  "stats": {
                    "unique_count": 2507,
                    "nan_count": 0,
                    "categories": [
                      {
                        "name": "Soares_e_Souza",
                        "count": 1
                      },
                      {
                        "name": "Claro_e_DC_Fonseca",
                        "count": 1
                      },
                      {
                        "name": "2505 others",
                        "count": 2505
                      }
                    ]
                  }
                },
                {
                  "name": "periodicidade_origem",
                  "dtype": "object",
                  "stats": {
                    "unique_count": 3,
                    "nan_count": 0,
                    "categories": [
                      {
                        "name": "Mensal",
                        "count": 1754
                      },
                      {
                        "name": "Anual parcelado",
                        "count": 524
                      },
                      {
                        "name": "Anual",
                        "count": 229
                      }
                    ]
                  }
                },
                {
                  "name": "plano_origem",
                  "dtype": "object",
                  "stats": {
                    "unique_count": 17,
                    "nan_count": 0,
                    "categories": [
                      {
                        "name": "Astrea Pro 277 / 70",
                        "count": 1005
                      },
                      {
                        "name": "Astrea Pro 257 / 65",
                        "count": 388
                      },
                      {
                        "name": "15 others",
                        "count": 1114
                      }
                    ]
                  }
                },
                {
                  "name": "plano_destino",
                  "dtype": "object",
                  "stats": {
                    "unique_count": 2,
                    "nan_count": 0,
                    "categories": [
                      {
                        "name": "COMPANY",
                        "count": 2197
                      },
                      {
                        "name": "VIP",
                        "count": 310
                      }
                    ]
                  }
                },
                {
                  "name": "vr_liquido_origem",
                  "dtype": "float64",
                  "stats": {
                    "unique_count": 2052,
                    "nan_count": 0,
                    "min": "57.8",
                    "max": "9699.86",
                    "histogram": [
                      {
                        "bin_start": 57.8,
                        "bin_end": 1022.0060000000001,
                        "count": 1755
                      },
                      {
                        "bin_start": 1022.0060000000001,
                        "bin_end": 1986.2120000000002,
                        "count": 10
                      },
                      {
                        "bin_start": 1986.2120000000002,
                        "bin_end": 2950.4180000000006,
                        "count": 133
                      },
                      {
                        "bin_start": 2950.4180000000006,
                        "bin_end": 3914.6240000000007,
                        "count": 253
                      },
                      {
                        "bin_start": 3914.6240000000007,
                        "bin_end": 4878.830000000001,
                        "count": 184
                      },
                      {
                        "bin_start": 4878.830000000001,
                        "bin_end": 5843.036000000001,
                        "count": 88
                      },
                      {
                        "bin_start": 5843.036000000001,
                        "bin_end": 6807.242000000001,
                        "count": 47
                      },
                      {
                        "bin_start": 6807.242000000001,
                        "bin_end": 7771.448000000001,
                        "count": 19
                      },
                      {
                        "bin_start": 7771.448000000001,
                        "bin_end": 8735.654,
                        "count": 10
                      },
                      {
                        "bin_start": 8735.654,
                        "bin_end": 9699.86,
                        "count": 8
                      }
                    ]
                  }
                },
                {
                  "name": "vr_bruto_origem",
                  "dtype": "float64",
                  "stats": {
                    "unique_count": 1978,
                    "nan_count": 0,
                    "min": "160.71",
                    "max": "11181.36",
                    "histogram": [
                      {
                        "bin_start": 160.71,
                        "bin_end": 1262.775,
                        "count": 1754
                      },
                      {
                        "bin_start": 1262.775,
                        "bin_end": 2364.84,
                        "count": 6
                      },
                      {
                        "bin_start": 2364.84,
                        "bin_end": 3466.905,
                        "count": 137
                      },
                      {
                        "bin_start": 3466.905,
                        "bin_end": 4568.97,
                        "count": 258
                      },
                      {
                        "bin_start": 4568.97,
                        "bin_end": 5671.035000000001,
                        "count": 143
                      },
                      {
                        "bin_start": 5671.035000000001,
                        "bin_end": 6773.1,
                        "count": 116
                      },
                      {
                        "bin_start": 6773.1,
                        "bin_end": 7875.165,
                        "count": 52
                      },
                      {
                        "bin_start": 7875.165,
                        "bin_end": 8977.23,
                        "count": 21
                      },
                      {
                        "bin_start": 8977.23,
                        "bin_end": 10079.295,
                        "count": 17
                      },
                      {
                        "bin_start": 10079.295,
                        "bin_end": 11181.36,
                        "count": 3
                      }
                    ]
                  }
                },
                {
                  "name": "vr_bruto_destino",
                  "dtype": "float64",
                  "stats": {
                    "unique_count": 4,
                    "nan_count": 0,
                    "min": "557.0",
                    "max": "10764.0",
                    "histogram": [
                      {
                        "bin_start": 557,
                        "bin_end": 1577.7,
                        "count": 1754
                      },
                      {
                        "bin_start": 1577.7,
                        "bin_end": 2598.4,
                        "count": 0
                      },
                      {
                        "bin_start": 2598.4,
                        "bin_end": 3619.1000000000004,
                        "count": 0
                      },
                      {
                        "bin_start": 3619.1000000000004,
                        "bin_end": 4639.8,
                        "count": 0
                      },
                      {
                        "bin_start": 4639.8,
                        "bin_end": 5660.5,
                        "count": 0
                      },
                      {
                        "bin_start": 5660.5,
                        "bin_end": 6681.200000000001,
                        "count": 670
                      },
                      {
                        "bin_start": 6681.200000000001,
                        "bin_end": 7701.900000000001,
                        "count": 0
                      },
                      {
                        "bin_start": 7701.900000000001,
                        "bin_end": 8722.6,
                        "count": 0
                      },
                      {
                        "bin_start": 8722.6,
                        "bin_end": 9743.300000000001,
                        "count": 0
                      },
                      {
                        "bin_start": 9743.300000000001,
                        "bin_end": 10764,
                        "count": 83
                      }
                    ]
                  }
                },
                {
                  "name": "desconto_origem",
                  "dtype": "float64",
                  "stats": {
                    "unique_count": 1094,
                    "nan_count": 0,
                    "min": "0.0",
                    "max": "5951.4",
                    "histogram": [
                      {
                        "bin_start": 0,
                        "bin_end": 595.14,
                        "count": 2148
                      },
                      {
                        "bin_start": 595.14,
                        "bin_end": 1190.28,
                        "count": 181
                      },
                      {
                        "bin_start": 1190.28,
                        "bin_end": 1785.42,
                        "count": 90
                      },
                      {
                        "bin_start": 1785.42,
                        "bin_end": 2380.56,
                        "count": 41
                      },
                      {
                        "bin_start": 2380.56,
                        "bin_end": 2975.7,
                        "count": 32
                      },
                      {
                        "bin_start": 2975.7,
                        "bin_end": 3570.84,
                        "count": 7
                      },
                      {
                        "bin_start": 3570.84,
                        "bin_end": 4165.98,
                        "count": 1
                      },
                      {
                        "bin_start": 4165.98,
                        "bin_end": 4761.12,
                        "count": 3
                      },
                      {
                        "bin_start": 4761.12,
                        "bin_end": 5356.26,
                        "count": 2
                      },
                      {
                        "bin_start": 5356.26,
                        "bin_end": 5951.4,
                        "count": 2
                      }
                    ]
                  }
                },
                {
                  "name": "desconto_destino",
                  "dtype": "float64",
                  "stats": {
                    "unique_count": 289,
                    "nan_count": 0,
                    "min": "-32.48",
                    "max": "4903.78",
                    "histogram": [
                      {
                        "bin_start": -32.48,
                        "bin_end": 461.1459999999999,
                        "count": 2424
                      },
                      {
                        "bin_start": 461.1459999999999,
                        "bin_end": 954.7719999999998,
                        "count": 0
                      },
                      {
                        "bin_start": 954.7719999999998,
                        "bin_end": 1448.3979999999997,
                        "count": 4
                      },
                      {
                        "bin_start": 1448.3979999999997,
                        "bin_end": 1942.0239999999997,
                        "count": 2
                      },
                      {
                        "bin_start": 1942.0239999999997,
                        "bin_end": 2435.6499999999996,
                        "count": 5
                      },
                      {
                        "bin_start": 2435.6499999999996,
                        "bin_end": 2929.2759999999994,
                        "count": 6
                      },
                      {
                        "bin_start": 2929.2759999999994,
                        "bin_end": 3422.9019999999996,
                        "count": 9
                      },
                      {
                        "bin_start": 3422.9019999999996,
                        "bin_end": 3916.5279999999993,
                        "count": 11
                      },
                      {
                        "bin_start": 3916.5279999999993,
                        "bin_end": 4410.1539999999995,
                        "count": 20
                      },
                      {
                        "bin_start": 4410.1539999999995,
                        "bin_end": 4903.78,
                        "count": 26
                      }
                    ]
                  }
                },
                {
                  "name": "parcela_dt_proxima",
                  "dtype": "datetime64[ns, UTC]",
                  "stats": {
                    "unique_count": 311,
                    "nan_count": 0,
                    "min": "2023-08-10 00:00:00+00:00",
                    "max": "2024-09-02 00:00:00+00:00",
                    "histogram": [
                      {
                        "bin_start": 1691625600000000000,
                        "bin_end": 1694986560000000000,
                        "count": 1111
                      },
                      {
                        "bin_start": 1694986560000000000,
                        "bin_end": 1698347520000000000,
                        "count": 741
                      },
                      {
                        "bin_start": 1698347520000000000,
                        "bin_end": 1701708480000000000,
                        "count": 133
                      },
                      {
                        "bin_start": 1701708480000000000,
                        "bin_end": 1705069440000000000,
                        "count": 53
                      },
                      {
                        "bin_start": 1705069440000000000,
                        "bin_end": 1708430400000000000,
                        "count": 87
                      },
                      {
                        "bin_start": 1708430400000000000,
                        "bin_end": 1711791360000000000,
                        "count": 73
                      },
                      {
                        "bin_start": 1711791360000000000,
                        "bin_end": 1715152320000000000,
                        "count": 58
                      },
                      {
                        "bin_start": 1715152320000000000,
                        "bin_end": 1718513280000000000,
                        "count": 88
                      },
                      {
                        "bin_start": 1718513280000000000,
                        "bin_end": 1721874240000000000,
                        "count": 95
                      },
                      {
                        "bin_start": 1721874240000000000,
                        "bin_end": 1725235200000000000,
                        "count": 68
                      }
                    ]
                  }
                },
                {
                  "name": "dias_ate_renovacao",
                  "dtype": "int64",
                  "stats": {
                    "unique_count": 311,
                    "nan_count": 0,
                    "min": "-13",
                    "max": "376",
                    "histogram": [
                      {
                        "bin_start": -13,
                        "bin_end": 25.9,
                        "count": 1111
                      },
                      {
                        "bin_start": 25.9,
                        "bin_end": 64.8,
                        "count": 741
                      },
                      {
                        "bin_start": 64.8,
                        "bin_end": 103.69999999999999,
                        "count": 133
                      },
                      {
                        "bin_start": 103.69999999999999,
                        "bin_end": 142.6,
                        "count": 53
                      },
                      {
                        "bin_start": 142.6,
                        "bin_end": 181.5,
                        "count": 87
                      },
                      {
                        "bin_start": 181.5,
                        "bin_end": 220.39999999999998,
                        "count": 73
                      },
                      {
                        "bin_start": 220.39999999999998,
                        "bin_end": 259.3,
                        "count": 58
                      },
                      {
                        "bin_start": 259.3,
                        "bin_end": 298.2,
                        "count": 88
                      },
                      {
                        "bin_start": 298.2,
                        "bin_end": 337.09999999999997,
                        "count": 95
                      },
                      {
                        "bin_start": 337.09999999999997,
                        "bin_end": 376,
                        "count": 68
                      }
                    ]
                  }
                },
                {
                  "name": "_deepnote_index_column",
                  "dtype": "int64"
                }
              ],
              "rows": [
                {
                  "api_key": "5277198050918400",
                  "namespace": "marina26",
                  "periodicidade_origem": "Anual parcelado",
                  "plano_origem": "Astrea Pro 257 / 65",
                  "plano_destino": "VIP",
                  "vr_liquido_origem": 6105.76,
                  "vr_bruto_origem": 6447.08,
                  "vr_bruto_destino": 10764,
                  "desconto_origem": 341.32,
                  "desconto_destino": 4658.24,
                  "parcela_dt_proxima": "2023-10-30 00:00:00+00:00",
                  "dias_ate_renovacao": 68,
                  "_deepnote_index_column": 900
                },
                {
                  "api_key": "4967015045136384",
                  "namespace": "adv98",
                  "periodicidade_origem": "Anual parcelado",
                  "plano_origem": "Astrea Pro 237 / 60",
                  "plano_destino": "COMPANY",
                  "vr_liquido_origem": 5611.88,
                  "vr_bruto_origem": 6595.02,
                  "vr_bruto_destino": 5844,
                  "desconto_origem": 983.14,
                  "desconto_destino": 0,
                  "parcela_dt_proxima": "2023-10-30 00:00:00+00:00",
                  "dias_ate_renovacao": 68,
                  "_deepnote_index_column": 901
                },
                {
                  "api_key": "6002931754860544",
                  "namespace": "marciapaula14182",
                  "periodicidade_origem": "Anual parcelado",
                  "plano_origem": "Astrea Pro 237 / 60",
                  "plano_destino": "COMPANY",
                  "vr_liquido_origem": 5307.23,
                  "vr_bruto_origem": 6599.4,
                  "vr_bruto_destino": 5844,
                  "desconto_origem": 1292.17,
                  "desconto_destino": 0,
                  "parcela_dt_proxima": "2023-10-31 00:00:00+00:00",
                  "dias_ate_renovacao": 69,
                  "_deepnote_index_column": 902
                },
                {
                  "api_key": "5533367373922304",
                  "namespace": "eduardo.arruda.adv29",
                  "periodicidade_origem": "Mensal",
                  "plano_origem": "Astrea Pro 237 / 60",
                  "plano_destino": "COMPANY",
                  "vr_liquido_origem": 313.69,
                  "vr_bruto_origem": 362.49,
                  "vr_bruto_destino": 557,
                  "desconto_origem": 48.8,
                  "desconto_destino": 0,
                  "parcela_dt_proxima": "2023-09-06 00:00:00+00:00",
                  "dias_ate_renovacao": 14,
                  "_deepnote_index_column": 903
                },
                {
                  "api_key": "6005107413745664",
                  "namespace": "rradv",
                  "periodicidade_origem": "Mensal",
                  "plano_origem": "Astrea Pro 237 / 60",
                  "plano_destino": "COMPANY",
                  "vr_liquido_origem": 379,
                  "vr_bruto_origem": 379,
                  "vr_bruto_destino": 557,
                  "desconto_origem": 0,
                  "desconto_destino": 0,
                  "parcela_dt_proxima": "2023-09-08 00:00:00+00:00",
                  "dias_ate_renovacao": 16,
                  "_deepnote_index_column": 904
                },
                {
                  "api_key": "5565345905246208",
                  "namespace": "otavio49",
                  "periodicidade_origem": "Anual parcelado",
                  "plano_origem": "Astrea Pro 237 / 60",
                  "plano_destino": "COMPANY",
                  "vr_liquido_origem": 3604.39,
                  "vr_bruto_origem": 4648.04,
                  "vr_bruto_destino": 5844,
                  "desconto_origem": 1043.65,
                  "desconto_destino": 0,
                  "parcela_dt_proxima": "2023-11-17 00:00:00+00:00",
                  "dias_ate_renovacao": 86,
                  "_deepnote_index_column": 905
                },
                {
                  "api_key": "6102478961246208",
                  "namespace": "bacelar.nousi",
                  "periodicidade_origem": "Anual",
                  "plano_origem": "Astrea Pro 257 / 65",
                  "plano_destino": "COMPANY",
                  "vr_liquido_origem": 4660.73,
                  "vr_bruto_origem": 5255.4,
                  "vr_bruto_destino": 5844,
                  "desconto_origem": 594.67,
                  "desconto_destino": 0,
                  "parcela_dt_proxima": "2024-02-07 00:00:00+00:00",
                  "dias_ate_renovacao": 168,
                  "_deepnote_index_column": 906
                },
                {
                  "api_key": "6189510886686720",
                  "namespace": "juliobenarros",
                  "periodicidade_origem": "Mensal",
                  "plano_origem": "Astrea Pro 237 / 60",
                  "plano_destino": "COMPANY",
                  "vr_liquido_origem": 390.12,
                  "vr_bruto_origem": 390.12,
                  "vr_bruto_destino": 557,
                  "desconto_origem": 0,
                  "desconto_destino": 0,
                  "parcela_dt_proxima": "2023-09-08 00:00:00+00:00",
                  "dias_ate_renovacao": 16,
                  "_deepnote_index_column": 907
                },
                {
                  "api_key": "5414908552019968",
                  "namespace": "danielledmoreiraadv82",
                  "periodicidade_origem": "Mensal",
                  "plano_origem": "Astrea Pro 237 / 60",
                  "plano_destino": "COMPANY",
                  "vr_liquido_origem": 440.22,
                  "vr_bruto_origem": 635.58,
                  "vr_bruto_destino": 557,
                  "desconto_origem": 195.36,
                  "desconto_destino": 0,
                  "parcela_dt_proxima": "2023-09-11 00:00:00+00:00",
                  "dias_ate_renovacao": 19,
                  "_deepnote_index_column": 908
                },
                {
                  "api_key": "5575229094756352",
                  "namespace": "ricardo50",
                  "periodicidade_origem": "Mensal",
                  "plano_origem": "Astrea Pro 277 / 70",
                  "plano_destino": "COMPANY",
                  "vr_liquido_origem": 437,
                  "vr_bruto_origem": 437,
                  "vr_bruto_destino": 557,
                  "desconto_origem": 0,
                  "desconto_destino": 0,
                  "parcela_dt_proxima": "2023-09-05 00:00:00+00:00",
                  "dias_ate_renovacao": 13,
                  "_deepnote_index_column": 909
                }
              ]
            },
            "text/plain": "               api_key                           namespace  \\\n0     5633421678215168                      Soares_e_Souza   \n1     5721310499962880                  Claro_e_DC_Fonseca   \n2     5665395394478080            Laurindo_Freitas_e_Selva   \n3     5180660218068992  Aguiar_Toledo_Advogados_Associados   \n4     5390824133099520                      giovannidilion   \n...                ...                                 ...   \n2502  5834965021753344                       contato118874   \n2503  5115392389677056                          ollier.adv   \n2504  5172001582219264                         otavioalday   \n2505  6098603280302080                         joaovitor24   \n2506  6249203740573696                            mariana5   \n\n     periodicidade_origem                   plano_origem plano_destino  \\\n0                  Mensal            Astrea Pro 217 / 50       COMPANY   \n1                  Mensal            Astrea Pro 237 / 60       COMPANY   \n2                  Mensal  Astrea Starter Padrão 50 / 25           VIP   \n3                  Mensal  Astrea Starter Padrão 50 / 25       COMPANY   \n4                  Mensal  Astrea Starter Padrão 60 / 25       COMPANY   \n...                   ...                            ...           ...   \n2502               Mensal            Astrea Pro 277 / 70       COMPANY   \n2503                Anual            Astrea Pro 277 / 70       COMPANY   \n2504               Mensal            Astrea Pro 277 / 70       COMPANY   \n2505      Anual parcelado            Astrea Pro 277 / 70       COMPANY   \n2506                Anual            Astrea Pro 277 / 70       COMPANY   \n\n      vr_liquido_origem  vr_bruto_origem  vr_bruto_destino  desconto_origem  \\\n0                443.40           443.40             557.0             0.00   \n1                391.81           391.81             557.0             0.00   \n2                561.60           561.60             997.0             0.00   \n3                185.44           185.44             557.0             0.00   \n4                385.33           469.25             557.0            83.92   \n...                 ...              ...               ...              ...   \n2502             420.00           577.00             557.0           157.00   \n2503            4500.00          4661.40            5844.0           161.40   \n2504             497.00           497.00             557.0             0.00   \n2505            4000.00          4406.40            5844.0           406.40   \n2506            1107.00          7058.40            5844.0          5951.40   \n\n      desconto_destino        parcela_dt_proxima  dias_ate_renovacao  \n0                  0.0 2023-09-10 00:00:00+00:00                  18  \n1                  0.0 2023-09-26 00:00:00+00:00                  34  \n2                435.4 2023-09-10 00:00:00+00:00                  18  \n3                  0.0 2023-09-10 00:00:00+00:00                  18  \n4                  0.0 2023-09-20 00:00:00+00:00                  28  \n...                ...                       ...                 ...  \n2502               0.0 2023-08-23 00:00:00+00:00                   0  \n2503               0.0 2024-08-24 00:00:00+00:00                 367  \n2504               0.0 2023-08-23 00:00:00+00:00                   0  \n2505               0.0 2023-08-23 00:00:00+00:00                   0  \n2506               0.0 2024-08-26 00:00:00+00:00                 369  \n\n[2507 rows x 12 columns]",
            "text/html": "<div>\n<style scoped>\n    .dataframe tbody tr th:only-of-type {\n        vertical-align: middle;\n    }\n\n    .dataframe tbody tr th {\n        vertical-align: top;\n    }\n\n    .dataframe thead th {\n        text-align: right;\n    }\n</style>\n<table border=\"1\" class=\"dataframe\">\n  <thead>\n    <tr style=\"text-align: right;\">\n      <th></th>\n      <th>api_key</th>\n      <th>namespace</th>\n      <th>periodicidade_origem</th>\n      <th>plano_origem</th>\n      <th>plano_destino</th>\n      <th>vr_liquido_origem</th>\n      <th>vr_bruto_origem</th>\n      <th>vr_bruto_destino</th>\n      <th>desconto_origem</th>\n      <th>desconto_destino</th>\n      <th>parcela_dt_proxima</th>\n      <th>dias_ate_renovacao</th>\n    </tr>\n  </thead>\n  <tbody>\n    <tr>\n      <th>0</th>\n      <td>5633421678215168</td>\n      <td>Soares_e_Souza</td>\n      <td>Mensal</td>\n      <td>Astrea Pro 217 / 50</td>\n      <td>COMPANY</td>\n      <td>443.40</td>\n      <td>443.40</td>\n      <td>557.0</td>\n      <td>0.00</td>\n      <td>0.0</td>\n      <td>2023-09-10 00:00:00+00:00</td>\n      <td>18</td>\n    </tr>\n    <tr>\n      <th>1</th>\n      <td>5721310499962880</td>\n      <td>Claro_e_DC_Fonseca</td>\n      <td>Mensal</td>\n      <td>Astrea Pro 237 / 60</td>\n      <td>COMPANY</td>\n      <td>391.81</td>\n      <td>391.81</td>\n      <td>557.0</td>\n      <td>0.00</td>\n      <td>0.0</td>\n      <td>2023-09-26 00:00:00+00:00</td>\n      <td>34</td>\n    </tr>\n    <tr>\n      <th>2</th>\n      <td>5665395394478080</td>\n      <td>Laurindo_Freitas_e_Selva</td>\n      <td>Mensal</td>\n      <td>Astrea Starter Padrão 50 / 25</td>\n      <td>VIP</td>\n      <td>561.60</td>\n      <td>561.60</td>\n      <td>997.0</td>\n      <td>0.00</td>\n      <td>435.4</td>\n      <td>2023-09-10 00:00:00+00:00</td>\n      <td>18</td>\n    </tr>\n    <tr>\n      <th>3</th>\n      <td>5180660218068992</td>\n      <td>Aguiar_Toledo_Advogados_Associados</td>\n      <td>Mensal</td>\n      <td>Astrea Starter Padrão 50 / 25</td>\n      <td>COMPANY</td>\n      <td>185.44</td>\n      <td>185.44</td>\n      <td>557.0</td>\n      <td>0.00</td>\n      <td>0.0</td>\n      <td>2023-09-10 00:00:00+00:00</td>\n      <td>18</td>\n    </tr>\n    <tr>\n      <th>4</th>\n      <td>5390824133099520</td>\n      <td>giovannidilion</td>\n      <td>Mensal</td>\n      <td>Astrea Starter Padrão 60 / 25</td>\n      <td>COMPANY</td>\n      <td>385.33</td>\n      <td>469.25</td>\n      <td>557.0</td>\n      <td>83.92</td>\n      <td>0.0</td>\n      <td>2023-09-20 00:00:00+00:00</td>\n      <td>28</td>\n    </tr>\n    <tr>\n      <th>...</th>\n      <td>...</td>\n      <td>...</td>\n      <td>...</td>\n      <td>...</td>\n      <td>...</td>\n      <td>...</td>\n      <td>...</td>\n      <td>...</td>\n      <td>...</td>\n      <td>...</td>\n      <td>...</td>\n      <td>...</td>\n    </tr>\n    <tr>\n      <th>2502</th>\n      <td>5834965021753344</td>\n      <td>contato118874</td>\n      <td>Mensal</td>\n      <td>Astrea Pro 277 / 70</td>\n      <td>COMPANY</td>\n      <td>420.00</td>\n      <td>577.00</td>\n      <td>557.0</td>\n      <td>157.00</td>\n      <td>0.0</td>\n      <td>2023-08-23 00:00:00+00:00</td>\n      <td>0</td>\n    </tr>\n    <tr>\n      <th>2503</th>\n      <td>5115392389677056</td>\n      <td>ollier.adv</td>\n      <td>Anual</td>\n      <td>Astrea Pro 277 / 70</td>\n      <td>COMPANY</td>\n      <td>4500.00</td>\n      <td>4661.40</td>\n      <td>5844.0</td>\n      <td>161.40</td>\n      <td>0.0</td>\n      <td>2024-08-24 00:00:00+00:00</td>\n      <td>367</td>\n    </tr>\n    <tr>\n      <th>2504</th>\n      <td>5172001582219264</td>\n      <td>otavioalday</td>\n      <td>Mensal</td>\n      <td>Astrea Pro 277 / 70</td>\n      <td>COMPANY</td>\n      <td>497.00</td>\n      <td>497.00</td>\n      <td>557.0</td>\n      <td>0.00</td>\n      <td>0.0</td>\n      <td>2023-08-23 00:00:00+00:00</td>\n      <td>0</td>\n    </tr>\n    <tr>\n      <th>2505</th>\n      <td>6098603280302080</td>\n      <td>joaovitor24</td>\n      <td>Anual parcelado</td>\n      <td>Astrea Pro 277 / 70</td>\n      <td>COMPANY</td>\n      <td>4000.00</td>\n      <td>4406.40</td>\n      <td>5844.0</td>\n      <td>406.40</td>\n      <td>0.0</td>\n      <td>2023-08-23 00:00:00+00:00</td>\n      <td>0</td>\n    </tr>\n    <tr>\n      <th>2506</th>\n      <td>6249203740573696</td>\n      <td>mariana5</td>\n      <td>Anual</td>\n      <td>Astrea Pro 277 / 70</td>\n      <td>COMPANY</td>\n      <td>1107.00</td>\n      <td>7058.40</td>\n      <td>5844.0</td>\n      <td>5951.40</td>\n      <td>0.0</td>\n      <td>2024-08-26 00:00:00+00:00</td>\n      <td>369</td>\n    </tr>\n  </tbody>\n</table>\n<p>2507 rows × 12 columns</p>\n</div>"
          },
          "metadata": {}
        }
      ],
      "execution_count": 9,
      "block_group": "1b41b07e5fe342a5a21d1a6a100b6c39"
    },
    {
      "cell_type": "code",
      "source": "df_notified_tenants = _deepnote_execute_sql('select api_key from cx_data.virada_planos_notified_customers', 'SQL_EB56FC30_B625_4AA0_83D2_B8F22F562A50', audit_sql_comment='', sql_cache_mode='cache_disabled')\ndf_notified_tenants",
      "metadata": {
        "source_hash": "c7295e27",
        "execution_start": 1692678357819,
        "execution_millis": 427,
        "sql_integration_id": "eb56fc30-b625-4aa0-83d2-b8f22f562a50",
        "deepnote_variable_name": "df_notified_tenants",
        "deepnote_to_be_reexecuted": false,
        "cell_id": "185dabd8e34c42fc978206f251b9e217",
        "deepnote_cell_type": "sql",
        "deepnote_sql_source": "select api_key from cx_data.virada_planos_notified_customers"
      },
      "outputs": [
        {
          "data": {
            "application/vnd.deepnote.sql-output-metadata+json": {
              "status": "success_no_cache",
              "size_in_bytes": 201
            }
          },
          "metadata": {},
          "output_type": "display_data"
        },
        {
          "output_type": "execute_result",
          "execution_count": 10,
          "data": {
            "application/vnd.deepnote.dataframe.v3+json": {
              "column_count": 1,
              "row_count": 1,
              "columns": [
                {
                  "name": "api_key",
                  "dtype": "object",
                  "stats": {
                    "unique_count": 1,
                    "nan_count": 0,
                    "categories": [
                      {
                        "name": "6748020348682240",
                        "count": 1
                      }
                    ]
                  }
                },
                {
                  "name": "_deepnote_index_column",
                  "dtype": "int64"
                }
              ],
              "rows": [
                {
                  "api_key": "6748020348682240",
                  "_deepnote_index_column": 0
                }
              ]
            },
            "text/plain": "            api_key\n0  6748020348682240",
            "text/html": "<div>\n<style scoped>\n    .dataframe tbody tr th:only-of-type {\n        vertical-align: middle;\n    }\n\n    .dataframe tbody tr th {\n        vertical-align: top;\n    }\n\n    .dataframe thead th {\n        text-align: right;\n    }\n</style>\n<table border=\"1\" class=\"dataframe\">\n  <thead>\n    <tr style=\"text-align: right;\">\n      <th></th>\n      <th>api_key</th>\n    </tr>\n  </thead>\n  <tbody>\n    <tr>\n      <th>0</th>\n      <td>6748020348682240</td>\n    </tr>\n  </tbody>\n</table>\n</div>"
          },
          "metadata": {}
        }
      ],
      "execution_count": 10,
      "block_group": "cca444c2575b4f39b18bb4d1c694879b"
    },
    {
      "cell_type": "markdown",
      "source": "## Fluxo de Controle 1: Atualização de Planos",
      "metadata": {
        "formattedRanges": [],
        "cell_id": "d5d0fac288f643e5abd8fbf0019483e2",
        "deepnote_cell_type": "text-cell-h2"
      },
      "block_group": "d5d0fac288f643e5abd8fbf0019483e2"
    },
    {
      "cell_type": "code",
      "source": "control_flow_begin = int(time.time())\nslack_notify(f'Virada de Planos - {version}','Info','Base de Clientes extraída, filtrando clientes para atualização')",
      "metadata": {
        "source_hash": "d3564f33",
        "execution_start": 1692678358026,
        "execution_millis": 100,
        "deepnote_to_be_reexecuted": false,
        "cell_id": "9c3dddeb73b4439dbad1a25987069b01",
        "deepnote_cell_type": "code"
      },
      "outputs": [
        {
          "output_type": "execute_result",
          "execution_count": 11,
          "data": {
            "text/plain": "True"
          },
          "metadata": {}
        }
      ],
      "execution_count": 11,
      "block_group": "9c3dddeb73b4439dbad1a25987069b01"
    },
    {
      "cell_type": "markdown",
      "source": "### Filtro de Clientes passíveis de atualização",
      "metadata": {
        "formattedRanges": [],
        "cell_id": "800c76bcc93a45dca2070c6d2ff4f58d",
        "deepnote_cell_type": "text-cell-h3"
      },
      "block_group": "800c76bcc93a45dca2070c6d2ff4f58d"
    },
    {
      "cell_type": "code",
      "source": "df_clientes_execucao = _deepnote_execute_sql('select * from df_clientes\\nwhere  (periodicidade_origem like \\'%Anual%\\' \\n    or (periodicidade_origem like \\'%Mensal%\\'\\n        and parcela_dt_proxima::date >= \\'2023-10-05\\'::date))\\nand api_key in (select api_key from df_notified_tenants)\\nand dias_ate_renovacao = 30', 'SQL_DEEPNOTE_DATAFRAME_SQL', audit_sql_comment='', sql_cache_mode='cache_disabled')\ndf_clientes_execucao",
      "metadata": {
        "source_hash": "e066a3e0",
        "execution_start": 1692678358027,
        "execution_millis": 178,
        "sql_integration_id": "deepnote-dataframe-sql",
        "deepnote_variable_name": "df_clientes_execucao",
        "deepnote_to_be_reexecuted": false,
        "cell_id": "909ef07ffe4b443aa617622a06377b56",
        "deepnote_cell_type": "sql",
        "deepnote_sql_source": "select * from df_clientes\nwhere  (periodicidade_origem like '%Anual%' \n    or (periodicidade_origem like '%Mensal%'\n        and parcela_dt_proxima::date >= '2023-10-05'::date))\nand api_key in (select api_key from df_notified_tenants)\nand dias_ate_renovacao = 30"
      },
      "outputs": [
        {
          "data": {
            "application/vnd.deepnote.sql-output-metadata+json": {
              "status": "success_no_cache",
              "size_in_bytes": 0
            }
          },
          "metadata": {},
          "output_type": "display_data"
        },
        {
          "output_type": "execute_result",
          "execution_count": 12,
          "data": {
            "application/vnd.deepnote.dataframe.v3+json": {
              "column_count": 12,
              "row_count": 0,
              "columns": [
                {
                  "name": "api_key",
                  "dtype": "object",
                  "stats": {
                    "unique_count": 0,
                    "nan_count": 0,
                    "categories": []
                  }
                },
                {
                  "name": "namespace",
                  "dtype": "object",
                  "stats": {
                    "unique_count": 0,
                    "nan_count": 0,
                    "categories": []
                  }
                },
                {
                  "name": "periodicidade_origem",
                  "dtype": "object",
                  "stats": {
                    "unique_count": 0,
                    "nan_count": 0,
                    "categories": []
                  }
                },
                {
                  "name": "plano_origem",
                  "dtype": "object",
                  "stats": {
                    "unique_count": 0,
                    "nan_count": 0,
                    "categories": []
                  }
                },
                {
                  "name": "plano_destino",
                  "dtype": "object",
                  "stats": {
                    "unique_count": 0,
                    "nan_count": 0,
                    "categories": []
                  }
                },
                {
                  "name": "vr_liquido_origem",
                  "dtype": "object",
                  "stats": {
                    "unique_count": 0,
                    "nan_count": 0,
                    "categories": []
                  }
                },
                {
                  "name": "vr_bruto_origem",
                  "dtype": "object",
                  "stats": {
                    "unique_count": 0,
                    "nan_count": 0,
                    "categories": []
                  }
                },
                {
                  "name": "vr_bruto_destino",
                  "dtype": "object",
                  "stats": {
                    "unique_count": 0,
                    "nan_count": 0,
                    "categories": []
                  }
                },
                {
                  "name": "desconto_origem",
                  "dtype": "object",
                  "stats": {
                    "unique_count": 0,
                    "nan_count": 0,
                    "categories": []
                  }
                },
                {
                  "name": "desconto_destino",
                  "dtype": "object",
                  "stats": {
                    "unique_count": 0,
                    "nan_count": 0,
                    "categories": []
                  }
                },
                {
                  "name": "parcela_dt_proxima",
                  "dtype": "object",
                  "stats": {
                    "unique_count": 0,
                    "nan_count": 0,
                    "categories": []
                  }
                },
                {
                  "name": "dias_ate_renovacao",
                  "dtype": "object",
                  "stats": {
                    "unique_count": 0,
                    "nan_count": 0,
                    "categories": []
                  }
                },
                {
                  "name": "_deepnote_index_column",
                  "dtype": "object"
                }
              ],
              "rows": []
            },
            "text/plain": "Empty DataFrame\nColumns: [api_key, namespace, periodicidade_origem, plano_origem, plano_destino, vr_liquido_origem, vr_bruto_origem, vr_bruto_destino, desconto_origem, desconto_destino, parcela_dt_proxima, dias_ate_renovacao]\nIndex: []",
            "text/html": "<div>\n<style scoped>\n    .dataframe tbody tr th:only-of-type {\n        vertical-align: middle;\n    }\n\n    .dataframe tbody tr th {\n        vertical-align: top;\n    }\n\n    .dataframe thead th {\n        text-align: right;\n    }\n</style>\n<table border=\"1\" class=\"dataframe\">\n  <thead>\n    <tr style=\"text-align: right;\">\n      <th></th>\n      <th>api_key</th>\n      <th>namespace</th>\n      <th>periodicidade_origem</th>\n      <th>plano_origem</th>\n      <th>plano_destino</th>\n      <th>vr_liquido_origem</th>\n      <th>vr_bruto_origem</th>\n      <th>vr_bruto_destino</th>\n      <th>desconto_origem</th>\n      <th>desconto_destino</th>\n      <th>parcela_dt_proxima</th>\n      <th>dias_ate_renovacao</th>\n    </tr>\n  </thead>\n  <tbody>\n  </tbody>\n</table>\n</div>"
          },
          "metadata": {}
        }
      ],
      "execution_count": 12,
      "block_group": "f10b25c43e554b31bf9eecbf39a90ab4"
    },
    {
      "cell_type": "code",
      "source": "extracted_on = int(time.time())",
      "metadata": {
        "source_hash": "2e0c7686",
        "execution_start": 1692678358112,
        "execution_millis": 22,
        "deepnote_to_be_reexecuted": false,
        "cell_id": "5f63f763a0894a10a06ebe570bccc9a5",
        "deepnote_cell_type": "code"
      },
      "outputs": [],
      "execution_count": 13,
      "block_group": "5f63f763a0894a10a06ebe570bccc9a5"
    },
    {
      "cell_type": "markdown",
      "source": "### Instanciamento de Recursos",
      "metadata": {
        "formattedRanges": [],
        "cell_id": "00043de6aad746bbbf0e30f83d6fa5db",
        "deepnote_cell_type": "text-cell-h3"
      },
      "block_group": "00043de6aad746bbbf0e30f83d6fa5db"
    },
    {
      "cell_type": "code",
      "source": "# Instanciando API do Astrea\napiastrea = AstreaPlanApi(auth = os.environ[f\"ASTREAV2_{keyversion}_AUTH\"])\n\n# Instanciando a API do Intercom\napiintercom = IntercomAPI(auth = os.environ[\"INTERCOM_AUTH\"])\n\n# Instanciando PostgreSQL\ncon = PostgresqlDB(\n    host = os.environ[\"ASTREA_DATA_HOST\"],\n    port = 5432,\n    database = 'astrea_data',\n    user = 'cxops',\n    password = os.environ[\"CXOPS_PASS\"], \n)",
      "metadata": {
        "source_hash": "8805e8e9",
        "execution_start": 1692678358112,
        "execution_millis": 27,
        "deepnote_to_be_reexecuted": false,
        "cell_id": "a9e9e9680c2849cfa4b2f4b8464f4d68",
        "deepnote_cell_type": "code"
      },
      "outputs": [],
      "execution_count": 14,
      "block_group": "7108bb08eed34369b03406d035956995"
    },
    {
      "cell_type": "markdown",
      "source": "### Execução da Atualização",
      "metadata": {
        "formattedRanges": [],
        "cell_id": "cf0f9985727d46d68b5f1d3a1bd6c1f8",
        "deepnote_cell_type": "text-cell-h3"
      },
      "block_group": "cf0f9985727d46d68b5f1d3a1bd6c1f8"
    },
    {
      "cell_type": "code",
      "source": "clientes_exec = len(df_clientes_execucao)\n\nif clientes_exec == 0:\n    slack_notify(f'Virada de Planos - {version}','Info','Nenhum cliente encontrado para atualização')\n\nelif clientes_exec > 0:\n    slack_notify(f'Virada de Planos - {version}','Info',f'{clientes_exec} clientes encontrados para atualização')\n    logger.info('Fluxo de Controle: Iniciando o Loop de integração')\n    for index, row in df_clientes_execucao.iterrows():\n        customer = row.to_dict()\n        request_at = int(time.time())\n        logger.info(f'{__name__}: Integrando customer: {customer[\"namespace\"]} em {request_at}')\n        response = apiastrea.make_change_plan_request(customer=customer)\n        response_at = int(time.time())\n\n        if response.status_code in range(200, 299):\n            apiintercom.notify_company_users(\n                company_name= customer[\"namespace\"],\n                event_name=\"virada-planos-automacao-concluida\",\n                timestamp=response_at\n            )\n        else:\n            apiintercom.notify_company_users(\n                company_name= customer[\"namespace\"],\n                event_name=\"virada-planos-automacao-falhou\",\n                timestamp=response_at\n            )\n        customer_summary = {\n            \"script_ver\": version,\n            \"api_key\": customer['api_key'],\n            \"namespace\": customer['namespace'],\n            \"periodicidade\": customer['periodicidade'],\n            \"plano_origem\": customer['plano_origem'],\n            \"plano_destino\": customer['plano_destino'],\n            \"vr_bruto_origem\": customer['vr_bruto_origem'], # 10 - VR Bruto Origem - Decimal\n            \"vr_bruto_destino\": customer['vr_bruto_destino'], # 11 - VR Bruto Destino - Decimal\n            \"vr_liquido_origem\": customer['vr_liquido_origem'], # 12 - VR Liquido Origem - Decimal\n            \"desconto_origem\": customer['desconto_origem'], # 13 - Desconto Origem - Decimal\n            \"desconto_destino\": customer['desconto_destino'], # 14 - Desconto Destino - Decimal\n            \"parcela_dt_proxima\": customer['parcela_dt_proxima'], # 15 - Parcela Dt Proxima - Date\n            \"dias_ate_renovacao\": customer['dias_ate_renovacao'], # 16 - Dias Ate Renovacao - Integer\n            \"extracted_on\": extracted_on, # 17 - Extracted On - Bigint\n            \"request_at\": request_at, # 18 - Request At - Bigint\n            \"response_at\": response_at, # 19 - Response At - Bigint\n            \"response_elapsed\": response.elapsed.total_seconds(), # 20 - Response Elapsed - Decimal\n            \"response_status_code\": response.status_code, # 21 - Response Status Code - Integer\n            \"response_content\": str(response.content), # 22 - Response Content - Text\n            \"error_count_so_far\": apiastrea.error_count # 23 - Error Count - Integer\n        }\n        con.insert_row(\n            table='cx_data.virada_planos_customer_summary',\n            values=customer_summary\n        )\n\ncontrol_flow_end = int(time.time())\ntotal_elapsed_time = control_flow_end - control_flow_begin\nlogger.info(f'Atualização finalizada ({total_elapsed_time}s), {apiastrea.error_count} erros, {apiastrea.successful_requests} sucessos.')\nslack_notify(f'Virada de Planos - {version}','Finish',f'Atualização finalizada ({total_elapsed_time}s), {apiastrea.error_count} erros, {apiastrea.successful_requests} sucessos.')\nlogger.info(f\"Fluxo de Controle Finalizado\")",
      "metadata": {
        "source_hash": "1aa1c10d",
        "execution_start": 1692678358183,
        "execution_millis": 48,
        "deepnote_to_be_reexecuted": false,
        "cell_id": "63b949c2467048a7b918aba4d89f33f8",
        "deepnote_cell_type": "code"
      },
      "outputs": [],
      "execution_count": 15,
      "block_group": "63b949c2467048a7b918aba4d89f33f8"
    },
    {
      "cell_type": "code",
      "source": "",
      "metadata": {
        "source_hash": "b623e53d",
        "execution_start": 1692678358223,
        "execution_millis": 26,
        "deepnote_to_be_reexecuted": false,
        "cell_id": "ed5cd1825f3d4344acc12215c743c3d2",
        "deepnote_cell_type": "code"
      },
      "outputs": [],
      "execution_count": 15,
      "block_group": "ed5cd1825f3d4344acc12215c743c3d2"
    },
    {
      "cell_type": "markdown",
      "source": "## Fluxo de Controle 2: Notificação de clientes 45d",
      "metadata": {
        "formattedRanges": [],
        "cell_id": "0030daac80f24342bcc0e69cefb6be3d",
        "deepnote_cell_type": "text-cell-h2"
      },
      "block_group": "0030daac80f24342bcc0e69cefb6be3d"
    },
    {
      "cell_type": "code",
      "source": "df_clientes_notificacao = _deepnote_execute_sql('select * from df_clientes\\nwhere  (periodicidade_origem like \\'%Anual%\\' and dias_ate_renovacao = 45\\n    or (periodicidade_origem like \\'%Mensal%\\'\\n        and (parcela_dt_proxima::date + interval\\'1 month\\') - current_date::date = 45))\\nand not api_key in (select api_key from df_notified_tenants)\\nlimit 1', 'SQL_DEEPNOTE_DATAFRAME_SQL', audit_sql_comment='', sql_cache_mode='cache_disabled')\ndf_clientes_notificacao",
      "metadata": {
        "source_hash": "2d5dff17",
        "execution_start": 1692678358281,
        "execution_millis": 149,
        "sql_integration_id": "deepnote-dataframe-sql",
        "deepnote_table_state": {
          "sortBy": [],
          "filters": [],
          "pageSize": 10,
          "pageIndex": 4
        },
        "deepnote_table_loading": false,
        "deepnote_variable_name": "df_clientes_notificacao",
        "deepnote_to_be_reexecuted": false,
        "cell_id": "e2ac61f1a33548e39b38ebb602786069",
        "deepnote_cell_type": "sql",
        "deepnote_sql_source": "select * from df_clientes\nwhere  (periodicidade_origem like '%Anual%' and dias_ate_renovacao = 45\n    or (periodicidade_origem like '%Mensal%'\n        and (parcela_dt_proxima::date + interval'1 month') - current_date::date = 45))\nand not api_key in (select api_key from df_notified_tenants)\nlimit 1"
      },
      "outputs": [
        {
          "data": {
            "application/vnd.deepnote.sql-output-metadata+json": {
              "status": "success_no_cache",
              "size_in_bytes": 576
            }
          },
          "metadata": {},
          "output_type": "display_data"
        },
        {
          "output_type": "execute_result",
          "execution_count": 16,
          "data": {
            "application/vnd.deepnote.dataframe.v3+json": {
              "column_count": 12,
              "row_count": 1,
              "columns": [
                {
                  "name": "api_key",
                  "dtype": "object",
                  "stats": {
                    "unique_count": 1,
                    "nan_count": 0,
                    "categories": [
                      {
                        "name": "4556297799335936",
                        "count": 1
                      }
                    ]
                  }
                },
                {
                  "name": "namespace",
                  "dtype": "object",
                  "stats": {
                    "unique_count": 1,
                    "nan_count": 0,
                    "categories": [
                      {
                        "name": "mila.rodriigues",
                        "count": 1
                      }
                    ]
                  }
                },
                {
                  "name": "periodicidade_origem",
                  "dtype": "object",
                  "stats": {
                    "unique_count": 1,
                    "nan_count": 0,
                    "categories": [
                      {
                        "name": "Anual parcelado",
                        "count": 1
                      }
                    ]
                  }
                },
                {
                  "name": "plano_origem",
                  "dtype": "object",
                  "stats": {
                    "unique_count": 1,
                    "nan_count": 0,
                    "categories": [
                      {
                        "name": "Astrea Starter Padrão 129 / 50",
                        "count": 1
                      }
                    ]
                  }
                },
                {
                  "name": "plano_destino",
                  "dtype": "object",
                  "stats": {
                    "unique_count": 1,
                    "nan_count": 0,
                    "categories": [
                      {
                        "name": "COMPANY",
                        "count": 1
                      }
                    ]
                  }
                },
                {
                  "name": "vr_liquido_origem",
                  "dtype": "float64",
                  "stats": {
                    "unique_count": 1,
                    "nan_count": 0,
                    "min": "2468.4",
                    "max": "2468.4",
                    "histogram": [
                      {
                        "bin_start": 2467.9,
                        "bin_end": 2468,
                        "count": 0
                      },
                      {
                        "bin_start": 2468,
                        "bin_end": 2468.1,
                        "count": 0
                      },
                      {
                        "bin_start": 2468.1,
                        "bin_end": 2468.2000000000003,
                        "count": 0
                      },
                      {
                        "bin_start": 2468.2000000000003,
                        "bin_end": 2468.3,
                        "count": 0
                      },
                      {
                        "bin_start": 2468.3,
                        "bin_end": 2468.4,
                        "count": 0
                      },
                      {
                        "bin_start": 2468.4,
                        "bin_end": 2468.5,
                        "count": 1
                      },
                      {
                        "bin_start": 2468.5,
                        "bin_end": 2468.6,
                        "count": 0
                      },
                      {
                        "bin_start": 2468.6,
                        "bin_end": 2468.7000000000003,
                        "count": 0
                      },
                      {
                        "bin_start": 2468.7000000000003,
                        "bin_end": 2468.8,
                        "count": 0
                      },
                      {
                        "bin_start": 2468.8,
                        "bin_end": 2468.9,
                        "count": 0
                      }
                    ]
                  }
                },
                {
                  "name": "vr_bruto_origem",
                  "dtype": "float64",
                  "stats": {
                    "unique_count": 1,
                    "nan_count": 0,
                    "min": "2468.4",
                    "max": "2468.4",
                    "histogram": [
                      {
                        "bin_start": 2467.9,
                        "bin_end": 2468,
                        "count": 0
                      },
                      {
                        "bin_start": 2468,
                        "bin_end": 2468.1,
                        "count": 0
                      },
                      {
                        "bin_start": 2468.1,
                        "bin_end": 2468.2000000000003,
                        "count": 0
                      },
                      {
                        "bin_start": 2468.2000000000003,
                        "bin_end": 2468.3,
                        "count": 0
                      },
                      {
                        "bin_start": 2468.3,
                        "bin_end": 2468.4,
                        "count": 0
                      },
                      {
                        "bin_start": 2468.4,
                        "bin_end": 2468.5,
                        "count": 1
                      },
                      {
                        "bin_start": 2468.5,
                        "bin_end": 2468.6,
                        "count": 0
                      },
                      {
                        "bin_start": 2468.6,
                        "bin_end": 2468.7000000000003,
                        "count": 0
                      },
                      {
                        "bin_start": 2468.7000000000003,
                        "bin_end": 2468.8,
                        "count": 0
                      },
                      {
                        "bin_start": 2468.8,
                        "bin_end": 2468.9,
                        "count": 0
                      }
                    ]
                  }
                },
                {
                  "name": "vr_bruto_destino",
                  "dtype": "float64",
                  "stats": {
                    "unique_count": 1,
                    "nan_count": 0,
                    "min": "5844.0",
                    "max": "5844.0",
                    "histogram": [
                      {
                        "bin_start": 5843.5,
                        "bin_end": 5843.6,
                        "count": 0
                      },
                      {
                        "bin_start": 5843.6,
                        "bin_end": 5843.7,
                        "count": 0
                      },
                      {
                        "bin_start": 5843.7,
                        "bin_end": 5843.8,
                        "count": 0
                      },
                      {
                        "bin_start": 5843.8,
                        "bin_end": 5843.9,
                        "count": 0
                      },
                      {
                        "bin_start": 5843.9,
                        "bin_end": 5844,
                        "count": 0
                      },
                      {
                        "bin_start": 5844,
                        "bin_end": 5844.1,
                        "count": 1
                      },
                      {
                        "bin_start": 5844.1,
                        "bin_end": 5844.2,
                        "count": 0
                      },
                      {
                        "bin_start": 5844.2,
                        "bin_end": 5844.3,
                        "count": 0
                      },
                      {
                        "bin_start": 5844.3,
                        "bin_end": 5844.4,
                        "count": 0
                      },
                      {
                        "bin_start": 5844.4,
                        "bin_end": 5844.5,
                        "count": 0
                      }
                    ]
                  }
                },
                {
                  "name": "desconto_origem",
                  "dtype": "float64",
                  "stats": {
                    "unique_count": 1,
                    "nan_count": 0,
                    "min": "0.0",
                    "max": "0.0",
                    "histogram": [
                      {
                        "bin_start": -0.5,
                        "bin_end": -0.4,
                        "count": 0
                      },
                      {
                        "bin_start": -0.4,
                        "bin_end": -0.3,
                        "count": 0
                      },
                      {
                        "bin_start": -0.3,
                        "bin_end": -0.19999999999999996,
                        "count": 0
                      },
                      {
                        "bin_start": -0.19999999999999996,
                        "bin_end": -0.09999999999999998,
                        "count": 0
                      },
                      {
                        "bin_start": -0.09999999999999998,
                        "bin_end": 0,
                        "count": 0
                      },
                      {
                        "bin_start": 0,
                        "bin_end": 0.10000000000000009,
                        "count": 1
                      },
                      {
                        "bin_start": 0.10000000000000009,
                        "bin_end": 0.20000000000000007,
                        "count": 0
                      },
                      {
                        "bin_start": 0.20000000000000007,
                        "bin_end": 0.30000000000000004,
                        "count": 0
                      },
                      {
                        "bin_start": 0.30000000000000004,
                        "bin_end": 0.4,
                        "count": 0
                      },
                      {
                        "bin_start": 0.4,
                        "bin_end": 0.5,
                        "count": 0
                      }
                    ]
                  }
                },
                {
                  "name": "desconto_destino",
                  "dtype": "float64",
                  "stats": {
                    "unique_count": 1,
                    "nan_count": 0,
                    "min": "0.0",
                    "max": "0.0",
                    "histogram": [
                      {
                        "bin_start": -0.5,
                        "bin_end": -0.4,
                        "count": 0
                      },
                      {
                        "bin_start": -0.4,
                        "bin_end": -0.3,
                        "count": 0
                      },
                      {
                        "bin_start": -0.3,
                        "bin_end": -0.19999999999999996,
                        "count": 0
                      },
                      {
                        "bin_start": -0.19999999999999996,
                        "bin_end": -0.09999999999999998,
                        "count": 0
                      },
                      {
                        "bin_start": -0.09999999999999998,
                        "bin_end": 0,
                        "count": 0
                      },
                      {
                        "bin_start": 0,
                        "bin_end": 0.10000000000000009,
                        "count": 1
                      },
                      {
                        "bin_start": 0.10000000000000009,
                        "bin_end": 0.20000000000000007,
                        "count": 0
                      },
                      {
                        "bin_start": 0.20000000000000007,
                        "bin_end": 0.30000000000000004,
                        "count": 0
                      },
                      {
                        "bin_start": 0.30000000000000004,
                        "bin_end": 0.4,
                        "count": 0
                      },
                      {
                        "bin_start": 0.4,
                        "bin_end": 0.5,
                        "count": 0
                      }
                    ]
                  }
                },
                {
                  "name": "parcela_dt_proxima",
                  "dtype": "datetime64[ns]",
                  "stats": {
                    "unique_count": 1,
                    "nan_count": 0,
                    "min": "2023-10-07 00:00:00",
                    "max": "2023-10-07 00:00:00",
                    "histogram": null
                  }
                },
                {
                  "name": "dias_ate_renovacao",
                  "dtype": "int64",
                  "stats": {
                    "unique_count": 1,
                    "nan_count": 0,
                    "min": "45",
                    "max": "45",
                    "histogram": [
                      {
                        "bin_start": 44.5,
                        "bin_end": 44.6,
                        "count": 0
                      },
                      {
                        "bin_start": 44.6,
                        "bin_end": 44.7,
                        "count": 0
                      },
                      {
                        "bin_start": 44.7,
                        "bin_end": 44.8,
                        "count": 0
                      },
                      {
                        "bin_start": 44.8,
                        "bin_end": 44.9,
                        "count": 0
                      },
                      {
                        "bin_start": 44.9,
                        "bin_end": 45,
                        "count": 0
                      },
                      {
                        "bin_start": 45,
                        "bin_end": 45.1,
                        "count": 1
                      },
                      {
                        "bin_start": 45.1,
                        "bin_end": 45.2,
                        "count": 0
                      },
                      {
                        "bin_start": 45.2,
                        "bin_end": 45.3,
                        "count": 0
                      },
                      {
                        "bin_start": 45.3,
                        "bin_end": 45.4,
                        "count": 0
                      },
                      {
                        "bin_start": 45.4,
                        "bin_end": 45.5,
                        "count": 0
                      }
                    ]
                  }
                },
                {
                  "name": "_deepnote_index_column",
                  "dtype": "int64"
                }
              ],
              "rows": [
                {
                  "api_key": "4556297799335936",
                  "namespace": "mila.rodriigues",
                  "periodicidade_origem": "Anual parcelado",
                  "plano_origem": "Astrea Starter Padrão 129 / 50",
                  "plano_destino": "COMPANY",
                  "vr_liquido_origem": 2468.4,
                  "vr_bruto_origem": 2468.4,
                  "vr_bruto_destino": 5844,
                  "desconto_origem": 0,
                  "desconto_destino": 0,
                  "parcela_dt_proxima": "2023-10-07 00:00:00",
                  "dias_ate_renovacao": 45,
                  "_deepnote_index_column": 0
                }
              ]
            },
            "text/plain": "            api_key        namespace periodicidade_origem  \\\n0  4556297799335936  mila.rodriigues      Anual parcelado   \n\n                     plano_origem plano_destino  vr_liquido_origem  \\\n0  Astrea Starter Padrão 129 / 50       COMPANY             2468.4   \n\n   vr_bruto_origem  vr_bruto_destino  desconto_origem  desconto_destino  \\\n0           2468.4            5844.0              0.0               0.0   \n\n  parcela_dt_proxima  dias_ate_renovacao  \n0         2023-10-07                  45  ",
            "text/html": "<div>\n<style scoped>\n    .dataframe tbody tr th:only-of-type {\n        vertical-align: middle;\n    }\n\n    .dataframe tbody tr th {\n        vertical-align: top;\n    }\n\n    .dataframe thead th {\n        text-align: right;\n    }\n</style>\n<table border=\"1\" class=\"dataframe\">\n  <thead>\n    <tr style=\"text-align: right;\">\n      <th></th>\n      <th>api_key</th>\n      <th>namespace</th>\n      <th>periodicidade_origem</th>\n      <th>plano_origem</th>\n      <th>plano_destino</th>\n      <th>vr_liquido_origem</th>\n      <th>vr_bruto_origem</th>\n      <th>vr_bruto_destino</th>\n      <th>desconto_origem</th>\n      <th>desconto_destino</th>\n      <th>parcela_dt_proxima</th>\n      <th>dias_ate_renovacao</th>\n    </tr>\n  </thead>\n  <tbody>\n    <tr>\n      <th>0</th>\n      <td>4556297799335936</td>\n      <td>mila.rodriigues</td>\n      <td>Anual parcelado</td>\n      <td>Astrea Starter Padrão 129 / 50</td>\n      <td>COMPANY</td>\n      <td>2468.4</td>\n      <td>2468.4</td>\n      <td>5844.0</td>\n      <td>0.0</td>\n      <td>0.0</td>\n      <td>2023-10-07</td>\n      <td>45</td>\n    </tr>\n  </tbody>\n</table>\n</div>"
          },
          "metadata": {}
        }
      ],
      "execution_count": 16,
      "block_group": "e2ac61f1a33548e39b38ebb602786069"
    },
    {
      "cell_type": "code",
      "source": "clientes_notify = len(df_clientes_notificacao)\n\nif clientes_notify == 0:\n    slack_notify(f'Virada de Planos - {version}','Info','Nenhum cliente encontrado para notificação de 45d')\n\nelif clientes_notify > 0:\n    slack_notify(f'Virada de Planos - {version}','Info',f'{clientes_notify} clientes encontrados para notificação de 45d')\n    logger.info('Fluxo de Controle: Iniciando o Loop de notificação')\n    for index, row in df_clientes_notificacao.iterrows():\n        customer = row.to_dict()\n        notification = apiintercom.notify_company_users(\n            company_name=customer[\"namespace\"],\n            event_name=\"virada-planos-notificacao-45d\",\n            timestamp = int(time.time())\n        )\n        \n        customer_summary = {\n            \"script_ver\": version,\n            \"api_key\": customer['api_key'],\n            \"namespace\": customer['namespace'],\n            \"periodicidade\": customer['periodicidade_origem'],\n            \"plano_origem\": customer['plano_origem'],\n            \"plano_destino\": customer['plano_destino'],\n            \"vr_bruto_origem\": customer['vr_bruto_origem'], # 10 - VR Bruto Origem - Decimal\n            \"vr_bruto_destino\": customer['vr_bruto_destino'], # 11 - VR Bruto Destino - Decimal\n            \"vr_liquido_origem\": customer['vr_liquido_origem'], # 12 - VR Liquido Origem - Decimal\n            \"desconto_origem\": customer['desconto_origem'], # 13 - Desconto Origem - Decimal\n            \"desconto_destino\": customer['desconto_destino'], # 14 - Desconto Destino - Decimal\n            \"parcela_dt_proxima\": customer['parcela_dt_proxima'], # 15 - Parcela Dt Proxima - Date\n            \"dias_ate_renovacao\": customer['dias_ate_renovacao'], # 16 - Dias Ate Renovacao - Integer\n            \"users_notified\": notification['success']\n            }\n        con.insert_row(\n            table='cx_data.virada_planos_notified_customers',\n            values=customer_summary\n        )\nlogger.info('Fluxo de Controle: Loop de notificação finalizado.')",
      "metadata": {
        "source_hash": "49697c39",
        "execution_start": 1692678427338,
        "execution_millis": 1372,
        "deepnote_to_be_reexecuted": false,
        "cell_id": "f3b0da8e4f3c4cbf9714bec6e39897d6",
        "deepnote_cell_type": "code"
      },
      "outputs": [],
      "execution_count": 18,
      "block_group": "f3b0da8e4f3c4cbf9714bec6e39897d6"
    },
    {
      "cell_type": "markdown",
      "source": "<a style='text-decoration:none;line-height:16px;display:flex;color:#5B5B62;padding:10px;justify-content:end;' href='https://deepnote.com?utm_source=created-in-deepnote-cell&projectId=a6aa03ff-9a9e-4b1a-a1ec-ff555e98a018' target=\"_blank\">\n<img alt='Created in deepnote.com' style='display:inline;max-height:16px;margin:0px;margin-right:7.5px;' src='data:image/svg+xml;base64,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' > </img>\nCreated in <span style='font-weight:600;margin-left:4px;'>Deepnote</span></a>",
      "metadata": {
        "created_in_deepnote_cell": true,
        "deepnote_cell_type": "markdown"
      }
    }
  ],
  "nbformat": 4,
  "nbformat_minor": 0,
  "metadata": {
    "deepnote": {},
    "orig_nbformat": 2,
    "deepnote_full_width": true,
    "deepnote_notebook_id": "14da9ad8736e452ca369e2f67a79d49d",
    "deepnote_execution_queue": []
  }
}