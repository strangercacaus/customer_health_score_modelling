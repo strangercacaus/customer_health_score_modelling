{
  "cells": [
    {
      "cell_type": "code",
      "source": "import pandas as pd\nimport requests\nimport json\nimport time\nimport random\nurl = \"https://change-plan-dot-astreav2.appspot.com/api/v2/dev/change-plan\"\nauth = os.getenv(\"ASTREAV2_HOM_AUTH\")\nedition_type = \"COMPANY\"",
      "metadata": {
        "source_hash": null,
        "execution_start": 1692670223346,
        "execution_millis": 702,
        "deepnote_to_be_reexecuted": false,
        "cell_id": "294f8d43e7864998b8f982d8782f6ba1",
        "deepnote_cell_type": "code"
      },
      "outputs": [
        {
          "output_type": "error",
          "ename": "NameError",
          "evalue": "name 'os' is not defined",
          "traceback": [
            "\u001b[0;31m---------------------------------------------------------------------------\u001b[0m",
            "\u001b[0;31mNameError\u001b[0m                                 Traceback (most recent call last)",
            "Cell \u001b[0;32mIn [1], line 7\u001b[0m\n\u001b[1;32m      5\u001b[0m \u001b[38;5;28;01mimport\u001b[39;00m \u001b[38;5;21;01mrandom\u001b[39;00m\n\u001b[1;32m      6\u001b[0m url \u001b[38;5;241m=\u001b[39m \u001b[38;5;124m\"\u001b[39m\u001b[38;5;124mhttps://change-plan-dot-astreav2.appspot.com/api/v2/dev/change-plan\u001b[39m\u001b[38;5;124m\"\u001b[39m\n\u001b[0;32m----> 7\u001b[0m auth \u001b[38;5;241m=\u001b[39m \u001b[43mos\u001b[49m\u001b[38;5;241m.\u001b[39mgetenv(\u001b[38;5;124m\"\u001b[39m\u001b[38;5;124mASTREAV2_HOM_AUTH\u001b[39m\u001b[38;5;124m\"\u001b[39m)\n\u001b[1;32m      8\u001b[0m edition_type \u001b[38;5;241m=\u001b[39m \u001b[38;5;124m\"\u001b[39m\u001b[38;5;124mCOMPANY\u001b[39m\u001b[38;5;124m\"\u001b[39m\n",
            "\u001b[0;31mNameError\u001b[0m: name 'os' is not defined"
          ]
        }
      ],
      "execution_count": null,
      "block_group": "8f09c5ea36994b759db78e08b133c766"
    },
    {
      "cell_type": "code",
      "source": "df_3 = _deepnote_execute_sql('SELECT CAST(TENANT AS VARCHAR) AS api_key\\nFROM \\'/work/api_validation/astrea_homolog_contracts.csv\\'', 'SQL_DEEPNOTE_DATAFRAME_SQL', audit_sql_comment='', sql_cache_mode='cache_disabled')\ndf_3",
      "metadata": {
        "source_hash": null,
        "execution_start": 1692670093693,
        "execution_millis": 828,
        "sql_integration_id": "deepnote-dataframe-sql",
        "deepnote_table_state": {
          "sortBy": [],
          "filters": [],
          "pageSize": 10,
          "pageIndex": 4
        },
        "deepnote_table_loading": false,
        "deepnote_variable_name": "df_3",
        "deepnote_to_be_reexecuted": true,
        "cell_id": "f562fd4c3d7a4bd4b47c83d33b137520",
        "deepnote_cell_type": "sql",
        "deepnote_sql_source": "SELECT CAST(TENANT AS VARCHAR) AS api_key\nFROM '/work/api_validation/astrea_homolog_contracts.csv'"
      },
      "outputs": [],
      "execution_count": null,
      "block_group": "e21eb7f30bd24713a9d7355cfa62aa55"
    },
    {
      "cell_type": "code",
      "source": "df_1 = _deepnote_execute_sql('SELECT *\\nFROM \\'/work/api_validation/oroboro_homolog_contracts.csv\\' mch', 'SQL_DEEPNOTE_DATAFRAME_SQL', audit_sql_comment='', sql_cache_mode='cache_disabled')\ndf_1",
      "metadata": {
        "source_hash": null,
        "execution_start": 1692670130565,
        "execution_millis": 240,
        "sql_integration_id": "deepnote-dataframe-sql",
        "deepnote_variable_name": "df_1",
        "deepnote_to_be_reexecuted": true,
        "cell_id": "7419b68dff0b45fe8f5509887d26e04c",
        "deepnote_cell_type": "sql",
        "deepnote_sql_source": "SELECT *\nFROM '/work/api_validation/oroboro_homolog_contracts.csv' mch"
      },
      "outputs": [],
      "execution_count": null,
      "block_group": "294f8d43e7864998b8f982d8782f6ba1"
    },
    {
      "cell_type": "code",
      "source": "df_2 = _deepnote_execute_sql('SELECT d1.*\\nFROM df_1 d1\\njoin df_3 d3 on d1.api_key = d3.api_key\\nlimit 15\\noffset 6', 'SQL_DEEPNOTE_DATAFRAME_SQL', audit_sql_comment='', sql_cache_mode='cache_disabled')\ndf_2",
      "metadata": {
        "source_hash": null,
        "execution_start": 1691596628352,
        "execution_millis": 386,
        "sql_integration_id": "deepnote-dataframe-sql",
        "deepnote_variable_name": "df_2",
        "deepnote_to_be_reexecuted": true,
        "cell_id": "72466b37907742d48ce85997ba2af9dd",
        "deepnote_cell_type": "sql",
        "deepnote_sql_source": "SELECT d1.*\nFROM df_1 d1\njoin df_3 d3 on d1.api_key = d3.api_key\nlimit 15\noffset 6"
      },
      "outputs": [],
      "execution_count": null,
      "block_group": "72466b37907742d48ce85997ba2af9dd"
    },
    {
      "cell_type": "code",
      "source": "df = pd.read_csv('/work/api_validation/test_dump_v2.csv', index_col=0)\n\nfor index, row in df_2.iterrows():\n\n    # Obter tenant do registro:\n    tenant = str(int(row[0]))\n\n    # Simular valores base e de desconto do plano com o módulo random\n\n    coupon = round(random.uniform(0, 100), 3)\n\n    if row[5] == \"Mensal\":\n        baseValue = 175\n        discount = coupon\n    elif row[5] == \"Semestral\":\n        baseValue = 175 * 6\n        discount = coupon * 6\n    else:\n        baseValue = 175 * 12\n        discount = coupon * 12\n\n    # Configurar payload para a requisição POST\n\n    payload = json.dumps(\n        {\n            \"tenantId\": tenant,\n            \"editionType\": \"COMPANY\",\n            \"baseValue\": baseValue,\n            \"discount\": discount,\n        }\n    )\n\n    # Configurar Headers\n\n    headers = {\"Authorization\": auth, \"Content-Type\": \"application/json\"}\n\n    # Realizar requisição HTTP\n\n    response = requests.request(\"POST\", url, headers=headers, data=payload)\n\n    # Estruturar informações do teste\n\n    test = [\n        f\"{tenant}\",\n        f\"{row[4]}\",\n        f\"{row[5]}\",\n        f\"{row[6]}\",\n        f\"{row[7]}\",\n        f\"{row[8]}\",\n        f\"{row[9]}\",\n        f\"{row[10]}\",\n        tenant,\n        edition_type,\n        baseValue,\n        discount,\n        response.elapsed.total_seconds(),\n        response.status_code,\n        response.text\n    ]\n    df.loc[len(df)] = test",
      "metadata": {
        "source_hash": null,
        "execution_start": 1691596771061,
        "execution_millis": 67919,
        "is_output_hidden": false,
        "deepnote_to_be_reexecuted": true,
        "deepnote_app_is_output_hidden": true,
        "cell_id": "bf238c7a862840de86510858d577bac6",
        "deepnote_cell_type": "code"
      },
      "outputs": [],
      "execution_count": null,
      "block_group": "bf238c7a862840de86510858d577bac6"
    },
    {
      "cell_type": "code",
      "source": "df.to_csv('result_set.csv')",
      "metadata": {
        "source_hash": null,
        "execution_start": 1691596854945,
        "execution_millis": 13,
        "deepnote_to_be_reexecuted": true,
        "cell_id": "36fd727ff42c4678b8286212bb431fad",
        "deepnote_cell_type": "code"
      },
      "outputs": [],
      "execution_count": null,
      "block_group": "36fd727ff42c4678b8286212bb431fad"
    },
    {
      "cell_type": "markdown",
      "source": "<a style='text-decoration:none;line-height:16px;display:flex;color:#5B5B62;padding:10px;justify-content:end;' href='https://deepnote.com?utm_source=created-in-deepnote-cell&projectId=a6aa03ff-9a9e-4b1a-a1ec-ff555e98a018' target=\"_blank\">\n<img alt='Created in deepnote.com' style='display:inline;max-height:16px;margin:0px;margin-right:7.5px;' src='data:image/svg+xml;base64,PD94bWwgdmVyc2lvbj0iMS4wIiBlbmNvZGluZz0iVVRGLTgiPz4KPHN2ZyB3aWR0aD0iODBweCIgaGVpZ2h0PSI4MHB4IiB2aWV3Qm94PSIwIDAgODAgODAiIHZlcnNpb249IjEuMSIgeG1sbnM9Imh0dHA6Ly93d3cudzMub3JnLzIwMDAvc3ZnIiB4bWxuczp4bGluaz0iaHR0cDovL3d3dy53My5vcmcvMTk5OS94bGluayI+CiAgICA8IS0tIEdlbmVyYXRvcjogU2tldGNoIDU0LjEgKDc2NDkwKSAtIGh0dHBzOi8vc2tldGNoYXBwLmNvbSAtLT4KICAgIDx0aXRsZT5Hcm91cCAzPC90aXRsZT4KICAgIDxkZXNjPkNyZWF0ZWQgd2l0aCBTa2V0Y2guPC9kZXNjPgogICAgPGcgaWQ9IkxhbmRpbmciIHN0cm9rZT0ibm9uZSIgc3Ryb2tlLXdpZHRoPSIxIiBmaWxsPSJub25lIiBmaWxsLXJ1bGU9ImV2ZW5vZGQiPgogICAgICAgIDxnIGlkPSJBcnRib2FyZCIgdHJhbnNmb3JtPSJ0cmFuc2xhdGUoLTEyMzUuMDAwMDAwLCAtNzkuMDAwMDAwKSI+CiAgICAgICAgICAgIDxnIGlkPSJHcm91cC0zIiB0cmFuc2Zvcm09InRyYW5zbGF0ZSgxMjM1LjAwMDAwMCwgNzkuMDAwMDAwKSI+CiAgICAgICAgICAgICAgICA8cG9seWdvbiBpZD0iUGF0aC0yMCIgZmlsbD0iIzAyNjVCNCIgcG9pbnRzPSIyLjM3NjIzNzYyIDgwIDM4LjA0NzY2NjcgODAgNTcuODIxNzgyMiA3My44MDU3NTkyIDU3LjgyMTc4MjIgMzIuNzU5MjczOSAzOS4xNDAyMjc4IDMxLjY4MzE2ODMiPjwvcG9seWdvbj4KICAgICAgICAgICAgICAgIDxwYXRoIGQ9Ik0zNS4wMDc3MTgsODAgQzQyLjkwNjIwMDcsNzYuNDU0OTM1OCA0Ny41NjQ5MTY3LDcxLjU0MjI2NzEgNDguOTgzODY2LDY1LjI2MTk5MzkgQzUxLjExMjI4OTksNTUuODQxNTg0MiA0MS42NzcxNzk1LDQ5LjIxMjIyODQgMjUuNjIzOTg0Niw0OS4yMTIyMjg0IEMyNS40ODQ5Mjg5LDQ5LjEyNjg0NDggMjkuODI2MTI5Niw0My4yODM4MjQ4IDM4LjY0NzU4NjksMzEuNjgzMTY4MyBMNzIuODcxMjg3MSwzMi41NTQ0MjUgTDY1LjI4MDk3Myw2Ny42NzYzNDIxIEw1MS4xMTIyODk5LDc3LjM3NjE0NCBMMzUuMDA3NzE4LDgwIFoiIGlkPSJQYXRoLTIyIiBmaWxsPSIjMDAyODY4Ij48L3BhdGg+CiAgICAgICAgICAgICAgICA8cGF0aCBkPSJNMCwzNy43MzA0NDA1IEwyNy4xMTQ1MzcsMC4yNTcxMTE0MzYgQzYyLjM3MTUxMjMsLTEuOTkwNzE3MDEgODAsMTAuNTAwMzkyNyA4MCwzNy43MzA0NDA1IEM4MCw2NC45NjA0ODgyIDY0Ljc3NjUwMzgsNzkuMDUwMzQxNCAzNC4zMjk1MTEzLDgwIEM0Ny4wNTUzNDg5LDc3LjU2NzA4MDggNTMuNDE4MjY3Nyw3MC4zMTM2MTAzIDUzLjQxODI2NzcsNTguMjM5NTg4NSBDNTMuNDE4MjY3Nyw0MC4xMjg1NTU3IDM2LjMwMzk1NDQsMzcuNzMwNDQwNSAyNS4yMjc0MTcsMzcuNzMwNDQwNSBDMTcuODQzMDU4NiwzNy43MzA0NDA1IDkuNDMzOTE5NjYsMzcuNzMwNDQwNSAwLDM3LjczMDQ0MDUgWiIgaWQ9IlBhdGgtMTkiIGZpbGw9IiMzNzkzRUYiPjwvcGF0aD4KICAgICAgICAgICAgPC9nPgogICAgICAgIDwvZz4KICAgIDwvZz4KPC9zdmc+' > </img>\nCreated in <span style='font-weight:600;margin-left:4px;'>Deepnote</span></a>",
      "metadata": {
        "created_in_deepnote_cell": true,
        "deepnote_cell_type": "markdown"
      }
    }
  ],
  "nbformat": 4,
  "nbformat_minor": 0,
  "metadata": {
    "deepnote": {},
    "orig_nbformat": 2,
    "deepnote_notebook_id": "f2d9c44fc1b54a2f85da86c30ded0cd7",
    "deepnote_persisted_session": {
      "createdAt": "2023-08-22T02:46:21.490Z"
    },
    "deepnote_execution_queue": []
  }
}