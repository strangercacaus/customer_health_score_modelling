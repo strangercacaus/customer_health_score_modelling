{
  "cells": [
    {
      "cell_type": "code",
      "source": "import pandas as pd\nimport requests\nimport json\nimport time\nimport random\nurl = \"https://change-plan-dot-astreav2.appspot.com/api/v2/dev/change-plan\"\nauth = '65z5!lR3P8Kl'\nedition_type = \"COMPANY\"",
      "metadata": {
        "source_hash": null,
        "execution_start": 1691596494554,
        "execution_millis": 8,
        "deepnote_to_be_reexecuted": false,
        "cell_id": "294f8d43e7864998b8f982d8782f6ba1",
        "deepnote_cell_type": "code"
      },
      "outputs": [],
      "execution_count": null,
      "block_group": "8f09c5ea36994b759db78e08b133c766"
    },
    {
      "cell_type": "code",
      "source": "df_3 = _deepnote_execute_sql('SELECT CAST(TENANT AS VARCHAR) AS api_key\\nFROM \\'homolog_oroboro.csv\\'', 'SQL_DEEPNOTE_DATAFRAME_SQL', audit_sql_comment='', sql_cache_mode='cache_disabled')\ndf_3",
      "metadata": {
        "source_hash": null,
        "execution_start": 1691596494597,
        "execution_millis": 749,
        "sql_integration_id": "deepnote-dataframe-sql",
        "deepnote_table_state": {
          "sortBy": [],
          "filters": [],
          "pageSize": 10,
          "pageIndex": 4
        },
        "deepnote_table_loading": false,
        "deepnote_variable_name": "df_3",
        "deepnote_to_be_reexecuted": false,
        "cell_id": "f562fd4c3d7a4bd4b47c83d33b137520",
        "deepnote_cell_type": "sql",
        "deepnote_sql_source": "SELECT CAST(TENANT AS VARCHAR) AS api_key\nFROM 'homolog_oroboro.csv'"
      },
      "outputs": [
        {
          "data": {
            "application/vnd.deepnote.sql-output-metadata+json": {
              "status": "success_no_cache",
              "size_in_bytes": 57506
            }
          },
          "metadata": {},
          "output_type": "display_data"
        },
        {
          "output_type": "execute_result",
          "execution_count": 2,
          "data": {
            "application/vnd.deepnote.dataframe.v3+json": {
              "column_count": 1,
              "row_count": 786,
              "columns": [
                {
                  "name": "api_key",
                  "dtype": "object",
                  "stats": {
                    "unique_count": 786,
                    "nan_count": 0,
                    "categories": [
                      {
                        "name": "4506122833100800",
                        "count": 1
                      },
                      {
                        "name": "4506706051072000",
                        "count": 1
                      },
                      {
                        "name": "784 others",
                        "count": 784
                      }
                    ]
                  }
                },
                {
                  "name": "_deepnote_index_column",
                  "dtype": "int64"
                }
              ],
              "rows": [
                {
                  "api_key": "4792498106925056",
                  "_deepnote_index_column": 40
                },
                {
                  "api_key": "4793159486799872",
                  "_deepnote_index_column": 41
                },
                {
                  "api_key": "4801317323145216",
                  "_deepnote_index_column": 42
                },
                {
                  "api_key": "4806381815201792",
                  "_deepnote_index_column": 43
                },
                {
                  "api_key": "4808034747416576",
                  "_deepnote_index_column": 44
                },
                {
                  "api_key": "4808405852618752",
                  "_deepnote_index_column": 45
                },
                {
                  "api_key": "4810132133773312",
                  "_deepnote_index_column": 46
                },
                {
                  "api_key": "4812493250101248",
                  "_deepnote_index_column": 47
                },
                {
                  "api_key": "4816013090619392",
                  "_deepnote_index_column": 48
                },
                {
                  "api_key": "4817116593651712",
                  "_deepnote_index_column": 49
                }
              ]
            },
            "text/plain": "              api_key\n0    4506122833100800\n1    4506706051072000\n2    4512223953158144\n3    4519760804970496\n4    4522932990640128\n..                ...\n781  6704071075430400\n782  6704715670749184\n783  6705347398467584\n784  6719300092559360\n785  6725138607767552\n\n[786 rows x 1 columns]",
            "text/html": "<div>\n<style scoped>\n    .dataframe tbody tr th:only-of-type {\n        vertical-align: middle;\n    }\n\n    .dataframe tbody tr th {\n        vertical-align: top;\n    }\n\n    .dataframe thead th {\n        text-align: right;\n    }\n</style>\n<table border=\"1\" class=\"dataframe\">\n  <thead>\n    <tr style=\"text-align: right;\">\n      <th></th>\n      <th>api_key</th>\n    </tr>\n  </thead>\n  <tbody>\n    <tr>\n      <th>0</th>\n      <td>4506122833100800</td>\n    </tr>\n    <tr>\n      <th>1</th>\n      <td>4506706051072000</td>\n    </tr>\n    <tr>\n      <th>2</th>\n      <td>4512223953158144</td>\n    </tr>\n    <tr>\n      <th>3</th>\n      <td>4519760804970496</td>\n    </tr>\n    <tr>\n      <th>4</th>\n      <td>4522932990640128</td>\n    </tr>\n    <tr>\n      <th>...</th>\n      <td>...</td>\n    </tr>\n    <tr>\n      <th>781</th>\n      <td>6704071075430400</td>\n    </tr>\n    <tr>\n      <th>782</th>\n      <td>6704715670749184</td>\n    </tr>\n    <tr>\n      <th>783</th>\n      <td>6705347398467584</td>\n    </tr>\n    <tr>\n      <th>784</th>\n      <td>6719300092559360</td>\n    </tr>\n    <tr>\n      <th>785</th>\n      <td>6725138607767552</td>\n    </tr>\n  </tbody>\n</table>\n<p>786 rows × 1 columns</p>\n</div>"
          },
          "metadata": {}
        }
      ],
      "execution_count": null,
      "block_group": "e21eb7f30bd24713a9d7355cfa62aa55"
    },
    {
      "cell_type": "code",
      "source": "df_1 = _deepnote_execute_sql('SELECT *\\nFROM \\'/work/Migração company homologacao.csv\\' mch', 'SQL_DEEPNOTE_DATAFRAME_SQL', audit_sql_comment='', sql_cache_mode='cache_disabled')\ndf_1",
      "metadata": {
        "source_hash": null,
        "execution_start": 1691596495031,
        "execution_millis": 648,
        "sql_integration_id": "deepnote-dataframe-sql",
        "deepnote_variable_name": "df_1",
        "deepnote_to_be_reexecuted": false,
        "cell_id": "7419b68dff0b45fe8f5509887d26e04c",
        "deepnote_cell_type": "sql",
        "deepnote_sql_source": "SELECT *\nFROM '/work/Migração company homologacao.csv' mch"
      },
      "outputs": [
        {
          "data": {
            "application/vnd.deepnote.sql-output-metadata+json": {
              "status": "success_no_cache",
              "size_in_bytes": 3547884
            }
          },
          "metadata": {},
          "output_type": "display_data"
        },
        {
          "output_type": "execute_result",
          "execution_count": 3,
          "data": {
            "application/vnd.deepnote.dataframe.v3+json": {
              "column_count": 11,
              "row_count": 6861,
              "columns": [
                {
                  "name": "api_key",
                  "dtype": "object",
                  "stats": {
                    "unique_count": 6854,
                    "nan_count": 0,
                    "categories": [
                      {
                        "name": "5820814557446144",
                        "count": 2
                      },
                      {
                        "name": "6323934794350592",
                        "count": 2
                      },
                      {
                        "name": "6852 others",
                        "count": 6857
                      }
                    ]
                  }
                },
                {
                  "name": "inicio_data",
                  "dtype": "object",
                  "stats": {
                    "unique_count": 2807,
                    "nan_count": 0,
                    "categories": [
                      {
                        "name": "2022-06-27",
                        "count": 71
                      },
                      {
                        "name": "2022-08-26",
                        "count": 60
                      },
                      {
                        "name": "2805 others",
                        "count": 6730
                      }
                    ]
                  }
                },
                {
                  "name": "cancto_data",
                  "dtype": "object",
                  "stats": {
                    "unique_count": 913,
                    "nan_count": 5139,
                    "categories": [
                      {
                        "name": "2017-04-25",
                        "count": 40
                      },
                      {
                        "name": "912 others",
                        "count": 1682
                      },
                      {
                        "name": "Missing",
                        "count": 5139
                      }
                    ]
                  }
                },
                {
                  "name": "cancto_motivo",
                  "dtype": "object",
                  "stats": {
                    "unique_count": 939,
                    "nan_count": 5672,
                    "categories": [
                      {
                        "name": "INADIMPLENCIA",
                        "count": 40
                      },
                      {
                        "name": "938 others",
                        "count": 1149
                      },
                      {
                        "name": "Missing",
                        "count": 5672
                      }
                    ]
                  }
                },
                {
                  "name": "plano",
                  "dtype": "object",
                  "stats": {
                    "unique_count": 34,
                    "nan_count": 0,
                    "categories": [
                      {
                        "name": "Licenciamento",
                        "count": 1743
                      },
                      {
                        "name": "Astrea Starter Padrão 60 / 25",
                        "count": 826
                      },
                      {
                        "name": "32 others",
                        "count": 4292
                      }
                    ]
                  }
                },
                {
                  "name": "periodicidade",
                  "dtype": "object",
                  "stats": {
                    "unique_count": 5,
                    "nan_count": 0,
                    "categories": [
                      {
                        "name": "Mensal",
                        "count": 6237
                      },
                      {
                        "name": "Anual",
                        "count": 349
                      },
                      {
                        "name": "3 others",
                        "count": 275
                      }
                    ]
                  }
                },
                {
                  "name": "forma_pagamento",
                  "dtype": "object",
                  "stats": {
                    "unique_count": 4,
                    "nan_count": 0,
                    "categories": [
                      {
                        "name": "Boleto",
                        "count": 4874
                      },
                      {
                        "name": "Cartão",
                        "count": 1966
                      },
                      {
                        "name": "2 others",
                        "count": 21
                      }
                    ]
                  }
                },
                {
                  "name": "status",
                  "dtype": "object",
                  "stats": {
                    "unique_count": 6,
                    "nan_count": 0,
                    "categories": [
                      {
                        "name": "Ativo",
                        "count": 4398
                      },
                      {
                        "name": "Encerrado",
                        "count": 1654
                      },
                      {
                        "name": "4 others",
                        "count": 809
                      }
                    ]
                  }
                },
                {
                  "name": "vr_contrato_total_sem_cupons",
                  "dtype": "float64",
                  "stats": {
                    "unique_count": 2467,
                    "nan_count": 687,
                    "min": "0.0",
                    "max": "73562.4",
                    "histogram": [
                      {
                        "bin_start": 0,
                        "bin_end": 7356.24,
                        "count": 6115
                      },
                      {
                        "bin_start": 7356.24,
                        "bin_end": 14712.48,
                        "count": 44
                      },
                      {
                        "bin_start": 14712.48,
                        "bin_end": 22068.72,
                        "count": 6
                      },
                      {
                        "bin_start": 22068.72,
                        "bin_end": 29424.96,
                        "count": 1
                      },
                      {
                        "bin_start": 29424.96,
                        "bin_end": 36781.2,
                        "count": 1
                      },
                      {
                        "bin_start": 36781.2,
                        "bin_end": 44137.44,
                        "count": 1
                      },
                      {
                        "bin_start": 44137.44,
                        "bin_end": 51493.68,
                        "count": 1
                      },
                      {
                        "bin_start": 51493.68,
                        "bin_end": 58849.92,
                        "count": 0
                      },
                      {
                        "bin_start": 58849.92,
                        "bin_end": 66206.16,
                        "count": 3
                      },
                      {
                        "bin_start": 66206.16,
                        "bin_end": 73562.4,
                        "count": 2
                      }
                    ]
                  }
                },
                {
                  "name": "vr_cupons_ativos_total",
                  "dtype": "float64",
                  "stats": {
                    "unique_count": 50,
                    "nan_count": 0,
                    "min": "0.0",
                    "max": "3351.89",
                    "histogram": [
                      {
                        "bin_start": 0,
                        "bin_end": 335.18899999999996,
                        "count": 6853
                      },
                      {
                        "bin_start": 335.18899999999996,
                        "bin_end": 670.3779999999999,
                        "count": 3
                      },
                      {
                        "bin_start": 670.3779999999999,
                        "bin_end": 1005.5669999999999,
                        "count": 2
                      },
                      {
                        "bin_start": 1005.5669999999999,
                        "bin_end": 1340.7559999999999,
                        "count": 1
                      },
                      {
                        "bin_start": 1340.7559999999999,
                        "bin_end": 1675.9449999999997,
                        "count": 0
                      },
                      {
                        "bin_start": 1675.9449999999997,
                        "bin_end": 2011.1339999999998,
                        "count": 0
                      },
                      {
                        "bin_start": 2011.1339999999998,
                        "bin_end": 2346.323,
                        "count": 0
                      },
                      {
                        "bin_start": 2346.323,
                        "bin_end": 2681.5119999999997,
                        "count": 0
                      },
                      {
                        "bin_start": 2681.5119999999997,
                        "bin_end": 3016.7009999999996,
                        "count": 1
                      },
                      {
                        "bin_start": 3016.7009999999996,
                        "bin_end": 3351.89,
                        "count": 1
                      }
                    ]
                  }
                },
                {
                  "name": "vr_contrato_total_com_cupons",
                  "dtype": "float64",
                  "stats": {
                    "unique_count": 2486,
                    "nan_count": 687,
                    "min": "-100.0",
                    "max": "73562.4",
                    "histogram": [
                      {
                        "bin_start": -100,
                        "bin_end": 7266.24,
                        "count": 6115
                      },
                      {
                        "bin_start": 7266.24,
                        "bin_end": 14632.48,
                        "count": 44
                      },
                      {
                        "bin_start": 14632.48,
                        "bin_end": 21998.72,
                        "count": 6
                      },
                      {
                        "bin_start": 21998.72,
                        "bin_end": 29364.96,
                        "count": 1
                      },
                      {
                        "bin_start": 29364.96,
                        "bin_end": 36731.2,
                        "count": 1
                      },
                      {
                        "bin_start": 36731.2,
                        "bin_end": 44097.44,
                        "count": 1
                      },
                      {
                        "bin_start": 44097.44,
                        "bin_end": 51463.68,
                        "count": 1
                      },
                      {
                        "bin_start": 51463.68,
                        "bin_end": 58829.92,
                        "count": 0
                      },
                      {
                        "bin_start": 58829.92,
                        "bin_end": 66196.16,
                        "count": 3
                      },
                      {
                        "bin_start": 66196.16,
                        "bin_end": 73562.4,
                        "count": 2
                      }
                    ]
                  }
                },
                {
                  "name": "_deepnote_index_column",
                  "dtype": "int64"
                }
              ],
              "rows": [
                {
                  "api_key": "5094886499942400",
                  "inicio_data": "2014-02-14",
                  "cancto_data": "2018-10-11",
                  "cancto_motivo": "None",
                  "plano": "Astrea Starter Padrão 50 / 25",
                  "periodicidade": "Anual",
                  "forma_pagamento": "Fatura Paypal",
                  "status": "Encerrado",
                  "vr_contrato_total_sem_cupons": 1739.31,
                  "vr_cupons_ativos_total": 0,
                  "vr_contrato_total_com_cupons": 1739.31,
                  "_deepnote_index_column": 0
                },
                {
                  "api_key": "4887027430457344",
                  "inicio_data": "2014-07-02",
                  "cancto_data": "None",
                  "cancto_motivo": "None",
                  "plano": "Astrea Starter Padrão 50 / 25",
                  "periodicidade": "Mensal",
                  "forma_pagamento": "Boleto",
                  "status": "Ativo",
                  "vr_contrato_total_sem_cupons": 76.46,
                  "vr_cupons_ativos_total": 0,
                  "vr_contrato_total_com_cupons": 76.46,
                  "_deepnote_index_column": 1
                },
                {
                  "api_key": "5671589005754368",
                  "inicio_data": "2014-09-17",
                  "cancto_data": "None",
                  "cancto_motivo": "None",
                  "plano": "Astrea Starter Padrão 50 / 25",
                  "periodicidade": "Mensal",
                  "forma_pagamento": "Boleto",
                  "status": "Ativo",
                  "vr_contrato_total_sem_cupons": 72.67,
                  "vr_cupons_ativos_total": 0,
                  "vr_contrato_total_com_cupons": 72.67,
                  "_deepnote_index_column": 2
                },
                {
                  "api_key": "5747687638958080",
                  "inicio_data": "2013-11-11",
                  "cancto_data": "2022-07-19",
                  "cancto_motivo": "None",
                  "plano": "Astrea Starter Padrão 50 / 25",
                  "periodicidade": "Mensal",
                  "forma_pagamento": "Boleto",
                  "status": "Encerrado",
                  "vr_contrato_total_sem_cupons": 72.66,
                  "vr_cupons_ativos_total": 0,
                  "vr_contrato_total_com_cupons": 72.66,
                  "_deepnote_index_column": 3
                },
                {
                  "api_key": "5679369808773120",
                  "inicio_data": "2014-02-10",
                  "cancto_data": "2017-06-30",
                  "cancto_motivo": "TESTE",
                  "plano": "Astrea Starter Padrão 50 / 25",
                  "periodicidade": "Mensal",
                  "forma_pagamento": "Boleto",
                  "status": "Encerrado",
                  "vr_contrato_total_sem_cupons": 61.09,
                  "vr_cupons_ativos_total": 0,
                  "vr_contrato_total_com_cupons": 61.09,
                  "_deepnote_index_column": 4
                },
                {
                  "api_key": "5633196813189120",
                  "inicio_data": "2014-08-27",
                  "cancto_data": "None",
                  "cancto_motivo": "None",
                  "plano": "Astrea Starter Padrão 50 / 25",
                  "periodicidade": "Mensal",
                  "forma_pagamento": "Boleto",
                  "status": "Ativo",
                  "vr_contrato_total_sem_cupons": 70.74,
                  "vr_cupons_ativos_total": 0,
                  "vr_contrato_total_com_cupons": 70.74,
                  "_deepnote_index_column": 5
                },
                {
                  "api_key": "5744287786467328",
                  "inicio_data": "2014-07-28",
                  "cancto_data": "None",
                  "cancto_motivo": "None",
                  "plano": "Astrea Starter Padrão 50 / 25",
                  "periodicidade": "Mensal",
                  "forma_pagamento": "Boleto",
                  "status": "Ativo",
                  "vr_contrato_total_sem_cupons": 105.65,
                  "vr_cupons_ativos_total": 0,
                  "vr_contrato_total_com_cupons": 105.65,
                  "_deepnote_index_column": 6
                },
                {
                  "api_key": "5124630608084992",
                  "inicio_data": "2014-08-18",
                  "cancto_data": "None",
                  "cancto_motivo": "None",
                  "plano": "Astrea Starter Padrão 50 / 25",
                  "periodicidade": "Mensal",
                  "forma_pagamento": "Boleto",
                  "status": "Ativo",
                  "vr_contrato_total_sem_cupons": 155,
                  "vr_cupons_ativos_total": 0,
                  "vr_contrato_total_com_cupons": 155,
                  "_deepnote_index_column": 7
                },
                {
                  "api_key": "5990241022246912",
                  "inicio_data": "2014-12-16",
                  "cancto_data": "None",
                  "cancto_motivo": "None",
                  "plano": "Astrea Starter Padrão 60 / 25",
                  "periodicidade": "Mensal",
                  "forma_pagamento": "Boleto",
                  "status": "Ativo",
                  "vr_contrato_total_sem_cupons": 86.9,
                  "vr_cupons_ativos_total": 0,
                  "vr_contrato_total_com_cupons": 86.9,
                  "_deepnote_index_column": 8
                },
                {
                  "api_key": "5675856898818048",
                  "inicio_data": "2015-01-07",
                  "cancto_data": "None",
                  "cancto_motivo": "None",
                  "plano": "Astrea Starter Padrão 60 / 25",
                  "periodicidade": "Mensal",
                  "forma_pagamento": "Boleto",
                  "status": "Ativo",
                  "vr_contrato_total_sem_cupons": 377.47,
                  "vr_cupons_ativos_total": 0,
                  "vr_contrato_total_com_cupons": 377.47,
                  "_deepnote_index_column": 9
                }
              ]
            },
            "text/plain": "               api_key inicio_data cancto_data cancto_motivo  \\\n0     5094886499942400  2014-02-14  2018-10-11          None   \n1     4887027430457344  2014-07-02        None          None   \n2     5671589005754368  2014-09-17        None          None   \n3     5747687638958080  2013-11-11  2022-07-19          None   \n4     5679369808773120  2014-02-10  2017-06-30         TESTE   \n...                ...         ...         ...           ...   \n6856  4845217437450240  2023-08-09        None          None   \n6857  6257091030810624  2023-08-09        None          None   \n6858  4920083951910912  2023-08-09        None          None   \n6859  4888634724974592  2023-08-09        None          None   \n6860  6313746481283072  2023-08-09        None          None   \n\n                              plano periodicidade forma_pagamento  \\\n0     Astrea Starter Padrão 50 / 25         Anual   Fatura Paypal   \n1     Astrea Starter Padrão 50 / 25        Mensal          Boleto   \n2     Astrea Starter Padrão 50 / 25        Mensal          Boleto   \n3     Astrea Starter Padrão 50 / 25        Mensal          Boleto   \n4     Astrea Starter Padrão 50 / 25        Mensal          Boleto   \n...                             ...           ...             ...   \n6856                          Smart        Mensal          Boleto   \n6857                          Smart        Mensal          Boleto   \n6858                          Smart        Mensal          Boleto   \n6859                          Smart        Mensal          Boleto   \n6860                            VIP        Mensal          Boleto   \n\n           status  vr_contrato_total_sem_cupons  vr_cupons_ativos_total  \\\n0       Encerrado                       1739.31                    0.00   \n1           Ativo                         76.46                    0.00   \n2           Ativo                         72.67                    0.00   \n3       Encerrado                         72.66                    0.00   \n4       Encerrado                         61.09                    0.00   \n...           ...                           ...                     ...   \n6856  Em Ativação                        317.00                   23.71   \n6857  Em Ativação                        317.00                    0.00   \n6858  Em Ativação                        317.00                    0.00   \n6859  Em Ativação                        317.00                    0.00   \n6860  Em Ativação                        997.00                   35.23   \n\n      vr_contrato_total_com_cupons  \n0                          1739.31  \n1                            76.46  \n2                            72.67  \n3                            72.66  \n4                            61.09  \n...                            ...  \n6856                        293.29  \n6857                        317.00  \n6858                        317.00  \n6859                        317.00  \n6860                        961.77  \n\n[6861 rows x 11 columns]",
            "text/html": "<div>\n<style scoped>\n    .dataframe tbody tr th:only-of-type {\n        vertical-align: middle;\n    }\n\n    .dataframe tbody tr th {\n        vertical-align: top;\n    }\n\n    .dataframe thead th {\n        text-align: right;\n    }\n</style>\n<table border=\"1\" class=\"dataframe\">\n  <thead>\n    <tr style=\"text-align: right;\">\n      <th></th>\n      <th>api_key</th>\n      <th>inicio_data</th>\n      <th>cancto_data</th>\n      <th>cancto_motivo</th>\n      <th>plano</th>\n      <th>periodicidade</th>\n      <th>forma_pagamento</th>\n      <th>status</th>\n      <th>vr_contrato_total_sem_cupons</th>\n      <th>vr_cupons_ativos_total</th>\n      <th>vr_contrato_total_com_cupons</th>\n    </tr>\n  </thead>\n  <tbody>\n    <tr>\n      <th>0</th>\n      <td>5094886499942400</td>\n      <td>2014-02-14</td>\n      <td>2018-10-11</td>\n      <td>None</td>\n      <td>Astrea Starter Padrão 50 / 25</td>\n      <td>Anual</td>\n      <td>Fatura Paypal</td>\n      <td>Encerrado</td>\n      <td>1739.31</td>\n      <td>0.00</td>\n      <td>1739.31</td>\n    </tr>\n    <tr>\n      <th>1</th>\n      <td>4887027430457344</td>\n      <td>2014-07-02</td>\n      <td>None</td>\n      <td>None</td>\n      <td>Astrea Starter Padrão 50 / 25</td>\n      <td>Mensal</td>\n      <td>Boleto</td>\n      <td>Ativo</td>\n      <td>76.46</td>\n      <td>0.00</td>\n      <td>76.46</td>\n    </tr>\n    <tr>\n      <th>2</th>\n      <td>5671589005754368</td>\n      <td>2014-09-17</td>\n      <td>None</td>\n      <td>None</td>\n      <td>Astrea Starter Padrão 50 / 25</td>\n      <td>Mensal</td>\n      <td>Boleto</td>\n      <td>Ativo</td>\n      <td>72.67</td>\n      <td>0.00</td>\n      <td>72.67</td>\n    </tr>\n    <tr>\n      <th>3</th>\n      <td>5747687638958080</td>\n      <td>2013-11-11</td>\n      <td>2022-07-19</td>\n      <td>None</td>\n      <td>Astrea Starter Padrão 50 / 25</td>\n      <td>Mensal</td>\n      <td>Boleto</td>\n      <td>Encerrado</td>\n      <td>72.66</td>\n      <td>0.00</td>\n      <td>72.66</td>\n    </tr>\n    <tr>\n      <th>4</th>\n      <td>5679369808773120</td>\n      <td>2014-02-10</td>\n      <td>2017-06-30</td>\n      <td>TESTE</td>\n      <td>Astrea Starter Padrão 50 / 25</td>\n      <td>Mensal</td>\n      <td>Boleto</td>\n      <td>Encerrado</td>\n      <td>61.09</td>\n      <td>0.00</td>\n      <td>61.09</td>\n    </tr>\n    <tr>\n      <th>...</th>\n      <td>...</td>\n      <td>...</td>\n      <td>...</td>\n      <td>...</td>\n      <td>...</td>\n      <td>...</td>\n      <td>...</td>\n      <td>...</td>\n      <td>...</td>\n      <td>...</td>\n      <td>...</td>\n    </tr>\n    <tr>\n      <th>6856</th>\n      <td>4845217437450240</td>\n      <td>2023-08-09</td>\n      <td>None</td>\n      <td>None</td>\n      <td>Smart</td>\n      <td>Mensal</td>\n      <td>Boleto</td>\n      <td>Em Ativação</td>\n      <td>317.00</td>\n      <td>23.71</td>\n      <td>293.29</td>\n    </tr>\n    <tr>\n      <th>6857</th>\n      <td>6257091030810624</td>\n      <td>2023-08-09</td>\n      <td>None</td>\n      <td>None</td>\n      <td>Smart</td>\n      <td>Mensal</td>\n      <td>Boleto</td>\n      <td>Em Ativação</td>\n      <td>317.00</td>\n      <td>0.00</td>\n      <td>317.00</td>\n    </tr>\n    <tr>\n      <th>6858</th>\n      <td>4920083951910912</td>\n      <td>2023-08-09</td>\n      <td>None</td>\n      <td>None</td>\n      <td>Smart</td>\n      <td>Mensal</td>\n      <td>Boleto</td>\n      <td>Em Ativação</td>\n      <td>317.00</td>\n      <td>0.00</td>\n      <td>317.00</td>\n    </tr>\n    <tr>\n      <th>6859</th>\n      <td>4888634724974592</td>\n      <td>2023-08-09</td>\n      <td>None</td>\n      <td>None</td>\n      <td>Smart</td>\n      <td>Mensal</td>\n      <td>Boleto</td>\n      <td>Em Ativação</td>\n      <td>317.00</td>\n      <td>0.00</td>\n      <td>317.00</td>\n    </tr>\n    <tr>\n      <th>6860</th>\n      <td>6313746481283072</td>\n      <td>2023-08-09</td>\n      <td>None</td>\n      <td>None</td>\n      <td>VIP</td>\n      <td>Mensal</td>\n      <td>Boleto</td>\n      <td>Em Ativação</td>\n      <td>997.00</td>\n      <td>35.23</td>\n      <td>961.77</td>\n    </tr>\n  </tbody>\n</table>\n<p>6861 rows × 11 columns</p>\n</div>"
          },
          "metadata": {}
        }
      ],
      "execution_count": null,
      "block_group": "294f8d43e7864998b8f982d8782f6ba1"
    },
    {
      "cell_type": "code",
      "source": "df_2 = _deepnote_execute_sql('SELECT d1.*\\nFROM df_1 d1\\njoin df_3 d3 on d1.api_key = d3.api_key\\nlimit 15\\noffset 6', 'SQL_DEEPNOTE_DATAFRAME_SQL', audit_sql_comment='', sql_cache_mode='cache_disabled')\ndf_2",
      "metadata": {
        "source_hash": null,
        "execution_start": 1691596628352,
        "execution_millis": 386,
        "sql_integration_id": "deepnote-dataframe-sql",
        "deepnote_variable_name": "df_2",
        "deepnote_to_be_reexecuted": false,
        "cell_id": "72466b37907742d48ce85997ba2af9dd",
        "deepnote_cell_type": "sql",
        "deepnote_sql_source": "SELECT d1.*\nFROM df_1 d1\njoin df_3 d3 on d1.api_key = d3.api_key\nlimit 15\noffset 6"
      },
      "outputs": [
        {
          "data": {
            "application/vnd.deepnote.sql-output-metadata+json": {
              "status": "success_no_cache",
              "size_in_bytes": 7982
            }
          },
          "metadata": {},
          "output_type": "display_data"
        },
        {
          "output_type": "execute_result",
          "execution_count": 8,
          "data": {
            "application/vnd.deepnote.dataframe.v3+json": {
              "column_count": 11,
              "row_count": 15,
              "columns": [
                {
                  "name": "api_key",
                  "dtype": "object",
                  "stats": {
                    "unique_count": 15,
                    "nan_count": 0,
                    "categories": [
                      {
                        "name": "5633064340291584",
                        "count": 1
                      },
                      {
                        "name": "6208840676671488",
                        "count": 1
                      },
                      {
                        "name": "13 others",
                        "count": 13
                      }
                    ]
                  }
                },
                {
                  "name": "inicio_data",
                  "dtype": "object",
                  "stats": {
                    "unique_count": 7,
                    "nan_count": 0,
                    "categories": [
                      {
                        "name": "2017-04-20",
                        "count": 8
                      },
                      {
                        "name": "2017-04-06",
                        "count": 2
                      },
                      {
                        "name": "5 others",
                        "count": 5
                      }
                    ]
                  }
                },
                {
                  "name": "cancto_data",
                  "dtype": "object",
                  "stats": {
                    "unique_count": 1,
                    "nan_count": 14,
                    "categories": [
                      {
                        "name": "2017-04-17",
                        "count": 1
                      },
                      {
                        "name": "Missing",
                        "count": 14
                      }
                    ]
                  }
                },
                {
                  "name": "cancto_motivo",
                  "dtype": "object",
                  "stats": {
                    "unique_count": 0,
                    "nan_count": 15,
                    "categories": [
                      {
                        "name": "Missing",
                        "count": 15
                      }
                    ]
                  }
                },
                {
                  "name": "plano",
                  "dtype": "object",
                  "stats": {
                    "unique_count": 2,
                    "nan_count": 0,
                    "categories": [
                      {
                        "name": "Astrea Starter Padrão 67 / 30",
                        "count": 10
                      },
                      {
                        "name": "Astrea Pro 257 / 45",
                        "count": 5
                      }
                    ]
                  }
                },
                {
                  "name": "periodicidade",
                  "dtype": "object",
                  "stats": {
                    "unique_count": 3,
                    "nan_count": 0,
                    "categories": [
                      {
                        "name": "Mensal",
                        "count": 9
                      },
                      {
                        "name": "Semestral",
                        "count": 4
                      },
                      {
                        "name": "Anual",
                        "count": 2
                      }
                    ]
                  }
                },
                {
                  "name": "forma_pagamento",
                  "dtype": "object",
                  "stats": {
                    "unique_count": 2,
                    "nan_count": 0,
                    "categories": [
                      {
                        "name": "Cartão",
                        "count": 12
                      },
                      {
                        "name": "Boleto",
                        "count": 3
                      }
                    ]
                  }
                },
                {
                  "name": "status",
                  "dtype": "object",
                  "stats": {
                    "unique_count": 2,
                    "nan_count": 0,
                    "categories": [
                      {
                        "name": "Ativo",
                        "count": 13
                      },
                      {
                        "name": "Em Ativação",
                        "count": 2
                      }
                    ]
                  }
                },
                {
                  "name": "vr_contrato_total_sem_cupons",
                  "dtype": "float64",
                  "stats": {
                    "unique_count": 14,
                    "nan_count": 0,
                    "min": "67.0",
                    "max": "4641.0",
                    "histogram": [
                      {
                        "bin_start": 67,
                        "bin_end": 524.4,
                        "count": 9
                      },
                      {
                        "bin_start": 524.4,
                        "bin_end": 981.8,
                        "count": 1
                      },
                      {
                        "bin_start": 981.8,
                        "bin_end": 1439.1999999999998,
                        "count": 1
                      },
                      {
                        "bin_start": 1439.1999999999998,
                        "bin_end": 1896.6,
                        "count": 1
                      },
                      {
                        "bin_start": 1896.6,
                        "bin_end": 2354,
                        "count": 0
                      },
                      {
                        "bin_start": 2354,
                        "bin_end": 2811.3999999999996,
                        "count": 0
                      },
                      {
                        "bin_start": 2811.3999999999996,
                        "bin_end": 3268.7999999999997,
                        "count": 1
                      },
                      {
                        "bin_start": 3268.7999999999997,
                        "bin_end": 3726.2,
                        "count": 1
                      },
                      {
                        "bin_start": 3726.2,
                        "bin_end": 4183.599999999999,
                        "count": 0
                      },
                      {
                        "bin_start": 4183.599999999999,
                        "bin_end": 4641,
                        "count": 1
                      }
                    ]
                  }
                },
                {
                  "name": "vr_cupons_ativos_total",
                  "dtype": "float64",
                  "stats": {
                    "unique_count": 1,
                    "nan_count": 0,
                    "min": "0.0",
                    "max": "0.0",
                    "histogram": [
                      {
                        "bin_start": -0.5,
                        "bin_end": -0.4,
                        "count": 0
                      },
                      {
                        "bin_start": -0.4,
                        "bin_end": -0.3,
                        "count": 0
                      },
                      {
                        "bin_start": -0.3,
                        "bin_end": -0.19999999999999996,
                        "count": 0
                      },
                      {
                        "bin_start": -0.19999999999999996,
                        "bin_end": -0.09999999999999998,
                        "count": 0
                      },
                      {
                        "bin_start": -0.09999999999999998,
                        "bin_end": 0,
                        "count": 0
                      },
                      {
                        "bin_start": 0,
                        "bin_end": 0.10000000000000009,
                        "count": 15
                      },
                      {
                        "bin_start": 0.10000000000000009,
                        "bin_end": 0.20000000000000007,
                        "count": 0
                      },
                      {
                        "bin_start": 0.20000000000000007,
                        "bin_end": 0.30000000000000004,
                        "count": 0
                      },
                      {
                        "bin_start": 0.30000000000000004,
                        "bin_end": 0.4,
                        "count": 0
                      },
                      {
                        "bin_start": 0.4,
                        "bin_end": 0.5,
                        "count": 0
                      }
                    ]
                  }
                },
                {
                  "name": "vr_contrato_total_com_cupons",
                  "dtype": "float64",
                  "stats": {
                    "unique_count": 14,
                    "nan_count": 0,
                    "min": "67.0",
                    "max": "4641.0",
                    "histogram": [
                      {
                        "bin_start": 67,
                        "bin_end": 524.4,
                        "count": 9
                      },
                      {
                        "bin_start": 524.4,
                        "bin_end": 981.8,
                        "count": 1
                      },
                      {
                        "bin_start": 981.8,
                        "bin_end": 1439.1999999999998,
                        "count": 1
                      },
                      {
                        "bin_start": 1439.1999999999998,
                        "bin_end": 1896.6,
                        "count": 1
                      },
                      {
                        "bin_start": 1896.6,
                        "bin_end": 2354,
                        "count": 0
                      },
                      {
                        "bin_start": 2354,
                        "bin_end": 2811.3999999999996,
                        "count": 0
                      },
                      {
                        "bin_start": 2811.3999999999996,
                        "bin_end": 3268.7999999999997,
                        "count": 1
                      },
                      {
                        "bin_start": 3268.7999999999997,
                        "bin_end": 3726.2,
                        "count": 1
                      },
                      {
                        "bin_start": 3726.2,
                        "bin_end": 4183.599999999999,
                        "count": 0
                      },
                      {
                        "bin_start": 4183.599999999999,
                        "bin_end": 4641,
                        "count": 1
                      }
                    ]
                  }
                },
                {
                  "name": "_deepnote_index_column",
                  "dtype": "int64"
                }
              ],
              "rows": [
                {
                  "api_key": "5633064340291584",
                  "inicio_data": "2017-04-06",
                  "cancto_data": "None",
                  "cancto_motivo": "None",
                  "plano": "Astrea Starter Padrão 67 / 30",
                  "periodicidade": "Semestral",
                  "forma_pagamento": "Cartão",
                  "status": "Ativo",
                  "vr_contrato_total_sem_cupons": 1322.4,
                  "vr_cupons_ativos_total": 0,
                  "vr_contrato_total_com_cupons": 1322.4,
                  "_deepnote_index_column": 0
                },
                {
                  "api_key": "6208840676671488",
                  "inicio_data": "2017-04-06",
                  "cancto_data": "None",
                  "cancto_motivo": "None",
                  "plano": "Astrea Starter Padrão 67 / 30",
                  "periodicidade": "Mensal",
                  "forma_pagamento": "Cartão",
                  "status": "Ativo",
                  "vr_contrato_total_sem_cupons": 382,
                  "vr_cupons_ativos_total": 0,
                  "vr_contrato_total_com_cupons": 382,
                  "_deepnote_index_column": 1
                },
                {
                  "api_key": "6139391860801536",
                  "inicio_data": "2017-04-10",
                  "cancto_data": "None",
                  "cancto_motivo": "None",
                  "plano": "Astrea Starter Padrão 67 / 30",
                  "periodicidade": "Mensal",
                  "forma_pagamento": "Boleto",
                  "status": "Em Ativação",
                  "vr_contrato_total_sem_cupons": 381.9,
                  "vr_cupons_ativos_total": 0,
                  "vr_contrato_total_com_cupons": 381.9,
                  "_deepnote_index_column": 2
                },
                {
                  "api_key": "4862106167934976",
                  "inicio_data": "2017-04-11",
                  "cancto_data": "None",
                  "cancto_motivo": "None",
                  "plano": "Astrea Starter Padrão 67 / 30",
                  "periodicidade": "Semestral",
                  "forma_pagamento": "Cartão",
                  "status": "Ativo",
                  "vr_contrato_total_sem_cupons": 381.9,
                  "vr_cupons_ativos_total": 0,
                  "vr_contrato_total_com_cupons": 381.9,
                  "_deepnote_index_column": 3
                },
                {
                  "api_key": "5176017274535936",
                  "inicio_data": "2017-04-12",
                  "cancto_data": "None",
                  "cancto_motivo": "None",
                  "plano": "Astrea Starter Padrão 67 / 30",
                  "periodicidade": "Mensal",
                  "forma_pagamento": "Cartão",
                  "status": "Ativo",
                  "vr_contrato_total_sem_cupons": 67,
                  "vr_cupons_ativos_total": 0,
                  "vr_contrato_total_com_cupons": 67,
                  "_deepnote_index_column": 4
                },
                {
                  "api_key": "5672117672607744",
                  "inicio_data": "2017-04-20",
                  "cancto_data": "2017-04-17",
                  "cancto_motivo": "None",
                  "plano": "Astrea Starter Padrão 67 / 30",
                  "periodicidade": "Mensal",
                  "forma_pagamento": "Boleto",
                  "status": "Ativo",
                  "vr_contrato_total_sem_cupons": 283.01,
                  "vr_cupons_ativos_total": 0,
                  "vr_contrato_total_com_cupons": 283.01,
                  "_deepnote_index_column": 5
                },
                {
                  "api_key": "5107403318099968",
                  "inicio_data": "2017-04-13",
                  "cancto_data": "None",
                  "cancto_motivo": "None",
                  "plano": "Astrea Starter Padrão 67 / 30",
                  "periodicidade": "Mensal",
                  "forma_pagamento": "Cartão",
                  "status": "Ativo",
                  "vr_contrato_total_sem_cupons": 102,
                  "vr_cupons_ativos_total": 0,
                  "vr_contrato_total_com_cupons": 102,
                  "_deepnote_index_column": 6
                },
                {
                  "api_key": "6295800074207232",
                  "inicio_data": "2017-04-18",
                  "cancto_data": "None",
                  "cancto_motivo": "None",
                  "plano": "Astrea Starter Padrão 67 / 30",
                  "periodicidade": "Mensal",
                  "forma_pagamento": "Cartão",
                  "status": "Ativo",
                  "vr_contrato_total_sem_cupons": 122,
                  "vr_cupons_ativos_total": 0,
                  "vr_contrato_total_com_cupons": 122,
                  "_deepnote_index_column": 7
                },
                {
                  "api_key": "5633190504955904",
                  "inicio_data": "2017-04-20",
                  "cancto_data": "None",
                  "cancto_motivo": "None",
                  "plano": "Astrea Starter Padrão 67 / 30",
                  "periodicidade": "Mensal",
                  "forma_pagamento": "Cartão",
                  "status": "Ativo",
                  "vr_contrato_total_sem_cupons": 177,
                  "vr_cupons_ativos_total": 0,
                  "vr_contrato_total_com_cupons": 177,
                  "_deepnote_index_column": 8
                },
                {
                  "api_key": "4901912193269760",
                  "inicio_data": "2017-04-20",
                  "cancto_data": "None",
                  "cancto_motivo": "None",
                  "plano": "Astrea Pro 257 / 45",
                  "periodicidade": "Anual",
                  "forma_pagamento": "Cartão",
                  "status": "Ativo",
                  "vr_contrato_total_sem_cupons": 4641,
                  "vr_cupons_ativos_total": 0,
                  "vr_contrato_total_com_cupons": 4641,
                  "_deepnote_index_column": 9
                }
              ]
            },
            "text/plain": "             api_key inicio_data cancto_data cancto_motivo  \\\n0   5633064340291584  2017-04-06        None          None   \n1   6208840676671488  2017-04-06        None          None   \n2   6139391860801536  2017-04-10        None          None   \n3   4862106167934976  2017-04-11        None          None   \n4   5176017274535936  2017-04-12        None          None   \n5   5672117672607744  2017-04-20  2017-04-17          None   \n6   5107403318099968  2017-04-13        None          None   \n7   6295800074207232  2017-04-18        None          None   \n8   5633190504955904  2017-04-20        None          None   \n9   4901912193269760  2017-04-20        None          None   \n10  5637191535427584  2017-04-20        None          None   \n11  5665952515489792  2017-04-20        None          None   \n12  6305054118117376  2017-04-20        None          None   \n13  5636420857233408  2017-04-20        None          None   \n14  6323934794350592  2017-04-20        None          None   \n\n                            plano periodicidade forma_pagamento       status  \\\n0   Astrea Starter Padrão 67 / 30     Semestral          Cartão        Ativo   \n1   Astrea Starter Padrão 67 / 30        Mensal          Cartão        Ativo   \n2   Astrea Starter Padrão 67 / 30        Mensal          Boleto  Em Ativação   \n3   Astrea Starter Padrão 67 / 30     Semestral          Cartão        Ativo   \n4   Astrea Starter Padrão 67 / 30        Mensal          Cartão        Ativo   \n5   Astrea Starter Padrão 67 / 30        Mensal          Boleto        Ativo   \n6   Astrea Starter Padrão 67 / 30        Mensal          Cartão        Ativo   \n7   Astrea Starter Padrão 67 / 30        Mensal          Cartão        Ativo   \n8   Astrea Starter Padrão 67 / 30        Mensal          Cartão        Ativo   \n9             Astrea Pro 257 / 45         Anual          Cartão        Ativo   \n10  Astrea Starter Padrão 67 / 30     Semestral          Cartão        Ativo   \n11            Astrea Pro 257 / 45     Semestral          Cartão        Ativo   \n12            Astrea Pro 257 / 45         Anual          Cartão        Ativo   \n13            Astrea Pro 257 / 45        Mensal          Boleto        Ativo   \n14            Astrea Pro 257 / 45        Mensal          Cartão  Em Ativação   \n\n    vr_contrato_total_sem_cupons  vr_cupons_ativos_total  \\\n0                        1322.40                     0.0   \n1                         382.00                     0.0   \n2                         381.90                     0.0   \n3                         381.90                     0.0   \n4                          67.00                     0.0   \n5                         283.01                     0.0   \n6                         102.00                     0.0   \n7                         122.00                     0.0   \n8                         177.00                     0.0   \n9                        4641.00                     0.0   \n10                       1711.80                     0.0   \n11                       2953.80                     0.0   \n12                       3590.40                     0.0   \n13                        861.87                     0.0   \n14                        297.00                     0.0   \n\n    vr_contrato_total_com_cupons  \n0                        1322.40  \n1                         382.00  \n2                         381.90  \n3                         381.90  \n4                          67.00  \n5                         283.01  \n6                         102.00  \n7                         122.00  \n8                         177.00  \n9                        4641.00  \n10                       1711.80  \n11                       2953.80  \n12                       3590.40  \n13                        861.87  \n14                        297.00  ",
            "text/html": "<div>\n<style scoped>\n    .dataframe tbody tr th:only-of-type {\n        vertical-align: middle;\n    }\n\n    .dataframe tbody tr th {\n        vertical-align: top;\n    }\n\n    .dataframe thead th {\n        text-align: right;\n    }\n</style>\n<table border=\"1\" class=\"dataframe\">\n  <thead>\n    <tr style=\"text-align: right;\">\n      <th></th>\n      <th>api_key</th>\n      <th>inicio_data</th>\n      <th>cancto_data</th>\n      <th>cancto_motivo</th>\n      <th>plano</th>\n      <th>periodicidade</th>\n      <th>forma_pagamento</th>\n      <th>status</th>\n      <th>vr_contrato_total_sem_cupons</th>\n      <th>vr_cupons_ativos_total</th>\n      <th>vr_contrato_total_com_cupons</th>\n    </tr>\n  </thead>\n  <tbody>\n    <tr>\n      <th>0</th>\n      <td>5633064340291584</td>\n      <td>2017-04-06</td>\n      <td>None</td>\n      <td>None</td>\n      <td>Astrea Starter Padrão 67 / 30</td>\n      <td>Semestral</td>\n      <td>Cartão</td>\n      <td>Ativo</td>\n      <td>1322.40</td>\n      <td>0.0</td>\n      <td>1322.40</td>\n    </tr>\n    <tr>\n      <th>1</th>\n      <td>6208840676671488</td>\n      <td>2017-04-06</td>\n      <td>None</td>\n      <td>None</td>\n      <td>Astrea Starter Padrão 67 / 30</td>\n      <td>Mensal</td>\n      <td>Cartão</td>\n      <td>Ativo</td>\n      <td>382.00</td>\n      <td>0.0</td>\n      <td>382.00</td>\n    </tr>\n    <tr>\n      <th>2</th>\n      <td>6139391860801536</td>\n      <td>2017-04-10</td>\n      <td>None</td>\n      <td>None</td>\n      <td>Astrea Starter Padrão 67 / 30</td>\n      <td>Mensal</td>\n      <td>Boleto</td>\n      <td>Em Ativação</td>\n      <td>381.90</td>\n      <td>0.0</td>\n      <td>381.90</td>\n    </tr>\n    <tr>\n      <th>3</th>\n      <td>4862106167934976</td>\n      <td>2017-04-11</td>\n      <td>None</td>\n      <td>None</td>\n      <td>Astrea Starter Padrão 67 / 30</td>\n      <td>Semestral</td>\n      <td>Cartão</td>\n      <td>Ativo</td>\n      <td>381.90</td>\n      <td>0.0</td>\n      <td>381.90</td>\n    </tr>\n    <tr>\n      <th>4</th>\n      <td>5176017274535936</td>\n      <td>2017-04-12</td>\n      <td>None</td>\n      <td>None</td>\n      <td>Astrea Starter Padrão 67 / 30</td>\n      <td>Mensal</td>\n      <td>Cartão</td>\n      <td>Ativo</td>\n      <td>67.00</td>\n      <td>0.0</td>\n      <td>67.00</td>\n    </tr>\n    <tr>\n      <th>5</th>\n      <td>5672117672607744</td>\n      <td>2017-04-20</td>\n      <td>2017-04-17</td>\n      <td>None</td>\n      <td>Astrea Starter Padrão 67 / 30</td>\n      <td>Mensal</td>\n      <td>Boleto</td>\n      <td>Ativo</td>\n      <td>283.01</td>\n      <td>0.0</td>\n      <td>283.01</td>\n    </tr>\n    <tr>\n      <th>6</th>\n      <td>5107403318099968</td>\n      <td>2017-04-13</td>\n      <td>None</td>\n      <td>None</td>\n      <td>Astrea Starter Padrão 67 / 30</td>\n      <td>Mensal</td>\n      <td>Cartão</td>\n      <td>Ativo</td>\n      <td>102.00</td>\n      <td>0.0</td>\n      <td>102.00</td>\n    </tr>\n    <tr>\n      <th>7</th>\n      <td>6295800074207232</td>\n      <td>2017-04-18</td>\n      <td>None</td>\n      <td>None</td>\n      <td>Astrea Starter Padrão 67 / 30</td>\n      <td>Mensal</td>\n      <td>Cartão</td>\n      <td>Ativo</td>\n      <td>122.00</td>\n      <td>0.0</td>\n      <td>122.00</td>\n    </tr>\n    <tr>\n      <th>8</th>\n      <td>5633190504955904</td>\n      <td>2017-04-20</td>\n      <td>None</td>\n      <td>None</td>\n      <td>Astrea Starter Padrão 67 / 30</td>\n      <td>Mensal</td>\n      <td>Cartão</td>\n      <td>Ativo</td>\n      <td>177.00</td>\n      <td>0.0</td>\n      <td>177.00</td>\n    </tr>\n    <tr>\n      <th>9</th>\n      <td>4901912193269760</td>\n      <td>2017-04-20</td>\n      <td>None</td>\n      <td>None</td>\n      <td>Astrea Pro 257 / 45</td>\n      <td>Anual</td>\n      <td>Cartão</td>\n      <td>Ativo</td>\n      <td>4641.00</td>\n      <td>0.0</td>\n      <td>4641.00</td>\n    </tr>\n    <tr>\n      <th>10</th>\n      <td>5637191535427584</td>\n      <td>2017-04-20</td>\n      <td>None</td>\n      <td>None</td>\n      <td>Astrea Starter Padrão 67 / 30</td>\n      <td>Semestral</td>\n      <td>Cartão</td>\n      <td>Ativo</td>\n      <td>1711.80</td>\n      <td>0.0</td>\n      <td>1711.80</td>\n    </tr>\n    <tr>\n      <th>11</th>\n      <td>5665952515489792</td>\n      <td>2017-04-20</td>\n      <td>None</td>\n      <td>None</td>\n      <td>Astrea Pro 257 / 45</td>\n      <td>Semestral</td>\n      <td>Cartão</td>\n      <td>Ativo</td>\n      <td>2953.80</td>\n      <td>0.0</td>\n      <td>2953.80</td>\n    </tr>\n    <tr>\n      <th>12</th>\n      <td>6305054118117376</td>\n      <td>2017-04-20</td>\n      <td>None</td>\n      <td>None</td>\n      <td>Astrea Pro 257 / 45</td>\n      <td>Anual</td>\n      <td>Cartão</td>\n      <td>Ativo</td>\n      <td>3590.40</td>\n      <td>0.0</td>\n      <td>3590.40</td>\n    </tr>\n    <tr>\n      <th>13</th>\n      <td>5636420857233408</td>\n      <td>2017-04-20</td>\n      <td>None</td>\n      <td>None</td>\n      <td>Astrea Pro 257 / 45</td>\n      <td>Mensal</td>\n      <td>Boleto</td>\n      <td>Ativo</td>\n      <td>861.87</td>\n      <td>0.0</td>\n      <td>861.87</td>\n    </tr>\n    <tr>\n      <th>14</th>\n      <td>6323934794350592</td>\n      <td>2017-04-20</td>\n      <td>None</td>\n      <td>None</td>\n      <td>Astrea Pro 257 / 45</td>\n      <td>Mensal</td>\n      <td>Cartão</td>\n      <td>Em Ativação</td>\n      <td>297.00</td>\n      <td>0.0</td>\n      <td>297.00</td>\n    </tr>\n  </tbody>\n</table>\n</div>"
          },
          "metadata": {}
        }
      ],
      "execution_count": null,
      "block_group": "72466b37907742d48ce85997ba2af9dd"
    },
    {
      "cell_type": "code",
      "source": "df = pd.read_csv('result_set.csv', index_col=0)\n\nfor index, row in df_2.iterrows():\n\n    # Obter tenant do registro:\n    tenant = str(int(row[0]))\n\n    # Simular valores base e de desconto do plano com o módulo random\n\n    coupon = round(random.uniform(0, 100), 3)\n\n    if row[5] == \"Mensal\":\n        baseValue = 175\n        discount = coupon\n    elif row[5] == \"Semestral\":\n        baseValue = 175 * 6\n        discount = coupon * 6\n    else:\n        baseValue = 175 * 12\n        discount = coupon * 12\n\n    # Configurar payload para a requisição POST\n\n    payload = json.dumps(\n        {\n            \"tenantId\": tenant,\n            \"editionType\": \"COMPANY\",\n            \"baseValue\": baseValue,\n            \"discount\": discount,\n        }\n    )\n\n    # Configurar Headers\n\n    headers = {\"Authorization\": auth, \"Content-Type\": \"application/json\"}\n\n    # Realizar requisição HTTP\n\n    response = requests.request(\"POST\", url, headers=headers, data=payload)\n\n    # Estruturar informações do teste\n\n    test = [\n        f\"{tenant}\",\n        f\"{row[4]}\",\n        f\"{row[5]}\",\n        f\"{row[6]}\",\n        f\"{row[7]}\",\n        f\"{row[8]}\",\n        f\"{row[9]}\",\n        f\"{row[10]}\",\n        tenant,\n        edition_type,\n        baseValue,\n        discount,\n        response.elapsed.total_seconds(),\n        response.status_code,\n        response.text\n    ]\n    df.loc[len(df)] = test",
      "metadata": {
        "source_hash": null,
        "execution_start": 1691596771061,
        "execution_millis": 67919,
        "is_output_hidden": false,
        "deepnote_to_be_reexecuted": false,
        "deepnote_app_is_output_hidden": true,
        "cell_id": "bf238c7a862840de86510858d577bac6",
        "deepnote_cell_type": "code"
      },
      "outputs": [],
      "execution_count": null,
      "block_group": "bf238c7a862840de86510858d577bac6"
    },
    {
      "cell_type": "code",
      "source": "df.to_csv('result_set.csv')",
      "metadata": {
        "source_hash": null,
        "execution_start": 1691596854945,
        "execution_millis": 13,
        "deepnote_to_be_reexecuted": false,
        "cell_id": "36fd727ff42c4678b8286212bb431fad",
        "deepnote_cell_type": "code"
      },
      "outputs": [],
      "execution_count": null,
      "block_group": "36fd727ff42c4678b8286212bb431fad"
    },
    {
      "cell_type": "markdown",
      "source": "<a style='text-decoration:none;line-height:16px;display:flex;color:#5B5B62;padding:10px;justify-content:end;' href='https://deepnote.com?utm_source=created-in-deepnote-cell&projectId=a6aa03ff-9a9e-4b1a-a1ec-ff555e98a018' target=\"_blank\">\n<img alt='Created in deepnote.com' style='display:inline;max-height:16px;margin:0px;margin-right:7.5px;' src='data:image/svg+xml;base64,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' > </img>\nCreated in <span style='font-weight:600;margin-left:4px;'>Deepnote</span></a>",
      "metadata": {
        "created_in_deepnote_cell": true,
        "deepnote_cell_type": "markdown"
      }
    }
  ],
  "nbformat": 4,
  "nbformat_minor": 0,
  "metadata": {
    "deepnote": {},
    "orig_nbformat": 2,
    "deepnote_notebook_id": "f2d9c44fc1b54a2f85da86c30ded0cd7",
    "deepnote_persisted_session": {
      "createdAt": "2023-08-09T16:31:48.976Z"
    },
    "deepnote_execution_queue": []
  }
}